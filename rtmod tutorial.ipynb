{
 "cells": [
  {
   "cell_type": "markdown",
   "id": "cc6b1b66",
   "metadata": {},
   "source": [
    "# Overview\n",
    "\n",
    "**rtmod** is a python repository for approximating the route modulus for directed, simple graphs. The packages in this repository are dependent on *igraph* and *numpy*, so if you have not already, install them by running the appropriate pip commands.\n"
   ]
  },
  {
   "cell_type": "markdown",
   "id": "0ced2a10",
   "metadata": {},
   "source": [
    "This notebook is meant to be a comprehensive overview of the main functionality of the packages in rtmod, how they work, and how to use them. Specifically, we will review the methods of the mfrpy and pmodpy packages."
   ]
  },
  {
   "cell_type": "markdown",
   "id": "1d0418b8",
   "metadata": {},
   "source": [
    "## Motivation\n",
    "Conventional shortest-path algorithms are extremely refined and efficient. However, they are not necessarily applicable to the modeling of all types of networks. Cell signal transduction networks constitute one such example. In these instances, connections between subcomponents can be represented as directed edges, but there is no standardized representation for certain relationships between components, specifically those of conditional dependence of some components on others (synergy) and the inhibitory actions of components on the network. Taking these notions into account, our interest shifts from finding the shortest path from a source node to a target node to obtaining a collection of *minimal functional routes* by which a signal can travel from source to target, given the relationships between vertices in the network. One of the core aims of this project is capturing these important relationships graphically in order to better represent these important systems. In order to do this, we deal with *expanded graphs*, which are signal transduction networks that have been expanded (see below) to make computational algorithms more straightforward by requiring less annotation and fewer conditional steps along the way. We draw heavily from ideas presented by Reka Albert and colleagues at the University of Kansas, who have layed much of the theoretical groundwork for these concepts.\n",
    "\n",
    "### Synergy\n",
    "A regular (activating) connection between two components of a signal transduction network can be represented by a directed edge between two nodes on the graph of the network. But how can we capture the fact that some components are only activated when two (or more) of its predecessors are activated in tandem? This is where the concept of synergy comes in. When the activation of a component is conditionally dependent on the simultaneous activation of several other components, the component's corresponding node on the graph is said to have a synergistic set of predeccessors consisting of precisely the nodes of the conditional components. Alternatively, we can say that the edges between these nodes have the same synergy value, which is the method by which this charecteristic is employed in the actual algorithm. \n",
    "\n",
    "### Inhibition\n",
    "It is often the case in practical cell transduction networks that one component inhibits the activation of another. This too, can be captured graphically. A certain node can be inhibited by one of its predeccessors, so instead of drawing an activating edge between them we might want to consider calling the edge between them inhibitory. More generally, we can map every edge of the graph to the binary group, so that every edge mapped to 1 is considered inhibitory and all others are normall activating edges.\n",
    "\n",
    "### Theoretical Work\n",
    "How do we represent attributes such as synergy and inhibition graphically? One way we may try is by adding new conventions, such as dashed and barred edges, but this is largely unintuitive and can lead to ambiguity and confusion. Instead, we can transform the entire graph with the appropriate attributes into an \"expanded\" version of itself - a directed graph with only activating edges but with no ambiguity as to what components are synergistic and which are inhibitory. This is done by introducing new vertices: composite and inhibitory nodes. Composite nodes link a conditionally dependent node to its synergistic set of predecessors, while inhibitory nodes are activated when one component inhibits another. For example, if A inhibits B, we can also say that NOT A activates B AND A activates NOT B. By employing these tricks we can circumvent possible confusion and create programs which are capable of working with these notions.\n",
    "\n",
    "### Practical Networks\n",
    "To illustrate the full functionality, we will implement the package on several real-world networks, including..."
   ]
  },
  {
   "cell_type": "markdown",
   "id": "c1885c47",
   "metadata": {},
   "source": [
    "## mfrpy\n",
    "\n",
    "mfrpy is a package for calculating the minimal functional routes of a given graph. \n",
    "\n",
    "### igraph objects\n",
    "The igraph package encodes graphs as operable python objects. Edges and vertices are encoded in lists, making it possible to iteritavely attach attributes to each element based on certain criteria. To familiarize ourselves with the format, we can initialize an example graph:\n"
   ]
  },
  {
   "cell_type": "code",
   "execution_count": 1,
   "id": "2f70ebf9",
   "metadata": {},
   "outputs": [
    {
     "data": {
      "image/svg+xml": [
       "<?xml version=\"1.0\" encoding=\"UTF-8\"?>\n",
       "<svg xmlns=\"http://www.w3.org/2000/svg\" xmlns:xlink=\"http://www.w3.org/1999/xlink\" width=\"300pt\" height=\"300pt\" viewBox=\"0 0 300 300\" version=\"1.1\">\n",
       "<defs>\n",
       "<g>\n",
       "<symbol overflow=\"visible\" id=\"glyph0-0\">\n",
       "<path style=\"stroke:none;\" d=\"M 1.75 0 L 1.75 -8.75 L 8.75 -8.75 L 8.75 0 Z M 1.96875 -0.21875 L 8.53125 -0.21875 L 8.53125 -8.53125 L 1.96875 -8.53125 Z M 1.96875 -0.21875 \"/>\n",
       "</symbol>\n",
       "<symbol overflow=\"visible\" id=\"glyph0-1\">\n",
       "<path style=\"stroke:none;\" d=\"M 0.929688 -8.605469 L 0.929688 -10.023438 L 2.160156 -10.023438 L 2.160156 -8.605469 Z M 0.929688 0 L 0.929688 -7.257813 L 2.160156 -7.257813 L 2.160156 0 Z M 0.929688 0 \"/>\n",
       "</symbol>\n",
       "<symbol overflow=\"visible\" id=\"glyph0-2\">\n",
       "<path style=\"stroke:none;\" d=\"M 5.660156 -0.894531 C 5.203125 -0.503906 4.761719 -0.230469 4.34375 -0.0742188 C 3.917969 0.0859375 3.46875 0.164063 2.988281 0.164063 C 2.1875 0.164063 1.574219 -0.0273438 1.148438 -0.417969 C 0.71875 -0.804688 0.503906 -1.304688 0.507813 -1.914063 C 0.503906 -2.265625 0.585938 -2.589844 0.75 -2.886719 C 0.910156 -3.179688 1.121094 -3.414063 1.382813 -3.59375 C 1.644531 -3.769531 1.9375 -3.90625 2.269531 -4 C 2.507813 -4.058594 2.875 -4.121094 3.363281 -4.183594 C 4.355469 -4.300781 5.085938 -4.441406 5.558594 -4.609375 C 5.558594 -4.773438 5.558594 -4.878906 5.5625 -4.929688 C 5.558594 -5.425781 5.445313 -5.78125 5.214844 -5.988281 C 4.898438 -6.265625 4.429688 -6.402344 3.8125 -6.40625 C 3.230469 -6.402344 2.804688 -6.300781 2.53125 -6.101563 C 2.253906 -5.894531 2.050781 -5.535156 1.921875 -5.023438 L 0.71875 -5.1875 C 0.824219 -5.699219 1.003906 -6.117188 1.257813 -6.433594 C 1.503906 -6.75 1.867188 -6.992188 2.34375 -7.164063 C 2.816406 -7.332031 3.363281 -7.417969 3.992188 -7.421875 C 4.609375 -7.417969 5.113281 -7.34375 5.503906 -7.203125 C 5.886719 -7.054688 6.171875 -6.871094 6.359375 -6.652344 C 6.539063 -6.429688 6.667969 -6.152344 6.742188 -5.816406 C 6.777344 -5.605469 6.796875 -5.226563 6.800781 -4.683594 L 6.800781 -3.042969 C 6.796875 -1.894531 6.824219 -1.171875 6.878906 -0.871094 C 6.933594 -0.566406 7.035156 -0.277344 7.191406 0 L 5.90625 0 C 5.777344 -0.253906 5.695313 -0.550781 5.660156 -0.894531 Z M 5.558594 -3.644531 C 5.109375 -3.460938 4.4375 -3.304688 3.546875 -3.179688 C 3.039063 -3.105469 2.683594 -3.023438 2.472656 -2.933594 C 2.261719 -2.839844 2.097656 -2.707031 1.988281 -2.53125 C 1.871094 -2.355469 1.816406 -2.160156 1.820313 -1.949219 C 1.816406 -1.617188 1.941406 -1.34375 2.191406 -1.128906 C 2.4375 -0.90625 2.800781 -0.796875 3.28125 -0.800781 C 3.753906 -0.796875 4.175781 -0.898438 4.546875 -1.109375 C 4.914063 -1.3125 5.183594 -1.597656 5.359375 -1.960938 C 5.488281 -2.238281 5.554688 -2.648438 5.558594 -3.191406 Z M 5.558594 -3.644531 \"/>\n",
       "</symbol>\n",
       "<symbol overflow=\"visible\" id=\"glyph0-3\">\n",
       "<path style=\"stroke:none;\" d=\"M 2.058594 0 L 0.914063 0 L 0.914063 -10.023438 L 2.148438 -10.023438 L 2.148438 -6.445313 C 2.664063 -7.09375 3.328125 -7.417969 4.136719 -7.421875 C 4.582031 -7.417969 5.003906 -7.328125 5.402344 -7.152344 C 5.800781 -6.96875 6.128906 -6.714844 6.386719 -6.394531 C 6.644531 -6.066406 6.84375 -5.675781 6.992188 -5.214844 C 7.132813 -4.753906 7.207031 -4.261719 7.210938 -3.738281 C 7.207031 -2.496094 6.898438 -1.535156 6.289063 -0.855469 C 5.671875 -0.175781 4.933594 0.164063 4.074219 0.164063 C 3.214844 0.164063 2.542969 -0.191406 2.058594 -0.910156 Z M 2.042969 -3.683594 C 2.039063 -2.8125 2.15625 -2.183594 2.398438 -1.796875 C 2.78125 -1.160156 3.308594 -0.84375 3.972656 -0.847656 C 4.507813 -0.84375 4.96875 -1.078125 5.363281 -1.546875 C 5.753906 -2.015625 5.953125 -2.710938 5.953125 -3.636719 C 5.953125 -4.582031 5.765625 -5.28125 5.390625 -5.734375 C 5.015625 -6.183594 4.558594 -6.410156 4.027344 -6.414063 C 3.484375 -6.410156 3.019531 -6.175781 2.628906 -5.710938 C 2.234375 -5.242188 2.039063 -4.566406 2.042969 -3.683594 Z M 2.042969 -3.683594 \"/>\n",
       "</symbol>\n",
       "<symbol overflow=\"visible\" id=\"glyph0-4\">\n",
       "<path style=\"stroke:none;\" d=\"M 5.660156 -2.660156 L 6.871094 -2.5 C 6.734375 -1.664063 6.394531 -1.011719 5.855469 -0.542969 C 5.308594 -0.0703125 4.640625 0.164063 3.847656 0.164063 C 2.851563 0.164063 2.054688 -0.160156 1.453125 -0.808594 C 0.847656 -1.457031 0.542969 -2.386719 0.546875 -3.601563 C 0.542969 -4.382813 0.675781 -5.070313 0.9375 -5.660156 C 1.195313 -6.246094 1.589844 -6.683594 2.121094 -6.980469 C 2.652344 -7.269531 3.230469 -7.417969 3.855469 -7.421875 C 4.644531 -7.417969 5.289063 -7.21875 5.789063 -6.824219 C 6.289063 -6.421875 6.609375 -5.855469 6.753906 -5.125 L 5.558594 -4.941406 C 5.441406 -5.425781 5.238281 -5.792969 4.953125 -6.042969 C 4.660156 -6.285156 4.3125 -6.410156 3.902344 -6.414063 C 3.28125 -6.410156 2.777344 -6.1875 2.390625 -5.746094 C 2.003906 -5.296875 1.808594 -4.59375 1.8125 -3.636719 C 1.808594 -2.65625 1.996094 -1.945313 2.371094 -1.507813 C 2.742188 -1.0625 3.230469 -0.84375 3.835938 -0.847656 C 4.316406 -0.84375 4.71875 -0.992188 5.042969 -1.289063 C 5.367188 -1.585938 5.574219 -2.042969 5.660156 -2.660156 Z M 5.660156 -2.660156 \"/>\n",
       "</symbol>\n",
       "<symbol overflow=\"visible\" id=\"glyph0-5\">\n",
       "<path style=\"stroke:none;\" d=\"M 5.632813 0 L 5.632813 -0.914063 C 5.167969 -0.195313 4.492188 0.164063 3.601563 0.164063 C 3.019531 0.164063 2.488281 0.0078125 2.003906 -0.3125 C 1.519531 -0.628906 1.140625 -1.074219 0.875 -1.648438 C 0.605469 -2.21875 0.472656 -2.878906 0.476563 -3.625 C 0.472656 -4.347656 0.59375 -5.003906 0.839844 -5.59375 C 1.078125 -6.183594 1.441406 -6.636719 1.925781 -6.949219 C 2.40625 -7.261719 2.945313 -7.417969 3.546875 -7.421875 C 3.980469 -7.417969 4.371094 -7.324219 4.714844 -7.144531 C 5.054688 -6.957031 5.332031 -6.71875 5.550781 -6.425781 L 5.550781 -10.023438 L 6.773438 -10.023438 L 6.773438 0 Z M 1.742188 -3.625 C 1.738281 -2.691406 1.933594 -1.996094 2.328125 -1.535156 C 2.71875 -1.074219 3.183594 -0.84375 3.71875 -0.847656 C 4.253906 -0.84375 4.710938 -1.0625 5.085938 -1.507813 C 5.460938 -1.945313 5.648438 -2.617188 5.652344 -3.519531 C 5.648438 -4.511719 5.457031 -5.242188 5.078125 -5.707031 C 4.691406 -6.171875 4.21875 -6.402344 3.664063 -6.40625 C 3.113281 -6.402344 2.65625 -6.179688 2.292969 -5.734375 C 1.921875 -5.285156 1.738281 -4.582031 1.742188 -3.625 Z M 1.742188 -3.625 \"/>\n",
       "</symbol>\n",
       "<symbol overflow=\"visible\" id=\"glyph0-6\">\n",
       "<path style=\"stroke:none;\" d=\"M 0.464844 -3.628906 C 0.460938 -4.972656 0.835938 -5.96875 1.585938 -6.617188 C 2.207031 -7.148438 2.96875 -7.417969 3.867188 -7.421875 C 4.867188 -7.417969 5.683594 -7.089844 6.316406 -6.441406 C 6.949219 -5.785156 7.265625 -4.882813 7.265625 -3.734375 C 7.265625 -2.796875 7.125 -2.0625 6.84375 -1.527344 C 6.5625 -0.992188 6.152344 -0.578125 5.621094 -0.28125 C 5.082031 0.015625 4.5 0.164063 3.867188 0.164063 C 2.851563 0.164063 2.027344 -0.160156 1.402344 -0.8125 C 0.773438 -1.460938 0.460938 -2.398438 0.464844 -3.628906 Z M 1.730469 -3.628906 C 1.726563 -2.695313 1.929688 -2 2.335938 -1.539063 C 2.738281 -1.074219 3.25 -0.84375 3.867188 -0.847656 C 4.476563 -0.84375 4.984375 -1.074219 5.390625 -1.542969 C 5.796875 -2.003906 6 -2.714844 6 -3.671875 C 6 -4.566406 5.792969 -5.246094 5.386719 -5.710938 C 4.976563 -6.171875 4.472656 -6.402344 3.867188 -6.40625 C 3.25 -6.402344 2.738281 -6.171875 2.335938 -5.714844 C 1.929688 -5.25 1.726563 -4.554688 1.730469 -3.628906 Z M 1.730469 -3.628906 \"/>\n",
       "</symbol>\n",
       "</g>\n",
       "</defs>\n",
       "<g id=\"surface2\">\n",
       "<rect x=\"0\" y=\"0\" width=\"300\" height=\"300\" style=\"fill:rgb(100%,100%,100%);fill-opacity:1;stroke:none;\"/>\n",
       "<path style=\"fill:none;stroke-width:1;stroke-linecap:butt;stroke-linejoin:miter;stroke:rgb(26.666667%,26.666667%,26.666667%);stroke-opacity:1;stroke-miterlimit:10;\" d=\"M 21.480469 185.867188 L 20.199219 82.597656 \"/>\n",
       "<path style=\" stroke:none;fill-rule:nonzero;fill:rgb(26.666667%,26.666667%,26.666667%);fill-opacity:1;\" d=\"M 20.113281 75.464844 L 22.515625 82.570313 L 17.882813 82.628906 L 20.113281 75.464844 \"/>\n",
       "<path style=\"fill:none;stroke-width:1;stroke-linecap:butt;stroke-linejoin:miter;stroke:rgb(26.666667%,26.666667%,26.666667%);stroke-opacity:1;stroke-miterlimit:10;\" d=\"M 21.480469 185.867188 L 55.792969 264.464844 \"/>\n",
       "<path style=\" stroke:none;fill-rule:nonzero;fill:rgb(26.666667%,26.666667%,26.666667%);fill-opacity:1;\" d=\"M 58.648438 271 L 53.671875 265.390625 L 57.917969 263.535156 L 58.648438 271 \"/>\n",
       "<path style=\"fill:none;stroke-width:1;stroke-linecap:butt;stroke-linejoin:miter;stroke:rgb(26.666667%,26.666667%,26.666667%);stroke-opacity:1;stroke-miterlimit:10;\" d=\"M 21.480469 185.867188 L 79.902344 148.515625 \"/>\n",
       "<path style=\" stroke:none;fill-rule:nonzero;fill:rgb(26.666667%,26.666667%,26.666667%);fill-opacity:1;\" d=\"M 85.914063 144.671875 L 81.152344 150.46875 L 78.652344 146.5625 L 85.914063 144.671875 \"/>\n",
       "<path style=\"fill:none;stroke-width:1;stroke-linecap:butt;stroke-linejoin:miter;stroke:rgb(26.666667%,26.666667%,26.666667%);stroke-opacity:1;stroke-miterlimit:10;\" d=\"M 20 66.464844 L 80.785156 125.253906 \"/>\n",
       "<path style=\" stroke:none;fill-rule:nonzero;fill:rgb(26.666667%,26.666667%,26.666667%);fill-opacity:1;\" d=\"M 85.914063 130.214844 L 79.171875 126.921875 L 82.394531 123.589844 L 85.914063 130.214844 \"/>\n",
       "<path style=\"fill:none;stroke-width:1;stroke-linecap:butt;stroke-linejoin:miter;stroke:rgb(26.666667%,26.666667%,26.666667%);stroke-opacity:1;stroke-miterlimit:10;\" d=\"M 62.578125 280 L 91.257813 154.871094 \"/>\n",
       "<path style=\" stroke:none;fill-rule:nonzero;fill:rgb(26.666667%,26.666667%,26.666667%);fill-opacity:1;\" d=\"M 92.847656 147.917969 L 93.515625 155.390625 L 88.996094 154.355469 L 92.847656 147.917969 \"/>\n",
       "<path style=\"fill:none;stroke-width:1;stroke-linecap:butt;stroke-linejoin:miter;stroke:rgb(26.666667%,26.666667%,26.666667%);stroke-opacity:1;stroke-miterlimit:10;\" d=\"M 94.914063 138.917969 L 181.871094 83.074219 \"/>\n",
       "<path style=\" stroke:none;fill-rule:nonzero;fill:rgb(26.666667%,26.666667%,26.666667%);fill-opacity:1;\" d=\"M 187.875 79.222656 L 183.125 85.027344 L 180.621094 81.125 L 187.875 79.222656 \"/>\n",
       "<path style=\"fill:none;stroke-width:1;stroke-linecap:butt;stroke-linejoin:miter;stroke:rgb(26.666667%,26.666667%,26.666667%);stroke-opacity:1;stroke-miterlimit:10;\" d=\"M 196.875 73.441406 L 265 29.644531 \"/>\n",
       "<path style=\" stroke:none;fill-rule:nonzero;fill:rgb(26.666667%,26.666667%,26.666667%);fill-opacity:1;\" d=\"M 271 25.785156 L 266.253906 31.59375 L 263.746094 27.695313 L 271 25.785156 \"/>\n",
       "<path style=\"fill-rule:nonzero;fill:rgb(100%,100%,100%);fill-opacity:1;stroke-width:1;stroke-linecap:butt;stroke-linejoin:miter;stroke:rgb(0%,0%,0%);stroke-opacity:1;stroke-miterlimit:10;\" d=\"M 12.480469 176.867188 L 30.480469 176.867188 L 30.480469 194.867188 L 12.480469 194.867188 Z M 12.480469 176.867188 \"/>\n",
       "<path style=\"fill-rule:nonzero;fill:rgb(100%,100%,100%);fill-opacity:1;stroke-width:1;stroke-linecap:butt;stroke-linejoin:miter;stroke:rgb(0%,0%,0%);stroke-opacity:1;stroke-miterlimit:10;\" d=\"M 11 57.464844 L 29 57.464844 L 29 75.464844 L 11 75.464844 Z M 11 57.464844 \"/>\n",
       "<path style=\"fill-rule:nonzero;fill:rgb(100%,100%,100%);fill-opacity:1;stroke-width:1;stroke-linecap:butt;stroke-linejoin:miter;stroke:rgb(0%,0%,0%);stroke-opacity:1;stroke-miterlimit:10;\" d=\"M 53.578125 271 L 71.578125 271 L 71.578125 289 L 53.578125 289 Z M 53.578125 271 \"/>\n",
       "<path style=\"fill-rule:nonzero;fill:rgb(100%,100%,100%);fill-opacity:1;stroke-width:1;stroke-linecap:butt;stroke-linejoin:miter;stroke:rgb(0%,0%,0%);stroke-opacity:1;stroke-miterlimit:10;\" d=\"M 85.914063 129.917969 L 103.914063 129.917969 L 103.914063 147.917969 L 85.914063 147.917969 Z M 85.914063 129.917969 \"/>\n",
       "<path style=\"fill-rule:nonzero;fill:rgb(100%,100%,100%);fill-opacity:1;stroke-width:1;stroke-linecap:butt;stroke-linejoin:miter;stroke:rgb(0%,0%,0%);stroke-opacity:1;stroke-miterlimit:10;\" d=\"M 187.875 64.441406 L 205.875 64.441406 L 205.875 82.441406 L 187.875 82.441406 Z M 187.875 64.441406 \"/>\n",
       "<path style=\"fill-rule:nonzero;fill:rgb(100%,100%,100%);fill-opacity:1;stroke-width:1;stroke-linecap:butt;stroke-linejoin:miter;stroke:rgb(0%,0%,0%);stroke-opacity:1;stroke-miterlimit:10;\" d=\"M 271 11 L 289 11 L 289 29 L 271 29 Z M 271 11 \"/>\n",
       "<g style=\"fill:rgb(0%,0%,0%);fill-opacity:1;\">\n",
       "  <use xlink:href=\"#glyph0-1\" x=\"19.9375\" y=\"192.378906\"/>\n",
       "</g>\n",
       "<g style=\"fill:rgb(0%,0%,0%);fill-opacity:1;\">\n",
       "  <use xlink:href=\"#glyph0-2\" x=\"16.152344\" y=\"71.679688\"/>\n",
       "</g>\n",
       "<g style=\"fill:rgb(0%,0%,0%);fill-opacity:1;\">\n",
       "  <use xlink:href=\"#glyph0-3\" x=\"58.515625\" y=\"286.511719\"/>\n",
       "</g>\n",
       "<g style=\"fill:rgb(0%,0%,0%);fill-opacity:1;\">\n",
       "  <use xlink:href=\"#glyph0-4\" x=\"91.203125\" y=\"144.128906\"/>\n",
       "</g>\n",
       "<g style=\"fill:rgb(0%,0%,0%);fill-opacity:1;\">\n",
       "  <use xlink:href=\"#glyph0-5\" x=\"193.246094\" y=\"79.953125\"/>\n",
       "</g>\n",
       "<g style=\"fill:rgb(0%,0%,0%);fill-opacity:1;\">\n",
       "  <use xlink:href=\"#glyph0-6\" x=\"276.132813\" y=\"25.210938\"/>\n",
       "</g>\n",
       "</g>\n",
       "</svg>\n"
      ],
      "text/plain": [
       "<igraph.drawing.Plot at 0x2673945fbb0>"
      ]
     },
     "execution_count": 1,
     "metadata": {
      "image/svg+xml": {
       "isolated": true
      }
     },
     "output_type": "execute_result"
    }
   ],
   "source": [
    "import igraph\n",
    "test = igraph.Graph(directed = True)\n",
    "test.add_vertices(6)\n",
    "test.add_edges(\n",
    "[(0,1), (0,2), (0,3), (1,3), (2,3), (3,4), (4,5)]\n",
    ")\n",
    "test.vs[\"name\"] = [\"i\", \"a\", \"b\", \"c\", \"d\", \"o\"]\n",
    "test.vs[\"label\"] = test.vs[\"name\"]\n",
    "layout = test.layout_circle\n",
    "igraph.plot(test, vertex_size = 18, vertex_shape = \"square\", edge_arrow_size = 0.5, vertex_color = \"white\", bbox=(0, 0, 300, 300))"
   ]
  },
  {
   "cell_type": "markdown",
   "id": "411b0ffe",
   "metadata": {},
   "source": [
    "Our test graph is a directed cyclic graph on 6 labeled vertices. Given prior knowledge of the network this graph represents, we can include synergy and inhibition quite easily by attaching the appropriate attributes to the edge sequence. Here, synergistic edges are colored blue."
   ]
  },
  {
   "cell_type": "code",
   "execution_count": 2,
   "id": "2a322dca",
   "metadata": {},
   "outputs": [
    {
     "name": "stdout",
     "output_type": "stream",
     "text": [
      "edge syn inhibitory\n",
      "i -> a 0 False\n",
      "i -> b 0 False\n",
      "i -> c 0 True\n",
      "a -> c 1 True\n",
      "b -> c 1 True\n",
      "c -> d 0 True\n",
      "d -> o 0 False\n"
     ]
    },
    {
     "data": {
      "image/svg+xml": [
       "<?xml version=\"1.0\" encoding=\"UTF-8\"?>\n",
       "<svg xmlns=\"http://www.w3.org/2000/svg\" xmlns:xlink=\"http://www.w3.org/1999/xlink\" width=\"300pt\" height=\"300pt\" viewBox=\"0 0 300 300\" version=\"1.1\">\n",
       "<defs>\n",
       "<g>\n",
       "<symbol overflow=\"visible\" id=\"glyph0-0\">\n",
       "<path style=\"stroke:none;\" d=\"M 1.75 0 L 1.75 -8.75 L 8.75 -8.75 L 8.75 0 Z M 1.96875 -0.21875 L 8.53125 -0.21875 L 8.53125 -8.53125 L 1.96875 -8.53125 Z M 1.96875 -0.21875 \"/>\n",
       "</symbol>\n",
       "<symbol overflow=\"visible\" id=\"glyph0-1\">\n",
       "<path style=\"stroke:none;\" d=\"M 0.929688 -8.605469 L 0.929688 -10.023438 L 2.160156 -10.023438 L 2.160156 -8.605469 Z M 0.929688 0 L 0.929688 -7.257813 L 2.160156 -7.257813 L 2.160156 0 Z M 0.929688 0 \"/>\n",
       "</symbol>\n",
       "<symbol overflow=\"visible\" id=\"glyph0-2\">\n",
       "<path style=\"stroke:none;\" d=\"M 5.660156 -0.894531 C 5.203125 -0.503906 4.761719 -0.230469 4.34375 -0.0742188 C 3.917969 0.0859375 3.46875 0.164063 2.988281 0.164063 C 2.1875 0.164063 1.574219 -0.0273438 1.148438 -0.417969 C 0.71875 -0.804688 0.503906 -1.304688 0.507813 -1.914063 C 0.503906 -2.265625 0.585938 -2.589844 0.75 -2.886719 C 0.910156 -3.179688 1.121094 -3.414063 1.382813 -3.59375 C 1.644531 -3.769531 1.9375 -3.90625 2.269531 -4 C 2.507813 -4.058594 2.875 -4.121094 3.363281 -4.183594 C 4.355469 -4.300781 5.085938 -4.441406 5.558594 -4.609375 C 5.558594 -4.773438 5.558594 -4.878906 5.5625 -4.929688 C 5.558594 -5.425781 5.445313 -5.78125 5.214844 -5.988281 C 4.898438 -6.265625 4.429688 -6.402344 3.8125 -6.40625 C 3.230469 -6.402344 2.804688 -6.300781 2.53125 -6.101563 C 2.253906 -5.894531 2.050781 -5.535156 1.921875 -5.023438 L 0.71875 -5.1875 C 0.824219 -5.699219 1.003906 -6.117188 1.257813 -6.433594 C 1.503906 -6.75 1.867188 -6.992188 2.34375 -7.164063 C 2.816406 -7.332031 3.363281 -7.417969 3.992188 -7.421875 C 4.609375 -7.417969 5.113281 -7.34375 5.503906 -7.203125 C 5.886719 -7.054688 6.171875 -6.871094 6.359375 -6.652344 C 6.539063 -6.429688 6.667969 -6.152344 6.742188 -5.816406 C 6.777344 -5.605469 6.796875 -5.226563 6.800781 -4.683594 L 6.800781 -3.042969 C 6.796875 -1.894531 6.824219 -1.171875 6.878906 -0.871094 C 6.933594 -0.566406 7.035156 -0.277344 7.191406 0 L 5.90625 0 C 5.777344 -0.253906 5.695313 -0.550781 5.660156 -0.894531 Z M 5.558594 -3.644531 C 5.109375 -3.460938 4.4375 -3.304688 3.546875 -3.179688 C 3.039063 -3.105469 2.683594 -3.023438 2.472656 -2.933594 C 2.261719 -2.839844 2.097656 -2.707031 1.988281 -2.53125 C 1.871094 -2.355469 1.816406 -2.160156 1.820313 -1.949219 C 1.816406 -1.617188 1.941406 -1.34375 2.191406 -1.128906 C 2.4375 -0.90625 2.800781 -0.796875 3.28125 -0.800781 C 3.753906 -0.796875 4.175781 -0.898438 4.546875 -1.109375 C 4.914063 -1.3125 5.183594 -1.597656 5.359375 -1.960938 C 5.488281 -2.238281 5.554688 -2.648438 5.558594 -3.191406 Z M 5.558594 -3.644531 \"/>\n",
       "</symbol>\n",
       "<symbol overflow=\"visible\" id=\"glyph0-3\">\n",
       "<path style=\"stroke:none;\" d=\"M 2.058594 0 L 0.914063 0 L 0.914063 -10.023438 L 2.148438 -10.023438 L 2.148438 -6.445313 C 2.664063 -7.09375 3.328125 -7.417969 4.136719 -7.421875 C 4.582031 -7.417969 5.003906 -7.328125 5.402344 -7.152344 C 5.800781 -6.96875 6.128906 -6.714844 6.386719 -6.394531 C 6.644531 -6.066406 6.84375 -5.675781 6.992188 -5.214844 C 7.132813 -4.753906 7.207031 -4.261719 7.210938 -3.738281 C 7.207031 -2.496094 6.898438 -1.535156 6.289063 -0.855469 C 5.671875 -0.175781 4.933594 0.164063 4.074219 0.164063 C 3.214844 0.164063 2.542969 -0.191406 2.058594 -0.910156 Z M 2.042969 -3.683594 C 2.039063 -2.8125 2.15625 -2.183594 2.398438 -1.796875 C 2.78125 -1.160156 3.308594 -0.84375 3.972656 -0.847656 C 4.507813 -0.84375 4.96875 -1.078125 5.363281 -1.546875 C 5.753906 -2.015625 5.953125 -2.710938 5.953125 -3.636719 C 5.953125 -4.582031 5.765625 -5.28125 5.390625 -5.734375 C 5.015625 -6.183594 4.558594 -6.410156 4.027344 -6.414063 C 3.484375 -6.410156 3.019531 -6.175781 2.628906 -5.710938 C 2.234375 -5.242188 2.039063 -4.566406 2.042969 -3.683594 Z M 2.042969 -3.683594 \"/>\n",
       "</symbol>\n",
       "<symbol overflow=\"visible\" id=\"glyph0-4\">\n",
       "<path style=\"stroke:none;\" d=\"M 5.660156 -2.660156 L 6.871094 -2.5 C 6.734375 -1.664063 6.394531 -1.011719 5.855469 -0.542969 C 5.308594 -0.0703125 4.640625 0.164063 3.847656 0.164063 C 2.851563 0.164063 2.054688 -0.160156 1.453125 -0.808594 C 0.847656 -1.457031 0.542969 -2.386719 0.546875 -3.601563 C 0.542969 -4.382813 0.675781 -5.070313 0.9375 -5.660156 C 1.195313 -6.246094 1.589844 -6.683594 2.121094 -6.980469 C 2.652344 -7.269531 3.230469 -7.417969 3.855469 -7.421875 C 4.644531 -7.417969 5.289063 -7.21875 5.789063 -6.824219 C 6.289063 -6.421875 6.609375 -5.855469 6.753906 -5.125 L 5.558594 -4.941406 C 5.441406 -5.425781 5.238281 -5.792969 4.953125 -6.042969 C 4.660156 -6.285156 4.3125 -6.410156 3.902344 -6.414063 C 3.28125 -6.410156 2.777344 -6.1875 2.390625 -5.746094 C 2.003906 -5.296875 1.808594 -4.59375 1.8125 -3.636719 C 1.808594 -2.65625 1.996094 -1.945313 2.371094 -1.507813 C 2.742188 -1.0625 3.230469 -0.84375 3.835938 -0.847656 C 4.316406 -0.84375 4.71875 -0.992188 5.042969 -1.289063 C 5.367188 -1.585938 5.574219 -2.042969 5.660156 -2.660156 Z M 5.660156 -2.660156 \"/>\n",
       "</symbol>\n",
       "<symbol overflow=\"visible\" id=\"glyph0-5\">\n",
       "<path style=\"stroke:none;\" d=\"M 5.632813 0 L 5.632813 -0.914063 C 5.167969 -0.195313 4.492188 0.164063 3.601563 0.164063 C 3.019531 0.164063 2.488281 0.0078125 2.003906 -0.3125 C 1.519531 -0.628906 1.140625 -1.074219 0.875 -1.648438 C 0.605469 -2.21875 0.472656 -2.878906 0.476563 -3.625 C 0.472656 -4.347656 0.59375 -5.003906 0.839844 -5.59375 C 1.078125 -6.183594 1.441406 -6.636719 1.925781 -6.949219 C 2.40625 -7.261719 2.945313 -7.417969 3.546875 -7.421875 C 3.980469 -7.417969 4.371094 -7.324219 4.714844 -7.144531 C 5.054688 -6.957031 5.332031 -6.71875 5.550781 -6.425781 L 5.550781 -10.023438 L 6.773438 -10.023438 L 6.773438 0 Z M 1.742188 -3.625 C 1.738281 -2.691406 1.933594 -1.996094 2.328125 -1.535156 C 2.71875 -1.074219 3.183594 -0.84375 3.71875 -0.847656 C 4.253906 -0.84375 4.710938 -1.0625 5.085938 -1.507813 C 5.460938 -1.945313 5.648438 -2.617188 5.652344 -3.519531 C 5.648438 -4.511719 5.457031 -5.242188 5.078125 -5.707031 C 4.691406 -6.171875 4.21875 -6.402344 3.664063 -6.40625 C 3.113281 -6.402344 2.65625 -6.179688 2.292969 -5.734375 C 1.921875 -5.285156 1.738281 -4.582031 1.742188 -3.625 Z M 1.742188 -3.625 \"/>\n",
       "</symbol>\n",
       "<symbol overflow=\"visible\" id=\"glyph0-6\">\n",
       "<path style=\"stroke:none;\" d=\"M 0.464844 -3.628906 C 0.460938 -4.972656 0.835938 -5.96875 1.585938 -6.617188 C 2.207031 -7.148438 2.96875 -7.417969 3.867188 -7.421875 C 4.867188 -7.417969 5.683594 -7.089844 6.316406 -6.441406 C 6.949219 -5.785156 7.265625 -4.882813 7.265625 -3.734375 C 7.265625 -2.796875 7.125 -2.0625 6.84375 -1.527344 C 6.5625 -0.992188 6.152344 -0.578125 5.621094 -0.28125 C 5.082031 0.015625 4.5 0.164063 3.867188 0.164063 C 2.851563 0.164063 2.027344 -0.160156 1.402344 -0.8125 C 0.773438 -1.460938 0.460938 -2.398438 0.464844 -3.628906 Z M 1.730469 -3.628906 C 1.726563 -2.695313 1.929688 -2 2.335938 -1.539063 C 2.738281 -1.074219 3.25 -0.84375 3.867188 -0.847656 C 4.476563 -0.84375 4.984375 -1.074219 5.390625 -1.542969 C 5.796875 -2.003906 6 -2.714844 6 -3.671875 C 6 -4.566406 5.792969 -5.246094 5.386719 -5.710938 C 4.976563 -6.171875 4.472656 -6.402344 3.867188 -6.40625 C 3.25 -6.402344 2.738281 -6.171875 2.335938 -5.714844 C 1.929688 -5.25 1.726563 -4.554688 1.730469 -3.628906 Z M 1.730469 -3.628906 \"/>\n",
       "</symbol>\n",
       "</g>\n",
       "</defs>\n",
       "<g id=\"surface8\">\n",
       "<rect x=\"0\" y=\"0\" width=\"300\" height=\"300\" style=\"fill:rgb(100%,100%,100%);fill-opacity:1;stroke:none;\"/>\n",
       "<path style=\"fill:none;stroke-width:1;stroke-linecap:butt;stroke-linejoin:miter;stroke:rgb(26.666667%,26.666667%,26.666667%);stroke-opacity:1;stroke-miterlimit:10;\" d=\"M 124.703125 280 L 35.699219 247.484375 \"/>\n",
       "<path style=\" stroke:none;fill-rule:nonzero;fill:rgb(26.666667%,26.666667%,26.666667%);fill-opacity:1;\" d=\"M 29 245.035156 L 36.496094 245.308594 L 34.90625 249.660156 L 29 245.035156 \"/>\n",
       "<path style=\"fill:none;stroke-width:1;stroke-linecap:butt;stroke-linejoin:miter;stroke:rgb(26.666667%,26.666667%,26.666667%);stroke-opacity:1;stroke-miterlimit:10;\" d=\"M 124.703125 280 L 236.9375 278.5625 \"/>\n",
       "<path style=\" stroke:none;fill-rule:nonzero;fill:rgb(26.666667%,26.666667%,26.666667%);fill-opacity:1;\" d=\"M 244.070313 278.46875 L 236.964844 280.878906 L 236.90625 276.246094 L 244.070313 278.46875 \"/>\n",
       "<path style=\"fill:none;stroke-width:1;stroke-linecap:butt;stroke-linejoin:miter;stroke:rgb(26.666667%,26.666667%,26.666667%);stroke-opacity:1;stroke-miterlimit:10;\" d=\"M 124.703125 280 L 159.625 221.28125 \"/>\n",
       "<path style=\" stroke:none;fill-rule:nonzero;fill:rgb(26.666667%,26.666667%,26.666667%);fill-opacity:1;\" d=\"M 163.269531 215.148438 L 161.617188 222.464844 L 157.632813 220.09375 L 163.269531 215.148438 \"/>\n",
       "<path style=\"fill:none;stroke-width:1;stroke-linecap:butt;stroke-linejoin:miter;stroke:rgb(0%,0%,100%);stroke-opacity:1;stroke-miterlimit:10;\" d=\"M 20 241.75 L 152.6875 209.964844 \"/>\n",
       "<path style=\" stroke:none;fill-rule:nonzero;fill:rgb(0%,0%,100%);fill-opacity:1;\" d=\"M 159.621094 208.304688 L 153.226563 212.21875 L 152.144531 207.710938 L 159.621094 208.304688 \"/>\n",
       "<path style=\"fill:none;stroke-width:1;stroke-linecap:butt;stroke-linejoin:miter;stroke:rgb(0%,0%,100%);stroke-opacity:1;stroke-miterlimit:10;\" d=\"M 253.070313 278.355469 L 183.042969 218.480469 \"/>\n",
       "<path style=\" stroke:none;fill-rule:nonzero;fill:rgb(0%,0%,100%);fill-opacity:1;\" d=\"M 177.621094 213.84375 L 184.550781 216.71875 L 181.539063 220.242188 L 177.621094 213.84375 \"/>\n",
       "<path style=\"fill:none;stroke-width:1;stroke-linecap:butt;stroke-linejoin:miter;stroke:rgb(26.666667%,26.666667%,26.666667%);stroke-opacity:1;stroke-miterlimit:10;\" d=\"M 168.621094 206.148438 L 220.898438 118.734375 \"/>\n",
       "<path style=\" stroke:none;fill-rule:nonzero;fill:rgb(26.666667%,26.666667%,26.666667%);fill-opacity:1;\" d=\"M 224.558594 112.613281 L 222.886719 119.921875 L 218.910156 117.542969 L 224.558594 112.613281 \"/>\n",
       "<path style=\"fill:none;stroke-width:1;stroke-linecap:butt;stroke-linejoin:miter;stroke:rgb(26.666667%,26.666667%,26.666667%);stroke-opacity:1;stroke-miterlimit:10;\" d=\"M 229.941406 103.613281 L 270.949219 35.121094 \"/>\n",
       "<path style=\" stroke:none;fill-rule:nonzero;fill:rgb(26.666667%,26.666667%,26.666667%);fill-opacity:1;\" d=\"M 274.613281 29 L 272.9375 36.308594 L 268.960938 33.929688 L 274.613281 29 \"/>\n",
       "<path style=\"fill-rule:nonzero;fill:rgb(100%,100%,100%);fill-opacity:1;stroke-width:1;stroke-linecap:butt;stroke-linejoin:miter;stroke:rgb(0%,0%,0%);stroke-opacity:1;stroke-miterlimit:10;\" d=\"M 115.703125 271 L 133.703125 271 L 133.703125 289 L 115.703125 289 Z M 115.703125 271 \"/>\n",
       "<path style=\"fill-rule:nonzero;fill:rgb(100%,100%,100%);fill-opacity:1;stroke-width:1;stroke-linecap:butt;stroke-linejoin:miter;stroke:rgb(0%,0%,0%);stroke-opacity:1;stroke-miterlimit:10;\" d=\"M 11 232.75 L 29 232.75 L 29 250.75 L 11 250.75 Z M 11 232.75 \"/>\n",
       "<path style=\"fill-rule:nonzero;fill:rgb(100%,100%,100%);fill-opacity:1;stroke-width:1;stroke-linecap:butt;stroke-linejoin:miter;stroke:rgb(0%,0%,0%);stroke-opacity:1;stroke-miterlimit:10;\" d=\"M 244.070313 269.355469 L 262.070313 269.355469 L 262.070313 287.355469 L 244.070313 287.355469 Z M 244.070313 269.355469 \"/>\n",
       "<path style=\"fill-rule:nonzero;fill:rgb(100%,100%,100%);fill-opacity:1;stroke-width:1;stroke-linecap:butt;stroke-linejoin:miter;stroke:rgb(0%,0%,0%);stroke-opacity:1;stroke-miterlimit:10;\" d=\"M 159.621094 197.148438 L 177.621094 197.148438 L 177.621094 215.148438 L 159.621094 215.148438 Z M 159.621094 197.148438 \"/>\n",
       "<path style=\"fill-rule:nonzero;fill:rgb(100%,100%,100%);fill-opacity:1;stroke-width:1;stroke-linecap:butt;stroke-linejoin:miter;stroke:rgb(0%,0%,0%);stroke-opacity:1;stroke-miterlimit:10;\" d=\"M 220.941406 94.613281 L 238.941406 94.613281 L 238.941406 112.613281 L 220.941406 112.613281 Z M 220.941406 94.613281 \"/>\n",
       "<path style=\"fill-rule:nonzero;fill:rgb(100%,100%,100%);fill-opacity:1;stroke-width:1;stroke-linecap:butt;stroke-linejoin:miter;stroke:rgb(0%,0%,0%);stroke-opacity:1;stroke-miterlimit:10;\" d=\"M 271 11 L 289 11 L 289 29 L 271 29 Z M 271 11 \"/>\n",
       "<g style=\"fill:rgb(0%,0%,0%);fill-opacity:1;\">\n",
       "  <use xlink:href=\"#glyph0-1\" x=\"123.160156\" y=\"286.511719\"/>\n",
       "</g>\n",
       "<g style=\"fill:rgb(0%,0%,0%);fill-opacity:1;\">\n",
       "  <use xlink:href=\"#glyph0-2\" x=\"16.152344\" y=\"246.960938\"/>\n",
       "</g>\n",
       "<g style=\"fill:rgb(0%,0%,0%);fill-opacity:1;\">\n",
       "  <use xlink:href=\"#glyph0-3\" x=\"249.003906\" y=\"284.867188\"/>\n",
       "</g>\n",
       "<g style=\"fill:rgb(0%,0%,0%);fill-opacity:1;\">\n",
       "  <use xlink:href=\"#glyph0-4\" x=\"164.914063\" y=\"211.359375\"/>\n",
       "</g>\n",
       "<g style=\"fill:rgb(0%,0%,0%);fill-opacity:1;\">\n",
       "  <use xlink:href=\"#glyph0-5\" x=\"226.316406\" y=\"110.121094\"/>\n",
       "</g>\n",
       "<g style=\"fill:rgb(0%,0%,0%);fill-opacity:1;\">\n",
       "  <use xlink:href=\"#glyph0-6\" x=\"276.132813\" y=\"25.210938\"/>\n",
       "</g>\n",
       "</g>\n",
       "</svg>\n"
      ],
      "text/plain": [
       "<igraph.drawing.Plot at 0x26739411460>"
      ]
     },
     "execution_count": 2,
     "metadata": {
      "image/svg+xml": {
       "isolated": true
      }
     },
     "output_type": "execute_result"
    }
   ],
   "source": [
    "test.es[\"synergy\"] = [0, 0, 0, 1, 1, 0, 0]\n",
    "test.es[\"inhibition\"] = [0, 0, 1, 1, 1, 1, 0]\n",
    "\n",
    "print(\"edge\", \"syn\", \"inhibitory\")\n",
    "for edge in test.get_edgelist():\n",
    "    print(test.vs[edge[0]][\"name\"], \"->\", test.vs[edge[1]][\"name\"], test.es[test.get_edgelist().index(edge)][\"synergy\"], bool(test.es[test.get_edgelist().index(edge)][\"inhibition\"]))\n",
    "    \n",
    "test.es.select(_source_in=[1,2], _target_in=[3])[\"color\"] = \"blue\"\n",
    "layout = test.layout_circle\n",
    "igraph.plot(test, vertex_size = 18, vertex_shape = \"square\", edge_arrow_size = 0.5, vertex_color = \"white\", bbox=(0, 0, 300, 300))"
   ]
  },
  {
   "cell_type": "markdown",
   "id": "6e8a8740",
   "metadata": {},
   "source": [
    "### update_expand.py\n",
    "\n",
    "This is a collection of methods for generating boolean update tables for the input graph, and converting these input tables into an expanded graph with composite nodes and logical NOT nodes to capture the behaviors of synergistic and inhibitory edges. We first obtain an update table with a zero-order logical expression for every node in the graph. The source node will always have an empty expressions since it lacks predecessors:"
   ]
  },
  {
   "cell_type": "code",
   "execution_count": 3,
   "id": "b69ab44e",
   "metadata": {},
   "outputs": [
    {
     "name": "stdout",
     "output_type": "stream",
     "text": [
      "i = \n",
      "a = i\n",
      "b = i\n",
      "c = (~a&~b)|~i\n",
      "d = ~c\n",
      "o = d\n",
      "~c = (a&i)|(b&i)\n",
      "~d = c\n"
     ]
    }
   ],
   "source": [
    "from mfrpy import update_expand\n",
    "table = update_expand.updates(test, test.es[\"synergy\"], test.es[\"inhibition\"], 1)"
   ]
  },
  {
   "cell_type": "markdown",
   "id": "764d6056",
   "metadata": {},
   "source": [
    "We can now use this table to accurately expand our graph with the considerations of synergy and inhibition. Here, '~' is the logical NOT, whereas '&' and '|' are the logical AND and OR respectively. The drawback of doing this process graph-theoretically is the challenge of handling edges which have both attributes, as it is not always clear which expansion to perform first. By computing via the update table, there is no ambiguity and both attributes are expanded in tandem. We can now expand the test graph by running"
   ]
  },
  {
   "cell_type": "code",
   "execution_count": 6,
   "id": "a76618c8",
   "metadata": {},
   "outputs": [
    {
     "name": "stdout",
     "output_type": "stream",
     "text": [
      "IGRAPH DN-- 15 15 --\n",
      "+ attr: composite (v), label (v), name (v)\n",
      "+ edges (vertex names):\n",
      "i->a, i->b, ~a->c1, ~b->c1, c1->c, ~i->c, ~c->d, d->o, a->c2, i->c2, c2->~c,\n",
      "b->c3, i->c3, c3->~c, c->~d\n",
      "[0, 0, 0, 0, 0, 0, 0, 0, 0, 0, 0, 0, 1, 1, 1]\n"
     ]
    },
    {
     "data": {
      "image/svg+xml": [
       "<?xml version=\"1.0\" encoding=\"UTF-8\"?>\n",
       "<svg xmlns=\"http://www.w3.org/2000/svg\" xmlns:xlink=\"http://www.w3.org/1999/xlink\" width=\"300pt\" height=\"300pt\" viewBox=\"0 0 300 300\" version=\"1.1\">\n",
       "<defs>\n",
       "<g>\n",
       "<symbol overflow=\"visible\" id=\"glyph0-0\">\n",
       "<path style=\"stroke:none;\" d=\"M 1.75 0 L 1.75 -8.75 L 8.75 -8.75 L 8.75 0 Z M 1.96875 -0.21875 L 8.53125 -0.21875 L 8.53125 -8.53125 L 1.96875 -8.53125 Z M 1.96875 -0.21875 \"/>\n",
       "</symbol>\n",
       "<symbol overflow=\"visible\" id=\"glyph0-1\">\n",
       "<path style=\"stroke:none;\" d=\"M 0.929688 -8.605469 L 0.929688 -10.023438 L 2.160156 -10.023438 L 2.160156 -8.605469 Z M 0.929688 0 L 0.929688 -7.257813 L 2.160156 -7.257813 L 2.160156 0 Z M 0.929688 0 \"/>\n",
       "</symbol>\n",
       "<symbol overflow=\"visible\" id=\"glyph0-2\">\n",
       "<path style=\"stroke:none;\" d=\"M 5.660156 -0.894531 C 5.203125 -0.503906 4.761719 -0.230469 4.34375 -0.0742188 C 3.917969 0.0859375 3.46875 0.164063 2.988281 0.164063 C 2.1875 0.164063 1.574219 -0.0273438 1.148438 -0.417969 C 0.71875 -0.804688 0.503906 -1.304688 0.507813 -1.914063 C 0.503906 -2.265625 0.585938 -2.589844 0.75 -2.886719 C 0.910156 -3.179688 1.121094 -3.414063 1.382813 -3.59375 C 1.644531 -3.769531 1.9375 -3.90625 2.269531 -4 C 2.507813 -4.058594 2.875 -4.121094 3.363281 -4.183594 C 4.355469 -4.300781 5.085938 -4.441406 5.558594 -4.609375 C 5.558594 -4.773438 5.558594 -4.878906 5.5625 -4.929688 C 5.558594 -5.425781 5.445313 -5.78125 5.214844 -5.988281 C 4.898438 -6.265625 4.429688 -6.402344 3.8125 -6.40625 C 3.230469 -6.402344 2.804688 -6.300781 2.53125 -6.101563 C 2.253906 -5.894531 2.050781 -5.535156 1.921875 -5.023438 L 0.71875 -5.1875 C 0.824219 -5.699219 1.003906 -6.117188 1.257813 -6.433594 C 1.503906 -6.75 1.867188 -6.992188 2.34375 -7.164063 C 2.816406 -7.332031 3.363281 -7.417969 3.992188 -7.421875 C 4.609375 -7.417969 5.113281 -7.34375 5.503906 -7.203125 C 5.886719 -7.054688 6.171875 -6.871094 6.359375 -6.652344 C 6.539063 -6.429688 6.667969 -6.152344 6.742188 -5.816406 C 6.777344 -5.605469 6.796875 -5.226563 6.800781 -4.683594 L 6.800781 -3.042969 C 6.796875 -1.894531 6.824219 -1.171875 6.878906 -0.871094 C 6.933594 -0.566406 7.035156 -0.277344 7.191406 0 L 5.90625 0 C 5.777344 -0.253906 5.695313 -0.550781 5.660156 -0.894531 Z M 5.558594 -3.644531 C 5.109375 -3.460938 4.4375 -3.304688 3.546875 -3.179688 C 3.039063 -3.105469 2.683594 -3.023438 2.472656 -2.933594 C 2.261719 -2.839844 2.097656 -2.707031 1.988281 -2.53125 C 1.871094 -2.355469 1.816406 -2.160156 1.820313 -1.949219 C 1.816406 -1.617188 1.941406 -1.34375 2.191406 -1.128906 C 2.4375 -0.90625 2.800781 -0.796875 3.28125 -0.800781 C 3.753906 -0.796875 4.175781 -0.898438 4.546875 -1.109375 C 4.914063 -1.3125 5.183594 -1.597656 5.359375 -1.960938 C 5.488281 -2.238281 5.554688 -2.648438 5.558594 -3.191406 Z M 5.558594 -3.644531 \"/>\n",
       "</symbol>\n",
       "<symbol overflow=\"visible\" id=\"glyph0-3\">\n",
       "<path style=\"stroke:none;\" d=\"M 2.058594 0 L 0.914063 0 L 0.914063 -10.023438 L 2.148438 -10.023438 L 2.148438 -6.445313 C 2.664063 -7.09375 3.328125 -7.417969 4.136719 -7.421875 C 4.582031 -7.417969 5.003906 -7.328125 5.402344 -7.152344 C 5.800781 -6.96875 6.128906 -6.714844 6.386719 -6.394531 C 6.644531 -6.066406 6.84375 -5.675781 6.992188 -5.214844 C 7.132813 -4.753906 7.207031 -4.261719 7.210938 -3.738281 C 7.207031 -2.496094 6.898438 -1.535156 6.289063 -0.855469 C 5.671875 -0.175781 4.933594 0.164063 4.074219 0.164063 C 3.214844 0.164063 2.542969 -0.191406 2.058594 -0.910156 Z M 2.042969 -3.683594 C 2.039063 -2.8125 2.15625 -2.183594 2.398438 -1.796875 C 2.78125 -1.160156 3.308594 -0.84375 3.972656 -0.847656 C 4.507813 -0.84375 4.96875 -1.078125 5.363281 -1.546875 C 5.753906 -2.015625 5.953125 -2.710938 5.953125 -3.636719 C 5.953125 -4.582031 5.765625 -5.28125 5.390625 -5.734375 C 5.015625 -6.183594 4.558594 -6.410156 4.027344 -6.414063 C 3.484375 -6.410156 3.019531 -6.175781 2.628906 -5.710938 C 2.234375 -5.242188 2.039063 -4.566406 2.042969 -3.683594 Z M 2.042969 -3.683594 \"/>\n",
       "</symbol>\n",
       "<symbol overflow=\"visible\" id=\"glyph0-4\">\n",
       "<path style=\"stroke:none;\" d=\"M 5.660156 -2.660156 L 6.871094 -2.5 C 6.734375 -1.664063 6.394531 -1.011719 5.855469 -0.542969 C 5.308594 -0.0703125 4.640625 0.164063 3.847656 0.164063 C 2.851563 0.164063 2.054688 -0.160156 1.453125 -0.808594 C 0.847656 -1.457031 0.542969 -2.386719 0.546875 -3.601563 C 0.542969 -4.382813 0.675781 -5.070313 0.9375 -5.660156 C 1.195313 -6.246094 1.589844 -6.683594 2.121094 -6.980469 C 2.652344 -7.269531 3.230469 -7.417969 3.855469 -7.421875 C 4.644531 -7.417969 5.289063 -7.21875 5.789063 -6.824219 C 6.289063 -6.421875 6.609375 -5.855469 6.753906 -5.125 L 5.558594 -4.941406 C 5.441406 -5.425781 5.238281 -5.792969 4.953125 -6.042969 C 4.660156 -6.285156 4.3125 -6.410156 3.902344 -6.414063 C 3.28125 -6.410156 2.777344 -6.1875 2.390625 -5.746094 C 2.003906 -5.296875 1.808594 -4.59375 1.8125 -3.636719 C 1.808594 -2.65625 1.996094 -1.945313 2.371094 -1.507813 C 2.742188 -1.0625 3.230469 -0.84375 3.835938 -0.847656 C 4.316406 -0.84375 4.71875 -0.992188 5.042969 -1.289063 C 5.367188 -1.585938 5.574219 -2.042969 5.660156 -2.660156 Z M 5.660156 -2.660156 \"/>\n",
       "</symbol>\n",
       "<symbol overflow=\"visible\" id=\"glyph0-5\">\n",
       "<path style=\"stroke:none;\" d=\"M 5.632813 0 L 5.632813 -0.914063 C 5.167969 -0.195313 4.492188 0.164063 3.601563 0.164063 C 3.019531 0.164063 2.488281 0.0078125 2.003906 -0.3125 C 1.519531 -0.628906 1.140625 -1.074219 0.875 -1.648438 C 0.605469 -2.21875 0.472656 -2.878906 0.476563 -3.625 C 0.472656 -4.347656 0.59375 -5.003906 0.839844 -5.59375 C 1.078125 -6.183594 1.441406 -6.636719 1.925781 -6.949219 C 2.40625 -7.261719 2.945313 -7.417969 3.546875 -7.421875 C 3.980469 -7.417969 4.371094 -7.324219 4.714844 -7.144531 C 5.054688 -6.957031 5.332031 -6.71875 5.550781 -6.425781 L 5.550781 -10.023438 L 6.773438 -10.023438 L 6.773438 0 Z M 1.742188 -3.625 C 1.738281 -2.691406 1.933594 -1.996094 2.328125 -1.535156 C 2.71875 -1.074219 3.183594 -0.84375 3.71875 -0.847656 C 4.253906 -0.84375 4.710938 -1.0625 5.085938 -1.507813 C 5.460938 -1.945313 5.648438 -2.617188 5.652344 -3.519531 C 5.648438 -4.511719 5.457031 -5.242188 5.078125 -5.707031 C 4.691406 -6.171875 4.21875 -6.402344 3.664063 -6.40625 C 3.113281 -6.402344 2.65625 -6.179688 2.292969 -5.734375 C 1.921875 -5.285156 1.738281 -4.582031 1.742188 -3.625 Z M 1.742188 -3.625 \"/>\n",
       "</symbol>\n",
       "<symbol overflow=\"visible\" id=\"glyph0-6\">\n",
       "<path style=\"stroke:none;\" d=\"M 0.464844 -3.628906 C 0.460938 -4.972656 0.835938 -5.96875 1.585938 -6.617188 C 2.207031 -7.148438 2.96875 -7.417969 3.867188 -7.421875 C 4.867188 -7.417969 5.683594 -7.089844 6.316406 -6.441406 C 6.949219 -5.785156 7.265625 -4.882813 7.265625 -3.734375 C 7.265625 -2.796875 7.125 -2.0625 6.84375 -1.527344 C 6.5625 -0.992188 6.152344 -0.578125 5.621094 -0.28125 C 5.082031 0.015625 4.5 0.164063 3.867188 0.164063 C 2.851563 0.164063 2.027344 -0.160156 1.402344 -0.8125 C 0.773438 -1.460938 0.460938 -2.398438 0.464844 -3.628906 Z M 1.730469 -3.628906 C 1.726563 -2.695313 1.929688 -2 2.335938 -1.539063 C 2.738281 -1.074219 3.25 -0.84375 3.867188 -0.847656 C 4.476563 -0.84375 4.984375 -1.074219 5.390625 -1.542969 C 5.796875 -2.003906 6 -2.714844 6 -3.671875 C 6 -4.566406 5.792969 -5.246094 5.386719 -5.710938 C 4.976563 -6.171875 4.472656 -6.402344 3.867188 -6.40625 C 3.25 -6.402344 2.738281 -6.171875 2.335938 -5.714844 C 1.929688 -5.25 1.726563 -4.554688 1.730469 -3.628906 Z M 1.730469 -3.628906 \"/>\n",
       "</symbol>\n",
       "<symbol overflow=\"visible\" id=\"glyph0-7\">\n",
       "<path style=\"stroke:none;\" d=\"M 0.59375 -3.808594 L 0.59375 -5.210938 C 1.074219 -5.753906 1.710938 -6.027344 2.496094 -6.03125 C 2.769531 -6.027344 3.054688 -5.988281 3.355469 -5.910156 C 3.65625 -5.828125 4.085938 -5.667969 4.640625 -5.433594 C 4.953125 -5.296875 5.1875 -5.210938 5.347656 -5.171875 C 5.503906 -5.128906 5.664063 -5.109375 5.824219 -5.113281 C 6.121094 -5.109375 6.425781 -5.199219 6.742188 -5.378906 C 7.058594 -5.558594 7.339844 -5.78125 7.585938 -6.050781 L 7.585938 -4.601563 C 7.292969 -4.324219 6.996094 -4.125 6.699219 -4.003906 C 6.398438 -3.878906 6.066406 -3.820313 5.695313 -3.820313 C 5.421875 -3.820313 5.160156 -3.851563 4.910156 -3.914063 C 4.660156 -3.976563 4.265625 -4.128906 3.726563 -4.375 C 3.1875 -4.613281 2.738281 -4.734375 2.378906 -4.738281 C 2.085938 -4.734375 1.808594 -4.671875 1.554688 -4.546875 C 1.292969 -4.421875 0.972656 -4.175781 0.59375 -3.808594 Z M 0.59375 -3.808594 \"/>\n",
       "</symbol>\n",
       "<symbol overflow=\"visible\" id=\"glyph0-8\">\n",
       "<path style=\"stroke:none;\" d=\"M 5.214844 0 L 3.984375 0 L 3.984375 -7.839844 C 3.6875 -7.558594 3.296875 -7.273438 2.816406 -6.992188 C 2.335938 -6.707031 1.90625 -6.496094 1.523438 -6.359375 L 1.523438 -7.546875 C 2.210938 -7.867188 2.8125 -8.257813 3.328125 -8.722656 C 3.84375 -9.179688 4.207031 -9.625 4.421875 -10.0625 L 5.214844 -10.0625 Z M 5.214844 0 \"/>\n",
       "</symbol>\n",
       "<symbol overflow=\"visible\" id=\"glyph0-9\">\n",
       "<path style=\"stroke:none;\" d=\"M 7.046875 -1.183594 L 7.046875 0 L 0.421875 0 C 0.414063 -0.296875 0.460938 -0.582031 0.566406 -0.855469 C 0.734375 -1.304688 1.003906 -1.746094 1.375 -2.1875 C 1.746094 -2.621094 2.285156 -3.128906 2.988281 -3.703125 C 4.074219 -4.597656 4.808594 -5.304688 5.195313 -5.828125 C 5.574219 -6.347656 5.765625 -6.839844 5.769531 -7.308594 C 5.765625 -7.792969 5.589844 -8.203125 5.246094 -8.539063 C 4.894531 -8.871094 4.441406 -9.039063 3.882813 -9.042969 C 3.285156 -9.039063 2.8125 -8.863281 2.460938 -8.507813 C 2.105469 -8.152344 1.925781 -7.660156 1.921875 -7.035156 L 0.65625 -7.164063 C 0.742188 -8.105469 1.066406 -8.824219 1.632813 -9.320313 C 2.195313 -9.8125 2.953125 -10.058594 3.910156 -10.0625 C 4.867188 -10.058594 5.628906 -9.792969 6.191406 -9.261719 C 6.75 -8.726563 7.03125 -8.066406 7.035156 -7.28125 C 7.03125 -6.878906 6.949219 -6.484375 6.789063 -6.097656 C 6.621094 -5.707031 6.347656 -5.296875 5.96875 -4.871094 C 5.585938 -4.441406 4.953125 -3.855469 4.074219 -3.109375 C 3.332031 -2.488281 2.859375 -2.066406 2.652344 -1.847656 C 2.4375 -1.621094 2.265625 -1.402344 2.132813 -1.183594 Z M 7.046875 -1.183594 \"/>\n",
       "</symbol>\n",
       "<symbol overflow=\"visible\" id=\"glyph0-10\">\n",
       "<path style=\"stroke:none;\" d=\"M 0.585938 -2.644531 L 1.820313 -2.808594 C 1.957031 -2.109375 2.195313 -1.609375 2.539063 -1.300781 C 2.875 -0.992188 3.289063 -0.835938 3.78125 -0.839844 C 4.355469 -0.835938 4.84375 -1.039063 5.246094 -1.441406 C 5.640625 -1.839844 5.839844 -2.335938 5.84375 -2.933594 C 5.839844 -3.496094 5.65625 -3.960938 5.289063 -4.332031 C 4.917969 -4.695313 4.449219 -4.878906 3.882813 -4.882813 C 3.648438 -4.878906 3.359375 -4.832031 3.015625 -4.742188 L 3.152344 -5.824219 C 3.230469 -5.816406 3.296875 -5.8125 3.351563 -5.8125 C 3.875 -5.8125 4.34375 -5.949219 4.765625 -6.222656 C 5.179688 -6.496094 5.390625 -6.914063 5.394531 -7.484375 C 5.390625 -7.933594 5.238281 -8.308594 4.933594 -8.605469 C 4.628906 -8.898438 4.234375 -9.046875 3.753906 -9.050781 C 3.273438 -9.046875 2.875 -8.894531 2.554688 -8.597656 C 2.234375 -8.292969 2.027344 -7.84375 1.941406 -7.246094 L 0.710938 -7.464844 C 0.859375 -8.289063 1.203125 -8.925781 1.734375 -9.382813 C 2.265625 -9.832031 2.929688 -10.058594 3.726563 -10.0625 C 4.273438 -10.058594 4.773438 -9.941406 5.234375 -9.710938 C 5.691406 -9.472656 6.042969 -9.152344 6.289063 -8.75 C 6.53125 -8.339844 6.65625 -7.910156 6.65625 -7.457031 C 6.65625 -7.023438 6.539063 -6.628906 6.308594 -6.273438 C 6.074219 -5.917969 5.730469 -5.636719 5.277344 -5.429688 C 5.867188 -5.289063 6.328125 -5.003906 6.65625 -4.574219 C 6.984375 -4.140625 7.148438 -3.601563 7.148438 -2.960938 C 7.148438 -2.082031 6.828125 -1.339844 6.191406 -0.734375 C 5.550781 -0.125 4.746094 0.175781 3.773438 0.179688 C 2.890625 0.175781 2.160156 -0.0820313 1.582031 -0.605469 C 1 -1.128906 0.667969 -1.808594 0.585938 -2.644531 Z M 0.585938 -2.644531 \"/>\n",
       "</symbol>\n",
       "</g>\n",
       "</defs>\n",
       "<g id=\"surface17\">\n",
       "<rect x=\"0\" y=\"0\" width=\"300\" height=\"300\" style=\"fill:rgb(100%,100%,100%);fill-opacity:1;stroke:none;\"/>\n",
       "<path style=\"fill:none;stroke-width:1;stroke-linecap:butt;stroke-linejoin:miter;stroke:rgb(26.666667%,26.666667%,26.666667%);stroke-opacity:1;stroke-miterlimit:10;\" d=\"M 232.8125 76.121094 L 196.570313 75.285156 \"/>\n",
       "<path style=\" stroke:none;fill-rule:nonzero;fill:rgb(26.666667%,26.666667%,26.666667%);fill-opacity:1;\" d=\"M 189.4375 75.121094 L 196.621094 72.96875 L 196.515625 77.601563 L 189.4375 75.121094 \"/>\n",
       "<path style=\"fill:none;stroke-width:1;stroke-linecap:butt;stroke-linejoin:miter;stroke:rgb(26.666667%,26.666667%,26.666667%);stroke-opacity:1;stroke-miterlimit:10;\" d=\"M 232.8125 76.121094 L 262.988281 63.664063 \"/>\n",
       "<path style=\" stroke:none;fill-rule:nonzero;fill:rgb(26.666667%,26.666667%,26.666667%);fill-opacity:1;\" d=\"M 269.582031 60.945313 L 263.871094 65.808594 L 262.101563 61.523438 L 269.582031 60.945313 \"/>\n",
       "<path style=\"fill:none;stroke-width:1;stroke-linecap:butt;stroke-linejoin:miter;stroke:rgb(26.666667%,26.666667%,26.666667%);stroke-opacity:1;stroke-miterlimit:10;\" d=\"M 64.867188 117.96875 L 68.71875 159.617188 \"/>\n",
       "<path style=\" stroke:none;fill-rule:nonzero;fill:rgb(26.666667%,26.666667%,26.666667%);fill-opacity:1;\" d=\"M 69.375 166.71875 L 66.410156 159.832031 L 71.027344 159.402344 L 69.375 166.71875 \"/>\n",
       "<path style=\"fill:none;stroke-width:1;stroke-linecap:butt;stroke-linejoin:miter;stroke:rgb(26.666667%,26.666667%,26.666667%);stroke-opacity:1;stroke-miterlimit:10;\" d=\"M 20 168.253906 L 54.152344 173.332031 \"/>\n",
       "<path style=\" stroke:none;fill-rule:nonzero;fill:rgb(26.666667%,26.666667%,26.666667%);fill-opacity:1;\" d=\"M 61.207031 174.382813 L 53.8125 175.625 L 54.492188 171.039063 L 61.207031 174.382813 \"/>\n",
       "<path style=\"fill:none;stroke-width:1;stroke-linecap:butt;stroke-linejoin:miter;stroke:rgb(26.666667%,26.666667%,26.666667%);stroke-opacity:1;stroke-miterlimit:10;\" d=\"M 70.207031 175.71875 L 93.710938 217.878906 \"/>\n",
       "<path style=\" stroke:none;fill-rule:nonzero;fill:rgb(26.666667%,26.666667%,26.666667%);fill-opacity:1;\" d=\"M 97.1875 224.109375 L 91.6875 219.007813 L 95.738281 216.75 L 97.1875 224.109375 \"/>\n",
       "<path style=\"fill:none;stroke-width:1;stroke-linecap:butt;stroke-linejoin:miter;stroke:rgb(26.666667%,26.666667%,26.666667%);stroke-opacity:1;stroke-miterlimit:10;\" d=\"M 83.171875 280 L 95.867188 248.71875 \"/>\n",
       "<path style=\" stroke:none;fill-rule:nonzero;fill:rgb(26.666667%,26.666667%,26.666667%);fill-opacity:1;\" d=\"M 98.550781 242.109375 L 98.015625 249.589844 L 93.722656 247.847656 L 98.550781 242.109375 \"/>\n",
       "<path style=\"fill:none;stroke-width:1;stroke-linecap:butt;stroke-linejoin:miter;stroke:rgb(26.666667%,26.666667%,26.666667%);stroke-opacity:1;stroke-miterlimit:10;\" d=\"M 260.3125 166.324219 L 268.863281 209.9375 \"/>\n",
       "<path style=\" stroke:none;fill-rule:nonzero;fill:rgb(26.666667%,26.666667%,26.666667%);fill-opacity:1;\" d=\"M 270.238281 216.9375 L 266.589844 210.382813 L 271.140625 209.492188 L 270.238281 216.9375 \"/>\n",
       "<path style=\"fill:none;stroke-width:1;stroke-linecap:butt;stroke-linejoin:miter;stroke:rgb(26.666667%,26.666667%,26.666667%);stroke-opacity:1;stroke-miterlimit:10;\" d=\"M 272.003906 225.9375 L 263.109375 259.316406 \"/>\n",
       "<path style=\" stroke:none;fill-rule:nonzero;fill:rgb(26.666667%,26.666667%,26.666667%);fill-opacity:1;\" d=\"M 261.273438 266.207031 L 260.867188 258.71875 L 265.347656 259.910156 L 261.273438 266.207031 \"/>\n",
       "<path style=\"fill:none;stroke-width:1;stroke-linecap:butt;stroke-linejoin:miter;stroke:rgb(26.666667%,26.666667%,26.666667%);stroke-opacity:1;stroke-miterlimit:10;\" d=\"M 180.4375 74.914063 L 201.15625 108.582031 \"/>\n",
       "<path style=\" stroke:none;fill-rule:nonzero;fill:rgb(26.666667%,26.666667%,26.666667%);fill-opacity:1;\" d=\"M 204.894531 114.65625 L 199.183594 109.796875 L 203.132813 107.367188 L 204.894531 114.65625 \"/>\n",
       "<path style=\"fill:none;stroke-width:1;stroke-linecap:butt;stroke-linejoin:miter;stroke:rgb(26.666667%,26.666667%,26.666667%);stroke-opacity:1;stroke-miterlimit:10;\" d=\"M 232.8125 76.121094 L 217.710938 108.203125 \"/>\n",
       "<path style=\" stroke:none;fill-rule:nonzero;fill:rgb(26.666667%,26.666667%,26.666667%);fill-opacity:1;\" d=\"M 214.671875 114.65625 L 215.613281 107.21875 L 219.804688 109.191406 L 214.671875 114.65625 \"/>\n",
       "<path style=\"fill:none;stroke-width:1;stroke-linecap:butt;stroke-linejoin:miter;stroke:rgb(26.666667%,26.666667%,26.666667%);stroke-opacity:1;stroke-miterlimit:10;\" d=\"M 210.433594 123.65625 L 245.890625 153.988281 \"/>\n",
       "<path style=\" stroke:none;fill-rule:nonzero;fill:rgb(26.666667%,26.666667%,26.666667%);fill-opacity:1;\" d=\"M 251.3125 158.625 L 244.382813 155.75 L 247.398438 152.226563 L 251.3125 158.625 \"/>\n",
       "<path style=\"fill:none;stroke-width:1;stroke-linecap:butt;stroke-linejoin:miter;stroke:rgb(26.666667%,26.666667%,26.666667%);stroke-opacity:1;stroke-miterlimit:10;\" d=\"M 278.582031 57.230469 L 279.5625 93.523438 \"/>\n",
       "<path style=\" stroke:none;fill-rule:nonzero;fill:rgb(26.666667%,26.666667%,26.666667%);fill-opacity:1;\" d=\"M 279.757813 100.652344 L 277.246094 93.585938 L 281.878906 93.460938 L 279.757813 100.652344 \"/>\n",
       "<path style=\"fill:none;stroke-width:1;stroke-linecap:butt;stroke-linejoin:miter;stroke:rgb(26.666667%,26.666667%,26.666667%);stroke-opacity:1;stroke-miterlimit:10;\" d=\"M 232.8125 76.121094 L 265.1875 99.125 \"/>\n",
       "<path style=\" stroke:none;fill-rule:nonzero;fill:rgb(26.666667%,26.666667%,26.666667%);fill-opacity:1;\" d=\"M 271 103.257813 L 263.84375 101.015625 L 266.527344 97.234375 L 271 103.257813 \"/>\n",
       "<path style=\"fill:none;stroke-width:1;stroke-linecap:butt;stroke-linejoin:miter;stroke:rgb(26.666667%,26.666667%,26.666667%);stroke-opacity:1;stroke-miterlimit:10;\" d=\"M 280 109.652344 L 265.777344 150.585938 \"/>\n",
       "<path style=\" stroke:none;fill-rule:nonzero;fill:rgb(26.666667%,26.666667%,26.666667%);fill-opacity:1;\" d=\"M 263.4375 157.324219 L 263.589844 149.824219 L 267.96875 151.347656 L 263.4375 157.324219 \"/>\n",
       "<path style=\"fill:none;stroke-width:1;stroke-linecap:butt;stroke-linejoin:miter;stroke:rgb(26.666667%,26.666667%,26.666667%);stroke-opacity:1;stroke-miterlimit:10;\" d=\"M 102.203125 233.109375 L 134.085938 257.023438 \"/>\n",
       "<path style=\" stroke:none;fill-rule:nonzero;fill:rgb(26.666667%,26.666667%,26.666667%);fill-opacity:1;\" d=\"M 139.792969 261.300781 L 132.695313 258.875 L 135.476563 255.167969 L 139.792969 261.300781 \"/>\n",
       "<path style=\"fill-rule:nonzero;fill:rgb(100%,100%,100%);fill-opacity:1;stroke-width:1;stroke-linecap:butt;stroke-linejoin:miter;stroke:rgb(0%,0%,0%);stroke-opacity:1;stroke-miterlimit:10;\" d=\"M 223.8125 67.121094 L 241.8125 67.121094 L 241.8125 85.121094 L 223.8125 85.121094 Z M 223.8125 67.121094 \"/>\n",
       "<path style=\"fill-rule:nonzero;fill:rgb(100%,100%,100%);fill-opacity:1;stroke-width:1;stroke-linecap:butt;stroke-linejoin:miter;stroke:rgb(0%,0%,0%);stroke-opacity:1;stroke-miterlimit:10;\" d=\"M 171.4375 65.914063 L 189.4375 65.914063 L 189.4375 83.914063 L 171.4375 83.914063 Z M 171.4375 65.914063 \"/>\n",
       "<path style=\"fill-rule:nonzero;fill:rgb(100%,100%,100%);fill-opacity:1;stroke-width:1;stroke-linecap:butt;stroke-linejoin:miter;stroke:rgb(0%,0%,0%);stroke-opacity:1;stroke-miterlimit:10;\" d=\"M 269.582031 48.230469 L 287.582031 48.230469 L 287.582031 66.230469 L 269.582031 66.230469 Z M 269.582031 48.230469 \"/>\n",
       "<path style=\"fill-rule:nonzero;fill:rgb(100%,100%,100%);fill-opacity:1;stroke-width:1;stroke-linecap:butt;stroke-linejoin:miter;stroke:rgb(0%,0%,0%);stroke-opacity:1;stroke-miterlimit:10;\" d=\"M 93.203125 224.109375 L 111.203125 224.109375 L 111.203125 242.109375 L 93.203125 242.109375 Z M 93.203125 224.109375 \"/>\n",
       "<path style=\"fill-rule:nonzero;fill:rgb(100%,100%,100%);fill-opacity:1;stroke-width:1;stroke-linecap:butt;stroke-linejoin:miter;stroke:rgb(0%,0%,0%);stroke-opacity:1;stroke-miterlimit:10;\" d=\"M 263.003906 216.9375 L 281.003906 216.9375 L 281.003906 234.9375 L 263.003906 234.9375 Z M 263.003906 216.9375 \"/>\n",
       "<path style=\"fill-rule:nonzero;fill:rgb(100%,100%,100%);fill-opacity:1;stroke-width:1;stroke-linecap:butt;stroke-linejoin:miter;stroke:rgb(0%,0%,0%);stroke-opacity:1;stroke-miterlimit:10;\" d=\"M 249.875 266.207031 L 267.875 266.207031 L 267.875 284.207031 L 249.875 284.207031 Z M 249.875 266.207031 \"/>\n",
       "<path style=\"fill-rule:nonzero;fill:rgb(100%,100%,100%);fill-opacity:1;stroke-width:1;stroke-linecap:butt;stroke-linejoin:miter;stroke:rgb(0%,0%,0%);stroke-opacity:1;stroke-miterlimit:10;\" d=\"M 74.171875 271 L 92.171875 271 L 92.171875 289 L 74.171875 289 Z M 74.171875 271 \"/>\n",
       "<path style=\"fill-rule:nonzero;fill:rgb(100%,100%,100%);fill-opacity:1;stroke-width:1;stroke-linecap:butt;stroke-linejoin:miter;stroke:rgb(0%,0%,0%);stroke-opacity:1;stroke-miterlimit:10;\" d=\"M 55.867188 108.96875 L 73.867188 108.96875 L 73.867188 126.96875 L 55.867188 126.96875 Z M 55.867188 108.96875 \"/>\n",
       "<path style=\"fill-rule:nonzero;fill:rgb(100%,100%,100%);fill-opacity:1;stroke-width:1;stroke-linecap:butt;stroke-linejoin:miter;stroke:rgb(0%,0%,0%);stroke-opacity:1;stroke-miterlimit:10;\" d=\"M 11 159.253906 L 29 159.253906 L 29 177.253906 L 11 177.253906 Z M 11 159.253906 \"/>\n",
       "<path style=\"fill-rule:nonzero;fill:rgb(100%,100%,100%);fill-opacity:1;stroke-width:1;stroke-linecap:butt;stroke-linejoin:miter;stroke:rgb(0%,0%,0%);stroke-opacity:1;stroke-miterlimit:10;\" d=\"M 251.3125 157.324219 L 269.3125 157.324219 L 269.3125 175.324219 L 251.3125 175.324219 Z M 251.3125 157.324219 \"/>\n",
       "<path style=\"fill-rule:nonzero;fill:rgb(100%,100%,100%);fill-opacity:1;stroke-width:1;stroke-linecap:butt;stroke-linejoin:miter;stroke:rgb(0%,0%,0%);stroke-opacity:1;stroke-miterlimit:10;\" d=\"M 139.792969 259.050781 L 157.792969 259.050781 L 157.792969 277.050781 L 139.792969 277.050781 Z M 139.792969 259.050781 \"/>\n",
       "<path style=\"fill-rule:nonzero;fill:rgb(100%,100%,100%);fill-opacity:1;stroke-width:1;stroke-linecap:butt;stroke-linejoin:miter;stroke:rgb(0%,0%,0%);stroke-opacity:1;stroke-miterlimit:10;\" d=\"M 85.851563 11 L 103.851563 11 L 103.851563 29 L 85.851563 29 Z M 85.851563 11 \"/>\n",
       "<path style=\"fill-rule:nonzero;fill:rgb(100%,100%,100%);fill-opacity:1;stroke-width:1;stroke-linecap:butt;stroke-linejoin:miter;stroke:rgb(0%,0%,0%);stroke-opacity:1;stroke-miterlimit:10;\" d=\"M 61.207031 166.71875 L 79.207031 166.71875 L 79.207031 184.71875 L 61.207031 184.71875 Z M 61.207031 166.71875 \"/>\n",
       "<path style=\"fill-rule:nonzero;fill:rgb(100%,100%,100%);fill-opacity:1;stroke-width:1;stroke-linecap:butt;stroke-linejoin:miter;stroke:rgb(0%,0%,0%);stroke-opacity:1;stroke-miterlimit:10;\" d=\"M 201.433594 114.65625 L 219.433594 114.65625 L 219.433594 132.65625 L 201.433594 132.65625 Z M 201.433594 114.65625 \"/>\n",
       "<path style=\"fill-rule:nonzero;fill:rgb(100%,100%,100%);fill-opacity:1;stroke-width:1;stroke-linecap:butt;stroke-linejoin:miter;stroke:rgb(0%,0%,0%);stroke-opacity:1;stroke-miterlimit:10;\" d=\"M 271 100.652344 L 289 100.652344 L 289 118.652344 L 271 118.652344 Z M 271 100.652344 \"/>\n",
       "<g style=\"fill:rgb(0%,0%,0%);fill-opacity:1;\">\n",
       "  <use xlink:href=\"#glyph0-1\" x=\"231.269531\" y=\"82.628906\"/>\n",
       "</g>\n",
       "<g style=\"fill:rgb(0%,0%,0%);fill-opacity:1;\">\n",
       "  <use xlink:href=\"#glyph0-2\" x=\"176.589844\" y=\"80.125\"/>\n",
       "</g>\n",
       "<g style=\"fill:rgb(0%,0%,0%);fill-opacity:1;\">\n",
       "  <use xlink:href=\"#glyph0-3\" x=\"274.515625\" y=\"63.738281\"/>\n",
       "</g>\n",
       "<g style=\"fill:rgb(0%,0%,0%);fill-opacity:1;\">\n",
       "  <use xlink:href=\"#glyph0-4\" x=\"98.496094\" y=\"238.320313\"/>\n",
       "</g>\n",
       "<g style=\"fill:rgb(0%,0%,0%);fill-opacity:1;\">\n",
       "  <use xlink:href=\"#glyph0-5\" x=\"268.375\" y=\"232.445313\"/>\n",
       "</g>\n",
       "<g style=\"fill:rgb(0%,0%,0%);fill-opacity:1;\">\n",
       "  <use xlink:href=\"#glyph0-6\" x=\"255.007813\" y=\"280.417969\"/>\n",
       "</g>\n",
       "<g style=\"fill:rgb(0%,0%,0%);fill-opacity:1;\">\n",
       "  <use xlink:href=\"#glyph0-7\" x=\"77.707031\" y=\"286.511719\"/>\n",
       "  <use xlink:href=\"#glyph0-1\" x=\"85.882813\" y=\"286.511719\"/>\n",
       "</g>\n",
       "<g style=\"fill:rgb(0%,0%,0%);fill-opacity:1;\">\n",
       "  <use xlink:href=\"#glyph0-7\" x=\"56.886719\" y=\"123.179688\"/>\n",
       "  <use xlink:href=\"#glyph0-2\" x=\"65.0625\" y=\"123.179688\"/>\n",
       "</g>\n",
       "<g style=\"fill:rgb(0%,0%,0%);fill-opacity:1;\">\n",
       "  <use xlink:href=\"#glyph0-7\" x=\"12.007813\" y=\"174.765625\"/>\n",
       "  <use xlink:href=\"#glyph0-3\" x=\"20.183594\" y=\"174.765625\"/>\n",
       "</g>\n",
       "<g style=\"fill:rgb(0%,0%,0%);fill-opacity:1;\">\n",
       "  <use xlink:href=\"#glyph0-7\" x=\"252.492188\" y=\"171.535156\"/>\n",
       "  <use xlink:href=\"#glyph0-4\" x=\"260.667969\" y=\"171.535156\"/>\n",
       "</g>\n",
       "<g style=\"fill:rgb(0%,0%,0%);fill-opacity:1;\">\n",
       "  <use xlink:href=\"#glyph0-7\" x=\"141.019531\" y=\"274.5625\"/>\n",
       "  <use xlink:href=\"#glyph0-5\" x=\"149.195313\" y=\"274.5625\"/>\n",
       "</g>\n",
       "<g style=\"fill:rgb(0%,0%,0%);fill-opacity:1;\">\n",
       "  <use xlink:href=\"#glyph0-7\" x=\"86.835938\" y=\"25.210938\"/>\n",
       "  <use xlink:href=\"#glyph0-6\" x=\"95.011719\" y=\"25.210938\"/>\n",
       "</g>\n",
       "<g style=\"fill:rgb(0%,0%,0%);fill-opacity:1;\">\n",
       "  <use xlink:href=\"#glyph0-4\" x=\"63.828125\" y=\"182.25\"/>\n",
       "  <use xlink:href=\"#glyph0-8\" x=\"70.828125\" y=\"182.25\"/>\n",
       "</g>\n",
       "<g style=\"fill:rgb(0%,0%,0%);fill-opacity:1;\">\n",
       "  <use xlink:href=\"#glyph0-4\" x=\"203.136719\" y=\"130.1875\"/>\n",
       "  <use xlink:href=\"#glyph0-9\" x=\"210.136719\" y=\"130.1875\"/>\n",
       "</g>\n",
       "<g style=\"fill:rgb(0%,0%,0%);fill-opacity:1;\">\n",
       "  <use xlink:href=\"#glyph0-4\" x=\"272.652344\" y=\"116.183594\"/>\n",
       "  <use xlink:href=\"#glyph0-10\" x=\"279.652344\" y=\"116.183594\"/>\n",
       "</g>\n",
       "</g>\n",
       "</svg>\n"
      ],
      "text/plain": [
       "<igraph.drawing.Plot at 0x26749b6b3a0>"
      ]
     },
     "execution_count": 6,
     "metadata": {
      "image/svg+xml": {
       "isolated": true
      }
     },
     "output_type": "execute_result"
    }
   ],
   "source": [
    "exp_test = update_expand.expand(test, table, 1)\n",
    "igraph.plot(exp_test, vertex_size = 18, vertex_shape = \"square\",\n",
    "        edge_arrow_size = 0.5, vertex_color = \"white\", bbox=(0, 0, 300, 300))"
   ]
  },
  {
   "cell_type": "markdown",
   "id": "b7fd795f",
   "metadata": {},
   "source": [
    "### sgmfr.py\n",
    "\n",
    "This is a method for calculating the minimal functional routes of an expanded graph provided by **update_expand**. The method uses a top-down subgraph-growing algorithm to generate minimal functional routes in the expanded graph. starting from a target node, the algorithm examines its predecessors. If there are no composite nodes, it proceeds by adding predecessors one at a time until it reaches the source node, at which point it will pursue a different chain of predecessors, much like a normal shortest-path algorithm. However, if it encounters a composite node, the method appends all of the nodes predecessors as one synergistic set in the minimal functional route. To avoid redundancy that may occur from cyclic graphs, cycles are cleaved after all minimal functional routes are generated."
   ]
  },
  {
   "cell_type": "code",
   "execution_count": null,
   "id": "4e4e70a4",
   "metadata": {},
   "outputs": [],
   "source": []
  },
  {
   "cell_type": "markdown",
   "id": "90c16ce2",
   "metadata": {},
   "source": [
    "## pmodpy"
   ]
  },
  {
   "cell_type": "code",
   "execution_count": null,
   "id": "129914c2",
   "metadata": {},
   "outputs": [],
   "source": []
  },
  {
   "cell_type": "code",
   "execution_count": null,
   "id": "62a22b4a",
   "metadata": {},
   "outputs": [],
   "source": []
  }
 ],
 "metadata": {
  "kernelspec": {
   "display_name": "Python 3 (ipykernel)",
   "language": "python",
   "name": "python3"
  },
  "language_info": {
   "codemirror_mode": {
    "name": "ipython",
    "version": 3
   },
   "file_extension": ".py",
   "mimetype": "text/x-python",
   "name": "python",
   "nbconvert_exporter": "python",
   "pygments_lexer": "ipython3",
   "version": "3.9.13"
  }
 },
 "nbformat": 4,
 "nbformat_minor": 5
}
