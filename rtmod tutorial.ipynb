{
 "cells": [
  {
   "cell_type": "markdown",
   "id": "cc6b1b66",
   "metadata": {},
   "source": [
    "# Overview\n",
    "\n",
    "**rtmod** is a python repository for approximating the route modulus for directed, simple graphs. The packages in this repository are dependent on *igraph* and *numpy*, so if you have not already, install them by running\n"
   ]
  },
  {
   "cell_type": "code",
   "execution_count": 1,
   "id": "964db289",
   "metadata": {},
   "outputs": [
    {
     "name": "stdout",
     "output_type": "stream",
     "text": [
      "Requirement already satisfied: igraph in c:\\users\\igors\\appdata\\local\\packages\\pythonsoftwarefoundation.python.3.9_qbz5n2kfra8p0\\localcache\\local-packages\\python39\\site-packages (0.1.14)\n",
      "Requirement already satisfied: numpy in c:\\users\\igors\\appdata\\local\\packages\\pythonsoftwarefoundation.python.3.9_qbz5n2kfra8p0\\localcache\\local-packages\\python39\\site-packages (1.21.2)\n"
     ]
    }
   ],
   "source": [
    "!pip install igraph\n",
    "!pip install numpy"
   ]
  },
  {
   "cell_type": "markdown",
   "id": "0ced2a10",
   "metadata": {},
   "source": [
    "This notebook is meant to be a comprehensive overview of the main functionality of the packages in rtmod, how they work, and how to use them. Specifically, we will review the methods of the mfrpy and pmodpy packages."
   ]
  },
  {
   "cell_type": "markdown",
   "id": "1d0418b8",
   "metadata": {},
   "source": [
    "## Motivation\n",
    "- cell signal transduction networks\n",
    "- synergy between edges\n",
    "- inhibitory edges\n",
    "- previous work "
   ]
  },
  {
   "cell_type": "markdown",
   "id": "c1885c47",
   "metadata": {},
   "source": [
    "## mfrpy\n",
    "\n",
    "mfrpy is a package for calculating the minimal functional routes of a given graph. "
   ]
  },
  {
   "cell_type": "code",
   "execution_count": null,
   "id": "2f70ebf9",
   "metadata": {},
   "outputs": [],
   "source": []
  },
  {
   "cell_type": "markdown",
   "id": "6e8a8740",
   "metadata": {},
   "source": [
    "### update_expand.py\n",
    "\n",
    "This is a collection of methods for generating boolean update tables for the input graph, and converting these input tables into an expanded graph with composite nodes and logical NOT nodes to capture the behaviors of synergistic and inhibitory edges."
   ]
  },
  {
   "cell_type": "code",
   "execution_count": null,
   "id": "b69ab44e",
   "metadata": {},
   "outputs": [],
   "source": []
  },
  {
   "cell_type": "markdown",
   "id": "b7fd795f",
   "metadata": {},
   "source": [
    "### sgmfr.py\n",
    "\n",
    "This is a method for calculating the minimal functional routes of an expanded graph provided by **update_expand**. The method uses a top-down subgraph-growing algorithm..."
   ]
  },
  {
   "cell_type": "code",
   "execution_count": null,
   "id": "4e4e70a4",
   "metadata": {},
   "outputs": [],
   "source": []
  },
  {
   "cell_type": "markdown",
   "id": "90c16ce2",
   "metadata": {},
   "source": [
    "## pmodpy"
   ]
  },
  {
   "cell_type": "code",
   "execution_count": null,
   "id": "129914c2",
   "metadata": {},
   "outputs": [],
   "source": []
  },
  {
   "cell_type": "code",
   "execution_count": null,
   "id": "62a22b4a",
   "metadata": {},
   "outputs": [],
   "source": []
  }
 ],
 "metadata": {
  "kernelspec": {
   "display_name": "Python 3 (ipykernel)",
   "language": "python",
   "name": "python3"
  },
  "language_info": {
   "codemirror_mode": {
    "name": "ipython",
    "version": 3
   },
   "file_extension": ".py",
   "mimetype": "text/x-python",
   "name": "python",
   "nbconvert_exporter": "python",
   "pygments_lexer": "ipython3",
   "version": "3.9.13"
  }
 },
 "nbformat": 4,
 "nbformat_minor": 5
}
