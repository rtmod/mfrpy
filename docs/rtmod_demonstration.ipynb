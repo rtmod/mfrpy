{
 "cells": [
  {
   "cell_type": "markdown",
   "id": "d9a25140",
   "metadata": {},
   "source": [
    "# A Demonstration of rtmod Pipeline with 3 Signal Transduction Networks\n",
    "\n",
    "### *Igor Sokolov*\n",
    "### June 2023\n",
    "\n",
    "The following is a full demonstration of the rtmod package pipeline with small, medium, and large signal transduction networks. The current implementation does not consider inhibitory relationships, only dependent activation.\n",
    "\n",
    "To start, we initialize our networks and extract their minimal functional routes:"
   ]
  },
  {
   "cell_type": "code",
   "execution_count": 3,
   "id": "4a7ed1f1",
   "metadata": {},
   "outputs": [
    {
     "name": "stdout",
     "output_type": "stream",
     "text": [
      "C:\\Users\\igors\\Research\\rtmod\\mfrpy\\docs\n",
      "C:\\Users\\igors\\Research\\rtmod\\mfrpy\n"
     ]
    }
   ],
   "source": [
    "import igraph, pmodpy, os\n",
    "os.chdir('..')\n",
    "from tabulate import tabulate\n",
    "from igraph import Graph, plot\n",
    "from mfrpy import sgmfr\n",
    "from mfrpy.examplegraphs import igraph_graph\n",
    "xiao = igraph_graph.xiao_wnt5a\n",
    "xiao.vs[\"label\"]=xiao.vs[\"name\"]\n",
    "bordetellae = igraph_graph.bordetellae\n",
    "dendritic = Graph.Read_GML(\"mfrpy\\examplegraphs\\dendrite.gml\")\n",
    "xiao_mfrs = sgmfr.get_mfrs(xiao, [0], 5)[0]\n",
    "bord_mfrs = sgmfr.get_mfrs(bordetellae, [0], 14)[0]\n",
    "dend_mfrs = sgmfr.get_mfrs(dendritic, [0,1], 20)[0]"
   ]
  },
  {
   "cell_type": "markdown",
   "id": "61433fa8",
   "metadata": {},
   "source": [
    "For a small network with only 7 nodes, we use an example graph from Xiao et al. (2007) and consider MFRs from $x_4$ to $x_1$."
   ]
  },
  {
   "cell_type": "code",
   "execution_count": 4,
   "id": "d844bbc4",
   "metadata": {},
   "outputs": [
    {
     "data": {
      "image/svg+xml": [
       "<?xml version=\"1.0\" encoding=\"UTF-8\"?>\n",
       "<svg xmlns=\"http://www.w3.org/2000/svg\" xmlns:xlink=\"http://www.w3.org/1999/xlink\" width=\"400pt\" height=\"300pt\" viewBox=\"0 0 400 300\" version=\"1.1\">\n",
       "<defs>\n",
       "<g>\n",
       "<symbol overflow=\"visible\" id=\"glyph0-0\">\n",
       "<path style=\"stroke:none;\" d=\"M 1 0 L 1 -5 L 5 -5 L 5 0 Z M 1.125 -0.125 L 4.875 -0.125 L 4.875 -4.875 L 1.125 -4.875 Z M 1.125 -0.125 \"/>\n",
       "</symbol>\n",
       "<symbol overflow=\"visible\" id=\"glyph0-1\">\n",
       "<path style=\"stroke:none;\" d=\"M 0.0585938 0 L 1.574219 -2.15625 L 0.171875 -4.148438 L 1.050781 -4.148438 L 1.6875 -3.175781 C 1.804688 -2.988281 1.898438 -2.832031 1.976563 -2.710938 C 2.085938 -2.878906 2.191406 -3.03125 2.292969 -3.167969 L 2.992188 -4.148438 L 3.832031 -4.148438 L 2.398438 -2.195313 L 3.941406 0 L 3.078125 0 L 2.226563 -1.289063 L 2 -1.636719 L 0.910156 0 Z M 0.0585938 0 \"/>\n",
       "</symbol>\n",
       "<symbol overflow=\"visible\" id=\"glyph0-2\">\n",
       "<path style=\"stroke:none;\" d=\"M 2.585938 0 L 2.585938 -1.371094 L 0.101563 -1.371094 L 0.101563 -2.015625 L 2.714844 -5.726563 L 3.289063 -5.726563 L 3.289063 -2.015625 L 4.0625 -2.015625 L 4.0625 -1.371094 L 3.289063 -1.371094 L 3.289063 0 Z M 2.585938 -2.015625 L 2.585938 -4.597656 L 0.792969 -2.015625 Z M 2.585938 -2.015625 \"/>\n",
       "</symbol>\n",
       "<symbol overflow=\"visible\" id=\"glyph0-3\">\n",
       "<path style=\"stroke:none;\" d=\"M 3.980469 -4.324219 L 3.28125 -4.269531 C 3.21875 -4.542969 3.128906 -4.742188 3.015625 -4.871094 C 2.824219 -5.066406 2.589844 -5.167969 2.3125 -5.171875 C 2.085938 -5.167969 1.890625 -5.105469 1.722656 -4.984375 C 1.5 -4.820313 1.324219 -4.585938 1.199219 -4.277344 C 1.070313 -3.964844 1.003906 -3.523438 1 -2.953125 C 1.167969 -3.210938 1.375 -3.402344 1.621094 -3.527344 C 1.863281 -3.652344 2.121094 -3.714844 2.390625 -3.714844 C 2.859375 -3.714844 3.257813 -3.539063 3.585938 -3.195313 C 3.914063 -2.847656 4.078125 -2.402344 4.082031 -1.859375 C 4.078125 -1.496094 4 -1.164063 3.847656 -0.855469 C 3.691406 -0.546875 3.480469 -0.308594 3.210938 -0.148438 C 2.9375 0.015625 2.628906 0.09375 2.289063 0.0976563 C 1.699219 0.09375 1.222656 -0.117188 0.855469 -0.546875 C 0.484375 -0.976563 0.296875 -1.6875 0.300781 -2.679688 C 0.296875 -3.78125 0.503906 -4.585938 0.914063 -5.09375 C 1.269531 -5.527344 1.75 -5.746094 2.355469 -5.75 C 2.804688 -5.746094 3.171875 -5.621094 3.460938 -5.371094 C 3.746094 -5.117188 3.917969 -4.769531 3.980469 -4.324219 Z M 1.109375 -1.855469 C 1.105469 -1.609375 1.15625 -1.378906 1.261719 -1.160156 C 1.363281 -0.9375 1.507813 -0.765625 1.695313 -0.652344 C 1.875 -0.535156 2.070313 -0.480469 2.277344 -0.480469 C 2.570313 -0.480469 2.824219 -0.597656 3.042969 -0.839844 C 3.253906 -1.074219 3.363281 -1.402344 3.363281 -1.816406 C 3.363281 -2.210938 3.257813 -2.519531 3.046875 -2.75 C 2.835938 -2.976563 2.570313 -3.09375 2.25 -3.09375 C 1.929688 -3.09375 1.660156 -2.976563 1.441406 -2.75 C 1.21875 -2.519531 1.105469 -2.222656 1.109375 -1.855469 Z M 1.109375 -1.855469 \"/>\n",
       "</symbol>\n",
       "<symbol overflow=\"visible\" id=\"glyph0-4\">\n",
       "<path style=\"stroke:none;\" d=\"M 4.027344 -0.675781 L 4.027344 0 L 0.242188 0 C 0.234375 -0.167969 0.261719 -0.328125 0.324219 -0.488281 C 0.417969 -0.742188 0.574219 -0.996094 0.785156 -1.25 C 0.996094 -1.496094 1.300781 -1.785156 1.707031 -2.117188 C 2.324219 -2.625 2.746094 -3.03125 2.96875 -3.328125 C 3.183594 -3.625 3.292969 -3.90625 3.296875 -4.175781 C 3.292969 -4.453125 3.191406 -4.6875 2.996094 -4.878906 C 2.792969 -5.070313 2.535156 -5.167969 2.21875 -5.167969 C 1.878906 -5.167969 1.609375 -5.066406 1.40625 -4.863281 C 1.203125 -4.660156 1.097656 -4.378906 1.097656 -4.019531 L 0.375 -4.09375 C 0.421875 -4.628906 0.605469 -5.039063 0.933594 -5.324219 C 1.253906 -5.605469 1.6875 -5.746094 2.234375 -5.75 C 2.78125 -5.746094 3.21875 -5.59375 3.539063 -5.292969 C 3.859375 -4.984375 4.019531 -4.609375 4.019531 -4.160156 C 4.019531 -3.929688 3.972656 -3.703125 3.878906 -3.484375 C 3.785156 -3.261719 3.628906 -3.027344 3.410156 -2.785156 C 3.191406 -2.535156 2.828125 -2.199219 2.328125 -1.777344 C 1.902344 -1.417969 1.632813 -1.179688 1.515625 -1.054688 C 1.394531 -0.929688 1.296875 -0.800781 1.21875 -0.675781 Z M 4.027344 -0.675781 \"/>\n",
       "</symbol>\n",
       "<symbol overflow=\"visible\" id=\"glyph0-5\">\n",
       "<path style=\"stroke:none;\" d=\"M 0.335938 -1.511719 L 1.039063 -1.605469 C 1.117188 -1.207031 1.253906 -0.917969 1.449219 -0.742188 C 1.640625 -0.566406 1.878906 -0.480469 2.160156 -0.480469 C 2.488281 -0.480469 2.765625 -0.59375 2.996094 -0.824219 C 3.222656 -1.050781 3.339844 -1.335938 3.339844 -1.675781 C 3.339844 -1.996094 3.234375 -2.261719 3.023438 -2.472656 C 2.8125 -2.683594 2.542969 -2.789063 2.21875 -2.789063 C 2.082031 -2.789063 1.917969 -2.761719 1.722656 -2.710938 L 1.800781 -3.328125 C 1.84375 -3.320313 1.882813 -3.316406 1.914063 -3.320313 C 2.210938 -3.316406 2.480469 -3.394531 2.722656 -3.554688 C 2.960938 -3.707031 3.082031 -3.949219 3.082031 -4.277344 C 3.082031 -4.535156 2.992188 -4.746094 2.820313 -4.917969 C 2.640625 -5.082031 2.417969 -5.167969 2.144531 -5.171875 C 1.871094 -5.167969 1.640625 -5.082031 1.460938 -4.914063 C 1.273438 -4.738281 1.15625 -4.480469 1.109375 -4.140625 L 0.40625 -4.265625 C 0.488281 -4.734375 0.683594 -5.097656 0.992188 -5.359375 C 1.292969 -5.617188 1.671875 -5.746094 2.128906 -5.75 C 2.4375 -5.746094 2.726563 -5.679688 2.992188 -5.546875 C 3.253906 -5.410156 3.453125 -5.226563 3.59375 -5 C 3.730469 -4.765625 3.800781 -4.519531 3.804688 -4.261719 C 3.800781 -4.011719 3.734375 -3.789063 3.605469 -3.585938 C 3.46875 -3.382813 3.273438 -3.21875 3.015625 -3.101563 C 3.351563 -3.019531 3.613281 -2.859375 3.804688 -2.613281 C 3.988281 -2.367188 4.082031 -2.058594 4.085938 -1.691406 C 4.082031 -1.1875 3.902344 -0.761719 3.539063 -0.417969 C 3.171875 -0.0703125 2.710938 0.0976563 2.15625 0.101563 C 1.652344 0.0976563 1.234375 -0.046875 0.902344 -0.347656 C 0.570313 -0.644531 0.378906 -1.035156 0.335938 -1.511719 Z M 0.335938 -1.511719 \"/>\n",
       "</symbol>\n",
       "<symbol overflow=\"visible\" id=\"glyph0-6\">\n",
       "<path style=\"stroke:none;\" d=\"M 0.378906 -4.976563 L 0.378906 -5.652344 L 4.085938 -5.652344 L 4.085938 -5.105469 C 3.71875 -4.714844 3.359375 -4.199219 3 -3.558594 C 2.640625 -2.910156 2.363281 -2.25 2.171875 -1.574219 C 2.027344 -1.09375 1.9375 -0.570313 1.902344 0 L 1.179688 0 C 1.183594 -0.449219 1.273438 -0.992188 1.445313 -1.632813 C 1.613281 -2.269531 1.855469 -2.882813 2.171875 -3.476563 C 2.488281 -4.066406 2.824219 -4.566406 3.183594 -4.976563 Z M 0.378906 -4.976563 \"/>\n",
       "</symbol>\n",
       "<symbol overflow=\"visible\" id=\"glyph0-7\">\n",
       "<path style=\"stroke:none;\" d=\"M 2.980469 0 L 2.277344 0 L 2.277344 -4.480469 C 2.105469 -4.316406 1.882813 -4.15625 1.609375 -3.996094 C 1.332031 -3.832031 1.085938 -3.710938 0.871094 -3.632813 L 0.871094 -4.3125 C 1.261719 -4.496094 1.605469 -4.71875 1.902344 -4.984375 C 2.195313 -5.246094 2.402344 -5.5 2.527344 -5.75 L 2.980469 -5.75 Z M 2.980469 0 \"/>\n",
       "</symbol>\n",
       "<symbol overflow=\"visible\" id=\"glyph0-8\">\n",
       "<path style=\"stroke:none;\" d=\"M 0.332031 -1.5 L 1.070313 -1.5625 C 1.121094 -1.199219 1.246094 -0.929688 1.449219 -0.75 C 1.644531 -0.570313 1.886719 -0.480469 2.171875 -0.480469 C 2.507813 -0.480469 2.792969 -0.605469 3.03125 -0.863281 C 3.261719 -1.113281 3.378906 -1.453125 3.382813 -1.878906 C 3.378906 -2.277344 3.265625 -2.59375 3.042969 -2.828125 C 2.816406 -3.058594 2.523438 -3.175781 2.160156 -3.175781 C 1.929688 -3.175781 1.726563 -3.121094 1.546875 -3.019531 C 1.363281 -2.914063 1.21875 -2.78125 1.117188 -2.621094 L 0.457031 -2.707031 L 1.011719 -5.648438 L 3.859375 -5.648438 L 3.859375 -4.976563 L 1.574219 -4.976563 L 1.265625 -3.4375 C 1.609375 -3.675781 1.96875 -3.796875 2.347656 -3.796875 C 2.84375 -3.796875 3.265625 -3.621094 3.613281 -3.277344 C 3.953125 -2.925781 4.125 -2.480469 4.128906 -1.941406 C 4.125 -1.417969 3.972656 -0.972656 3.675781 -0.597656 C 3.304688 -0.136719 2.804688 0.09375 2.171875 0.0976563 C 1.648438 0.09375 1.222656 -0.0507813 0.894531 -0.339844 C 0.5625 -0.628906 0.375 -1.015625 0.332031 -1.5 Z M 0.332031 -1.5 \"/>\n",
       "</symbol>\n",
       "</g>\n",
       "</defs>\n",
       "<g id=\"surface2\">\n",
       "<rect x=\"0\" y=\"0\" width=\"400\" height=\"300\" style=\"fill:rgb(100%,100%,100%);fill-opacity:1;stroke:none;\"/>\n",
       "<path style=\"fill:none;stroke-width:1;stroke-linecap:butt;stroke-linejoin:miter;stroke:rgb(26.666667%,26.666667%,26.666667%);stroke-opacity:1;stroke-miterlimit:10;\" d=\"M 158.660156 125.644531 L 201.976563 178.507813 \"/>\n",
       "<path style=\" stroke:none;fill-rule:nonzero;fill:rgb(26.666667%,26.666667%,26.666667%);fill-opacity:1;\" d=\"M 206.5 184.023438 L 200.183594 179.976563 L 203.769531 177.039063 L 206.5 184.023438 \"/>\n",
       "<path style=\"fill:none;stroke-width:1;stroke-linecap:butt;stroke-linejoin:miter;stroke:rgb(26.666667%,26.666667%,26.666667%);stroke-opacity:1;stroke-miterlimit:10;\" d=\"M 46.523438 153.390625 L 195.332031 189.109375 \"/>\n",
       "<path style=\" stroke:none;fill-rule:nonzero;fill:rgb(26.666667%,26.666667%,26.666667%);fill-opacity:1;\" d=\"M 202.265625 190.773438 L 194.789063 191.363281 L 195.871094 186.855469 L 202.265625 190.773438 \"/>\n",
       "<path style=\"fill:none;stroke-width:1;stroke-linecap:butt;stroke-linejoin:miter;stroke:rgb(26.666667%,26.666667%,26.666667%);stroke-opacity:1;stroke-miterlimit:10;\" d=\"M 158.660156 125.644531 L 201.976563 178.507813 \"/>\n",
       "<path style=\" stroke:none;fill-rule:nonzero;fill:rgb(26.666667%,26.666667%,26.666667%);fill-opacity:1;\" d=\"M 206.5 184.023438 L 200.183594 179.976563 L 203.769531 177.039063 L 206.5 184.023438 \"/>\n",
       "<path style=\"fill:none;stroke-width:1;stroke-linecap:butt;stroke-linejoin:miter;stroke:rgb(26.666667%,26.666667%,26.666667%);stroke-opacity:1;stroke-miterlimit:10;\" d=\"M 246.429688 180.433594 C 246.429688 190.789063 238.035156 199.183594 227.679688 199.183594 C 217.324219 199.183594 208.929688 190.789063 208.929688 180.433594 C 208.929688 170.078125 217.324219 161.683594 227.679688 161.683594 C 238.035156 161.683594 246.429688 170.078125 246.429688 180.433594 \"/>\n",
       "<path style=\"fill:none;stroke-width:1;stroke-linecap:butt;stroke-linejoin:miter;stroke:rgb(26.666667%,26.666667%,26.666667%);stroke-opacity:1;stroke-miterlimit:10;\" d=\"M 46.523438 153.390625 L 195.332031 189.109375 \"/>\n",
       "<path style=\" stroke:none;fill-rule:nonzero;fill:rgb(26.666667%,26.666667%,26.666667%);fill-opacity:1;\" d=\"M 202.265625 190.773438 L 194.789063 191.363281 L 195.871094 186.855469 L 202.265625 190.773438 \"/>\n",
       "<path style=\"fill:none;stroke-width:1;stroke-linecap:butt;stroke-linejoin:miter;stroke:rgb(26.666667%,26.666667%,26.666667%);stroke-opacity:1;stroke-miterlimit:10;\" d=\"M 246.429688 180.433594 C 246.429688 190.789063 238.035156 199.183594 227.679688 199.183594 C 217.324219 199.183594 208.929688 190.789063 208.929688 180.433594 C 208.929688 170.078125 217.324219 161.683594 227.679688 161.683594 C 238.035156 161.683594 246.429688 170.078125 246.429688 180.433594 \"/>\n",
       "<path style=\"fill:none;stroke-width:1;stroke-linecap:butt;stroke-linejoin:miter;stroke:rgb(26.666667%,26.666667%,26.666667%);stroke-opacity:1;stroke-miterlimit:10;\" d=\"M 189.691406 280 L 38.730469 232.597656 \"/>\n",
       "<path style=\" stroke:none;fill-rule:nonzero;fill:rgb(26.666667%,26.666667%,26.666667%);fill-opacity:1;\" d=\"M 31.925781 230.460938 L 39.425781 230.386719 L 38.035156 234.808594 L 31.925781 230.460938 \"/>\n",
       "<path style=\"fill:none;stroke-width:1;stroke-linecap:butt;stroke-linejoin:miter;stroke:rgb(26.666667%,26.666667%,26.666667%);stroke-opacity:1;stroke-miterlimit:10;\" d=\"M 46.523438 153.390625 L 139.601563 130.359375 \"/>\n",
       "<path style=\" stroke:none;fill-rule:nonzero;fill:rgb(26.666667%,26.666667%,26.666667%);fill-opacity:1;\" d=\"M 146.523438 128.648438 L 140.15625 132.609375 L 139.042969 128.109375 L 146.523438 128.648438 \"/>\n",
       "<path style=\"fill:none;stroke-width:1;stroke-linecap:butt;stroke-linejoin:miter;stroke:rgb(26.666667%,26.666667%,26.666667%);stroke-opacity:1;stroke-miterlimit:10;\" d=\"M 20 226.714844 L 142.792969 137.210938 \"/>\n",
       "<path style=\" stroke:none;fill-rule:nonzero;fill:rgb(26.666667%,26.666667%,26.666667%);fill-opacity:1;\" d=\"M 148.558594 133.007813 L 144.160156 139.082031 L 141.429688 135.335938 L 148.558594 133.007813 \"/>\n",
       "<path style=\"fill:none;stroke-width:1;stroke-linecap:butt;stroke-linejoin:miter;stroke:rgb(26.666667%,26.666667%,26.666667%);stroke-opacity:1;stroke-miterlimit:10;\" d=\"M 221.699219 266.742188 C 221.699219 277.097656 213.304688 285.492188 202.949219 285.492188 C 192.59375 285.492188 184.199219 277.097656 184.199219 266.742188 C 184.199219 256.386719 192.59375 247.992188 202.949219 247.992188 C 213.304688 247.992188 221.699219 256.386719 221.699219 266.742188 \"/>\n",
       "<path style=\"fill:none;stroke-width:1;stroke-linecap:butt;stroke-linejoin:miter;stroke:rgb(26.666667%,26.666667%,26.666667%);stroke-opacity:1;stroke-miterlimit:10;\" d=\"M 214.421875 193.691406 L 195.097656 261.125 \"/>\n",
       "<path style=\" stroke:none;fill-rule:nonzero;fill:rgb(26.666667%,26.666667%,26.666667%);fill-opacity:1;\" d=\"M 193.132813 267.984375 L 192.871094 260.488281 L 197.324219 261.765625 L 193.132813 267.984375 \"/>\n",
       "<path style=\"fill:none;stroke-width:1;stroke-linecap:butt;stroke-linejoin:miter;stroke:rgb(26.666667%,26.666667%,26.666667%);stroke-opacity:1;stroke-miterlimit:10;\" d=\"M 158.660156 125.644531 L 184.421875 38.820313 \"/>\n",
       "<path style=\" stroke:none;fill-rule:nonzero;fill:rgb(26.666667%,26.666667%,26.666667%);fill-opacity:1;\" d=\"M 186.449219 31.984375 L 186.640625 39.480469 L 182.199219 38.164063 L 186.449219 31.984375 \"/>\n",
       "<path style=\"fill:none;stroke-width:1;stroke-linecap:butt;stroke-linejoin:miter;stroke:rgb(26.666667%,26.666667%,26.666667%);stroke-opacity:1;stroke-miterlimit:10;\" d=\"M 189.691406 280 L 360.390625 271.621094 \"/>\n",
       "<path style=\" stroke:none;fill-rule:nonzero;fill:rgb(26.666667%,26.666667%,26.666667%);fill-opacity:1;\" d=\"M 367.515625 271.269531 L 360.503906 273.933594 L 360.277344 269.304688 L 367.515625 271.269531 \"/>\n",
       "<path style=\"fill:none;stroke-width:1;stroke-linecap:butt;stroke-linejoin:miter;stroke:rgb(26.666667%,26.666667%,26.666667%);stroke-opacity:1;stroke-miterlimit:10;\" d=\"M 214.421875 193.691406 L 362.195313 262.382813 \"/>\n",
       "<path style=\" stroke:none;fill-rule:nonzero;fill:rgb(26.666667%,26.666667%,26.666667%);fill-opacity:1;\" d=\"M 368.664063 265.386719 L 361.21875 264.484375 L 363.171875 260.28125 L 368.664063 265.386719 \"/>\n",
       "<path style=\"fill-rule:nonzero;fill:rgb(100%,100%,100%);fill-opacity:1;stroke-width:1;stroke-linecap:butt;stroke-linejoin:miter;stroke:rgb(0%,0%,0%);stroke-opacity:1;stroke-miterlimit:10;\" d=\"M 59.023438 153.390625 C 59.023438 160.292969 53.425781 165.890625 46.523438 165.890625 C 39.621094 165.890625 34.023438 160.292969 34.023438 153.390625 C 34.023438 146.488281 39.621094 140.890625 46.523438 140.890625 C 53.425781 140.890625 59.023438 146.488281 59.023438 153.390625 \"/>\n",
       "<path style=\"fill-rule:nonzero;fill:rgb(100%,100%,100%);fill-opacity:1;stroke-width:1;stroke-linecap:butt;stroke-linejoin:miter;stroke:rgb(0%,0%,0%);stroke-opacity:1;stroke-miterlimit:10;\" d=\"M 171.160156 125.644531 C 171.160156 132.546875 165.5625 138.144531 158.660156 138.144531 C 151.753906 138.144531 146.160156 132.546875 146.160156 125.644531 C 146.160156 118.742188 151.753906 113.144531 158.660156 113.144531 C 165.5625 113.144531 171.160156 118.742188 171.160156 125.644531 \"/>\n",
       "<path style=\"fill-rule:nonzero;fill:rgb(100%,100%,100%);fill-opacity:1;stroke-width:1;stroke-linecap:butt;stroke-linejoin:miter;stroke:rgb(0%,0%,0%);stroke-opacity:1;stroke-miterlimit:10;\" d=\"M 226.921875 193.691406 C 226.921875 200.597656 221.324219 206.191406 214.421875 206.191406 C 207.519531 206.191406 201.921875 200.597656 201.921875 193.691406 C 201.921875 186.789063 207.519531 181.191406 214.421875 181.191406 C 221.324219 181.191406 226.921875 186.789063 226.921875 193.691406 \"/>\n",
       "<path style=\"fill-rule:nonzero;fill:rgb(100%,100%,100%);fill-opacity:1;stroke-width:1;stroke-linecap:butt;stroke-linejoin:miter;stroke:rgb(0%,0%,0%);stroke-opacity:1;stroke-miterlimit:10;\" d=\"M 32.5 226.714844 C 32.5 233.621094 26.902344 239.214844 20 239.214844 C 13.097656 239.214844 7.5 233.621094 7.5 226.714844 C 7.5 219.8125 13.097656 214.214844 20 214.214844 C 26.902344 214.214844 32.5 219.8125 32.5 226.714844 \"/>\n",
       "<path style=\"fill-rule:nonzero;fill:rgb(100%,100%,100%);fill-opacity:1;stroke-width:1;stroke-linecap:butt;stroke-linejoin:miter;stroke:rgb(0%,0%,0%);stroke-opacity:1;stroke-miterlimit:10;\" d=\"M 202.191406 280 C 202.191406 286.902344 196.59375 292.5 189.691406 292.5 C 182.785156 292.5 177.191406 286.902344 177.191406 280 C 177.191406 273.097656 182.785156 267.5 189.691406 267.5 C 196.59375 267.5 202.191406 273.097656 202.191406 280 \"/>\n",
       "<path style=\"fill-rule:nonzero;fill:rgb(100%,100%,100%);fill-opacity:1;stroke-width:1;stroke-linecap:butt;stroke-linejoin:miter;stroke:rgb(0%,0%,0%);stroke-opacity:1;stroke-miterlimit:10;\" d=\"M 202.503906 20 C 202.503906 26.902344 196.910156 32.5 190.003906 32.5 C 183.101563 32.5 177.503906 26.902344 177.503906 20 C 177.503906 13.097656 183.101563 7.5 190.003906 7.5 C 196.910156 7.5 202.503906 13.097656 202.503906 20 \"/>\n",
       "<path style=\"fill-rule:nonzero;fill:rgb(100%,100%,100%);fill-opacity:1;stroke-width:1;stroke-linecap:butt;stroke-linejoin:miter;stroke:rgb(0%,0%,0%);stroke-opacity:1;stroke-miterlimit:10;\" d=\"M 392.5 270.65625 C 392.5 277.558594 386.902344 283.15625 380 283.15625 C 373.097656 283.15625 367.5 277.558594 367.5 270.65625 C 367.5 263.753906 373.097656 258.15625 380 258.15625 C 386.902344 258.15625 392.5 263.753906 392.5 270.65625 \"/>\n",
       "<g style=\"fill:rgb(0%,0%,0%);fill-opacity:1;\">\n",
       "  <use xlink:href=\"#glyph0-1\" x=\"42.464844\" y=\"157.253906\"/>\n",
       "  <use xlink:href=\"#glyph0-2\" x=\"46.464844\" y=\"157.253906\"/>\n",
       "</g>\n",
       "<g style=\"fill:rgb(0%,0%,0%);fill-opacity:1;\">\n",
       "  <use xlink:href=\"#glyph0-1\" x=\"154.589844\" y=\"129.519531\"/>\n",
       "  <use xlink:href=\"#glyph0-3\" x=\"158.589844\" y=\"129.519531\"/>\n",
       "</g>\n",
       "<g style=\"fill:rgb(0%,0%,0%);fill-opacity:1;\">\n",
       "  <use xlink:href=\"#glyph0-1\" x=\"210.378906\" y=\"197.566406\"/>\n",
       "  <use xlink:href=\"#glyph0-4\" x=\"214.378906\" y=\"197.566406\"/>\n",
       "</g>\n",
       "<g style=\"fill:rgb(0%,0%,0%);fill-opacity:1;\">\n",
       "  <use xlink:href=\"#glyph0-1\" x=\"15.929688\" y=\"230.589844\"/>\n",
       "  <use xlink:href=\"#glyph0-5\" x=\"19.929688\" y=\"230.589844\"/>\n",
       "</g>\n",
       "<g style=\"fill:rgb(0%,0%,0%);fill-opacity:1;\">\n",
       "  <use xlink:href=\"#glyph0-1\" x=\"185.617188\" y=\"283.828125\"/>\n",
       "  <use xlink:href=\"#glyph0-6\" x=\"189.617188\" y=\"283.828125\"/>\n",
       "</g>\n",
       "<g style=\"fill:rgb(0%,0%,0%);fill-opacity:1;\">\n",
       "  <use xlink:href=\"#glyph0-1\" x=\"186.484375\" y=\"23.875\"/>\n",
       "  <use xlink:href=\"#glyph0-7\" x=\"190.484375\" y=\"23.875\"/>\n",
       "</g>\n",
       "<g style=\"fill:rgb(0%,0%,0%);fill-opacity:1;\">\n",
       "  <use xlink:href=\"#glyph0-1\" x=\"375.90625\" y=\"274.480469\"/>\n",
       "  <use xlink:href=\"#glyph0-8\" x=\"379.90625\" y=\"274.480469\"/>\n",
       "</g>\n",
       "</g>\n",
       "</svg>\n"
      ],
      "text/plain": [
       "<igraph.drawing.Plot at 0x20f80892280>"
      ]
     },
     "execution_count": 4,
     "metadata": {
      "image/svg+xml": {
       "isolated": true
      }
     },
     "output_type": "execute_result"
    }
   ],
   "source": [
    "plot(xiao, vertex_label_size = 8, vertex_size = (25), autocurve = False, edge_arrow_size = 0.5, \n",
    "     vertex_color = \"white\", bbox = (400,300))"
   ]
  },
  {
   "cell_type": "markdown",
   "id": "decf1d2c",
   "metadata": {},
   "source": [
    "The human immune response upon infection with *bordetellae* bacteria, taken form Thakar et al. (2007), generates a medium-sized STN (18 nodes). We are interested in routes from **Bacteria** to **Phagocytosis**."
   ]
  },
  {
   "cell_type": "markdown",
   "id": "d47b10e8",
   "metadata": {},
   "source": [
    "<div>\n",
    "<img src=\"bordetellae_graph.png\" width=\"700\"/>\n",
    "</div>"
   ]
  },
  {
   "cell_type": "markdown",
   "id": "a88e571f",
   "metadata": {},
   "source": [
    "Finally, a large network with 55 nodes is adapted from Nuñez-Reza et al. (2021) depicting dendritic cell differentiation. We take both **CSF2** and **IL4** as input nodes and **NFKB2** as the output node of interest."
   ]
  },
  {
   "cell_type": "markdown",
   "id": "716fffa7",
   "metadata": {},
   "source": [
    "<div>\n",
    "<img src=\"dendrite_graph.png\" width=\"700\"/>\n",
    "</div>"
   ]
  },
  {
   "cell_type": "markdown",
   "id": "f811d8dc",
   "metadata": {},
   "source": [
    "We compute the modulus for each network using both density and mass optimization."
   ]
  },
  {
   "cell_type": "code",
   "execution_count": 5,
   "id": "fd265b18",
   "metadata": {},
   "outputs": [],
   "source": [
    "from pmodpy import modsubfamily\n",
    "xiao_mod_dens = modsubfamily.modulus_subfamily_density(xiao, xiao_mfrs)\n",
    "xiao_mod_mass = modsubfamily.modulus_subfamily_mass(xiao, xiao_mfrs)\n",
    "bord_mod_dens = modsubfamily.modulus_subfamily_density(bordetellae, bord_mfrs)\n",
    "bord_mod_mass = modsubfamily.modulus_subfamily_mass(bordetellae, bord_mfrs)\n",
    "dend_mod_dens = modsubfamily.modulus_subfamily_density(dendritic, dend_mfrs)\n",
    "dend_mod_mass = modsubfamily.modulus_subfamily_mass(dendritic, dend_mfrs)"
   ]
  },
  {
   "cell_type": "markdown",
   "id": "cb16735d",
   "metadata": {},
   "source": [
    "## Results\n",
    "The following table summarizes some important results obtained from the methods in rtmod."
   ]
  },
  {
   "cell_type": "code",
   "execution_count": 6,
   "id": "8eb81ddb",
   "metadata": {},
   "outputs": [
    {
     "name": "stdout",
     "output_type": "stream",
     "text": [
      "╒═════════════╤══════════════════╤═══════════════════╤════════════════╕\n",
      "│ Graph       │   Number of MFRs │   Density Modulus │   Mass Modulus │\n",
      "╞═════════════╪══════════════════╪═══════════════════╪════════════════╡\n",
      "│ xiao        │                6 │         0.545455  │      0.55      │\n",
      "├─────────────┼──────────────────┼───────────────────┼────────────────┤\n",
      "│ bordetellae │               98 │         0.0731599 │      0.0737089 │\n",
      "├─────────────┼──────────────────┼───────────────────┼────────────────┤\n",
      "│ dendritic   │              350 │         0.600429  │      0.600429  │\n",
      "╘═════════════╧══════════════════╧═══════════════════╧════════════════╛\n"
     ]
    }
   ],
   "source": [
    "print(tabulate(\n",
    "    [(\"Graph\", \"Number of MFRs\", \"Density Modulus\", \"Mass Modulus\"), \n",
    "     (\"xiao\", len(xiao_mfrs), xiao_mod_dens[0], xiao_mod_mass[0]),\n",
    "     (\"bordetellae\", len(bord_mfrs), bord_mod_dens[0], bord_mod_mass[0]),\n",
    "     (\"dendritic\", len(dend_mfrs), dend_mod_dens[0], dend_mod_mass[0])], \n",
    "               headers = \"firstrow\", tablefmt = \"fancy_grid\"))"
   ]
  },
  {
   "cell_type": "markdown",
   "id": "9db2d6dc",
   "metadata": {},
   "source": [
    "Additionally, we obtain the most likely MFRs for a random signal to transpose on from the probabilistic interpretation of the 2-modulus. The following table lists the probabilities for the top 5 most likely MFRs in each network."
   ]
  },
  {
   "cell_type": "code",
   "execution_count": 7,
   "id": "d42aa114",
   "metadata": {},
   "outputs": [
    {
     "name": "stdout",
     "output_type": "stream",
     "text": [
      "╒═════════════╤═══════════════╤═════════════╕\n",
      "│        xiao │   bordetellae │   dendritic │\n",
      "╞═════════════╪═══════════════╪═════════════╡\n",
      "│ 0.818201    │     0.199079  │   0.277959  │\n",
      "├─────────────┼───────────────┼─────────────┤\n",
      "│ 0.0909151   │     0.181327  │   0.232144  │\n",
      "├─────────────┼───────────────┼─────────────┤\n",
      "│ 0.0908836   │     0.151493  │   0.224052  │\n",
      "├─────────────┼───────────────┼─────────────┤\n",
      "│ 1.08063e-07 │     0.122752  │   0.204563  │\n",
      "├─────────────┼───────────────┼─────────────┤\n",
      "│ 1.08063e-07 │     0.0646759 │   0.0248957 │\n",
      "╘═════════════╧═══════════════╧═════════════╛\n"
     ]
    }
   ],
   "source": [
    "xiao_top_probs = sorted(xiao_mod_mass[1], reverse = True)\n",
    "bord_top_probs = sorted(bord_mod_mass[1], reverse = True)\n",
    "dend_top_probs = sorted(dend_mod_mass[1], reverse = True)\n",
    "\n",
    "print(tabulate(\n",
    "    [(\"xiao\", \"bordetellae\", \"dendritic\"),\n",
    "     (xiao_top_probs[0], bord_top_probs[0], dend_top_probs[0]),\n",
    "     (xiao_top_probs[1], bord_top_probs[1], dend_top_probs[1]),\n",
    "     (xiao_top_probs[2], bord_top_probs[2], dend_top_probs[2]),\n",
    "     (xiao_top_probs[3], bord_top_probs[3], dend_top_probs[3]),\n",
    "     (xiao_top_probs[4], bord_top_probs[4], dend_top_probs[4])        \n",
    "    ],\n",
    "     headers = \"firstrow\", tablefmt = \"fancy_grid\"\n",
    "))"
   ]
  },
  {
   "cell_type": "markdown",
   "id": "9a5b3123",
   "metadata": {},
   "source": [
    "## References\n",
    "\n",
    "Nuñez-Reza KJ, Naldi A, Sánchez-Jiménez A, Leon-Apodaca AV, Santana MA, Thomas-Chollier M, Thieffry D, MedinaRivera A. 2021 Logical modelling of in vitro differentiation of human monocytes into dendritic cells unravels novel transcriptional  regulatory interactions. Interface Focus 11: 20200061. https://doi.org/10.1098/rsfs.2020.0061.\n",
    "\n",
    "Thakar J, Pilione M, Kirimanjeswara G, Harvill ET, Albert R (2007) Modeling systems-level regulation of host immune responses. PLoS Comput Biol 3(6): e109. https://doi.org/10.1371/journal.pcbi.0030109.\n",
    "\n",
    "Yufei Xiao , Edward R. Dougherty, The impact of function perturbations in Boolean networks, Bioinformatics, Volume 23, Issue 10, May 2007, Pages 1265–1273, https://doi.org/10.1093/bioinformatics/btm093.\n"
   ]
  }
 ],
 "metadata": {
  "kernelspec": {
   "display_name": "Python 3 (ipykernel)",
   "language": "python",
   "name": "python3"
  },
  "language_info": {
   "codemirror_mode": {
    "name": "ipython",
    "version": 3
   },
   "file_extension": ".py",
   "mimetype": "text/x-python",
   "name": "python",
   "nbconvert_exporter": "python",
   "pygments_lexer": "ipython3",
   "version": "3.9.13"
  }
 },
 "nbformat": 4,
 "nbformat_minor": 5
}
