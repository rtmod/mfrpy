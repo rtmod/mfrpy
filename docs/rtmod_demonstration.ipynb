{
 "cells": [
  {
   "cell_type": "markdown",
   "id": "d9a25140",
   "metadata": {},
   "source": [
    "# A Demonstration of rtmod Pipeline with 3 Signal Transduction Networks\n",
    "\n",
    "### *Igor Sokolov*\n",
    "### June 2023\n",
    "\n",
    "The following is a full demonstration of the rtmod package pipeline with small, medium, and large signal transduction networks. The current implementation does not consider inhibitory relationships, only dependent activation.\n",
    "\n",
    "To start, we initialize our networks and extract their minimal functional routes:"
   ]
  },
  {
   "cell_type": "code",
   "execution_count": 27,
   "id": "4a7ed1f1",
   "metadata": {},
   "outputs": [],
   "source": [
    "import igraph, pmodpy\n",
    "from tabulate import tabulate\n",
    "from igraph import Graph, plot\n",
    "from mfrpy import sgmfr\n",
    "from mfrpy.examplegraphs import igraph_graph\n",
    "xiao = igraph_graph.xiao_wnt5a\n",
    "xiao.vs[\"label\"]=xiao.vs[\"name\"]\n",
    "bordetellae = igraph_graph.bordetellae\n",
    "dendritic = Graph.Read_GML(\"mfrpy\\examplegraphs\\dendrite.gml\")\n",
    "xiao_mfrs = sgmfr.get_mfrs(xiao, [0], 5)[0]\n",
    "bord_mfrs = sgmfr.get_mfrs(bordetellae, [0], 14)[0]\n",
    "dend_mfrs = sgmfr.get_mfrs(dendritic, [0,1], 20)[0]"
   ]
  },
  {
   "cell_type": "markdown",
   "id": "61433fa8",
   "metadata": {},
   "source": [
    "For a small network with only 7 nodes, we use an example graph from Xiao et al. (2007) and consider MFRs from $x_4$ to $x_1$."
   ]
  },
  {
   "cell_type": "code",
   "execution_count": 42,
   "id": "d844bbc4",
   "metadata": {},
   "outputs": [
    {
     "data": {
      "image/svg+xml": [
       "<?xml version=\"1.0\" encoding=\"UTF-8\"?>\n",
       "<svg xmlns=\"http://www.w3.org/2000/svg\" xmlns:xlink=\"http://www.w3.org/1999/xlink\" width=\"400pt\" height=\"300pt\" viewBox=\"0 0 400 300\" version=\"1.1\">\n",
       "<defs>\n",
       "<g>\n",
       "<symbol overflow=\"visible\" id=\"glyph0-0\">\n",
       "<path style=\"stroke:none;\" d=\"M 1 0 L 1 -5 L 5 -5 L 5 0 Z M 1.125 -0.125 L 4.875 -0.125 L 4.875 -4.875 L 1.125 -4.875 Z M 1.125 -0.125 \"/>\n",
       "</symbol>\n",
       "<symbol overflow=\"visible\" id=\"glyph0-1\">\n",
       "<path style=\"stroke:none;\" d=\"M 0.0585938 0 L 1.574219 -2.15625 L 0.171875 -4.148438 L 1.050781 -4.148438 L 1.6875 -3.175781 C 1.804688 -2.988281 1.898438 -2.832031 1.976563 -2.710938 C 2.085938 -2.878906 2.191406 -3.03125 2.292969 -3.167969 L 2.992188 -4.148438 L 3.832031 -4.148438 L 2.398438 -2.195313 L 3.941406 0 L 3.078125 0 L 2.226563 -1.289063 L 2 -1.636719 L 0.910156 0 Z M 0.0585938 0 \"/>\n",
       "</symbol>\n",
       "<symbol overflow=\"visible\" id=\"glyph0-2\">\n",
       "<path style=\"stroke:none;\" d=\"M 2.585938 0 L 2.585938 -1.371094 L 0.101563 -1.371094 L 0.101563 -2.015625 L 2.714844 -5.726563 L 3.289063 -5.726563 L 3.289063 -2.015625 L 4.0625 -2.015625 L 4.0625 -1.371094 L 3.289063 -1.371094 L 3.289063 0 Z M 2.585938 -2.015625 L 2.585938 -4.597656 L 0.792969 -2.015625 Z M 2.585938 -2.015625 \"/>\n",
       "</symbol>\n",
       "<symbol overflow=\"visible\" id=\"glyph0-3\">\n",
       "<path style=\"stroke:none;\" d=\"M 3.980469 -4.324219 L 3.28125 -4.269531 C 3.21875 -4.542969 3.128906 -4.742188 3.015625 -4.871094 C 2.824219 -5.066406 2.589844 -5.167969 2.3125 -5.171875 C 2.085938 -5.167969 1.890625 -5.105469 1.722656 -4.984375 C 1.5 -4.820313 1.324219 -4.585938 1.199219 -4.277344 C 1.070313 -3.964844 1.003906 -3.523438 1 -2.953125 C 1.167969 -3.210938 1.375 -3.402344 1.621094 -3.527344 C 1.863281 -3.652344 2.121094 -3.714844 2.390625 -3.714844 C 2.859375 -3.714844 3.257813 -3.539063 3.585938 -3.195313 C 3.914063 -2.847656 4.078125 -2.402344 4.082031 -1.859375 C 4.078125 -1.496094 4 -1.164063 3.847656 -0.855469 C 3.691406 -0.546875 3.480469 -0.308594 3.210938 -0.148438 C 2.9375 0.015625 2.628906 0.09375 2.289063 0.0976563 C 1.699219 0.09375 1.222656 -0.117188 0.855469 -0.546875 C 0.484375 -0.976563 0.296875 -1.6875 0.300781 -2.679688 C 0.296875 -3.78125 0.503906 -4.585938 0.914063 -5.09375 C 1.269531 -5.527344 1.75 -5.746094 2.355469 -5.75 C 2.804688 -5.746094 3.171875 -5.621094 3.460938 -5.371094 C 3.746094 -5.117188 3.917969 -4.769531 3.980469 -4.324219 Z M 1.109375 -1.855469 C 1.105469 -1.609375 1.15625 -1.378906 1.261719 -1.160156 C 1.363281 -0.9375 1.507813 -0.765625 1.695313 -0.652344 C 1.875 -0.535156 2.070313 -0.480469 2.277344 -0.480469 C 2.570313 -0.480469 2.824219 -0.597656 3.042969 -0.839844 C 3.253906 -1.074219 3.363281 -1.402344 3.363281 -1.816406 C 3.363281 -2.210938 3.257813 -2.519531 3.046875 -2.75 C 2.835938 -2.976563 2.570313 -3.09375 2.25 -3.09375 C 1.929688 -3.09375 1.660156 -2.976563 1.441406 -2.75 C 1.21875 -2.519531 1.105469 -2.222656 1.109375 -1.855469 Z M 1.109375 -1.855469 \"/>\n",
       "</symbol>\n",
       "<symbol overflow=\"visible\" id=\"glyph0-4\">\n",
       "<path style=\"stroke:none;\" d=\"M 4.027344 -0.675781 L 4.027344 0 L 0.242188 0 C 0.234375 -0.167969 0.261719 -0.328125 0.324219 -0.488281 C 0.417969 -0.742188 0.574219 -0.996094 0.785156 -1.25 C 0.996094 -1.496094 1.300781 -1.785156 1.707031 -2.117188 C 2.324219 -2.625 2.746094 -3.03125 2.96875 -3.328125 C 3.183594 -3.625 3.292969 -3.90625 3.296875 -4.175781 C 3.292969 -4.453125 3.191406 -4.6875 2.996094 -4.878906 C 2.792969 -5.070313 2.535156 -5.167969 2.21875 -5.167969 C 1.878906 -5.167969 1.609375 -5.066406 1.40625 -4.863281 C 1.203125 -4.660156 1.097656 -4.378906 1.097656 -4.019531 L 0.375 -4.09375 C 0.421875 -4.628906 0.605469 -5.039063 0.933594 -5.324219 C 1.253906 -5.605469 1.6875 -5.746094 2.234375 -5.75 C 2.78125 -5.746094 3.21875 -5.59375 3.539063 -5.292969 C 3.859375 -4.984375 4.019531 -4.609375 4.019531 -4.160156 C 4.019531 -3.929688 3.972656 -3.703125 3.878906 -3.484375 C 3.785156 -3.261719 3.628906 -3.027344 3.410156 -2.785156 C 3.191406 -2.535156 2.828125 -2.199219 2.328125 -1.777344 C 1.902344 -1.417969 1.632813 -1.179688 1.515625 -1.054688 C 1.394531 -0.929688 1.296875 -0.800781 1.21875 -0.675781 Z M 4.027344 -0.675781 \"/>\n",
       "</symbol>\n",
       "<symbol overflow=\"visible\" id=\"glyph0-5\">\n",
       "<path style=\"stroke:none;\" d=\"M 0.335938 -1.511719 L 1.039063 -1.605469 C 1.117188 -1.207031 1.253906 -0.917969 1.449219 -0.742188 C 1.640625 -0.566406 1.878906 -0.480469 2.160156 -0.480469 C 2.488281 -0.480469 2.765625 -0.59375 2.996094 -0.824219 C 3.222656 -1.050781 3.339844 -1.335938 3.339844 -1.675781 C 3.339844 -1.996094 3.234375 -2.261719 3.023438 -2.472656 C 2.8125 -2.683594 2.542969 -2.789063 2.21875 -2.789063 C 2.082031 -2.789063 1.917969 -2.761719 1.722656 -2.710938 L 1.800781 -3.328125 C 1.84375 -3.320313 1.882813 -3.316406 1.914063 -3.320313 C 2.210938 -3.316406 2.480469 -3.394531 2.722656 -3.554688 C 2.960938 -3.707031 3.082031 -3.949219 3.082031 -4.277344 C 3.082031 -4.535156 2.992188 -4.746094 2.820313 -4.917969 C 2.640625 -5.082031 2.417969 -5.167969 2.144531 -5.171875 C 1.871094 -5.167969 1.640625 -5.082031 1.460938 -4.914063 C 1.273438 -4.738281 1.15625 -4.480469 1.109375 -4.140625 L 0.40625 -4.265625 C 0.488281 -4.734375 0.683594 -5.097656 0.992188 -5.359375 C 1.292969 -5.617188 1.671875 -5.746094 2.128906 -5.75 C 2.4375 -5.746094 2.726563 -5.679688 2.992188 -5.546875 C 3.253906 -5.410156 3.453125 -5.226563 3.59375 -5 C 3.730469 -4.765625 3.800781 -4.519531 3.804688 -4.261719 C 3.800781 -4.011719 3.734375 -3.789063 3.605469 -3.585938 C 3.46875 -3.382813 3.273438 -3.21875 3.015625 -3.101563 C 3.351563 -3.019531 3.613281 -2.859375 3.804688 -2.613281 C 3.988281 -2.367188 4.082031 -2.058594 4.085938 -1.691406 C 4.082031 -1.1875 3.902344 -0.761719 3.539063 -0.417969 C 3.171875 -0.0703125 2.710938 0.0976563 2.15625 0.101563 C 1.652344 0.0976563 1.234375 -0.046875 0.902344 -0.347656 C 0.570313 -0.644531 0.378906 -1.035156 0.335938 -1.511719 Z M 0.335938 -1.511719 \"/>\n",
       "</symbol>\n",
       "<symbol overflow=\"visible\" id=\"glyph0-6\">\n",
       "<path style=\"stroke:none;\" d=\"M 0.378906 -4.976563 L 0.378906 -5.652344 L 4.085938 -5.652344 L 4.085938 -5.105469 C 3.71875 -4.714844 3.359375 -4.199219 3 -3.558594 C 2.640625 -2.910156 2.363281 -2.25 2.171875 -1.574219 C 2.027344 -1.09375 1.9375 -0.570313 1.902344 0 L 1.179688 0 C 1.183594 -0.449219 1.273438 -0.992188 1.445313 -1.632813 C 1.613281 -2.269531 1.855469 -2.882813 2.171875 -3.476563 C 2.488281 -4.066406 2.824219 -4.566406 3.183594 -4.976563 Z M 0.378906 -4.976563 \"/>\n",
       "</symbol>\n",
       "<symbol overflow=\"visible\" id=\"glyph0-7\">\n",
       "<path style=\"stroke:none;\" d=\"M 2.980469 0 L 2.277344 0 L 2.277344 -4.480469 C 2.105469 -4.316406 1.882813 -4.15625 1.609375 -3.996094 C 1.332031 -3.832031 1.085938 -3.710938 0.871094 -3.632813 L 0.871094 -4.3125 C 1.261719 -4.496094 1.605469 -4.71875 1.902344 -4.984375 C 2.195313 -5.246094 2.402344 -5.5 2.527344 -5.75 L 2.980469 -5.75 Z M 2.980469 0 \"/>\n",
       "</symbol>\n",
       "<symbol overflow=\"visible\" id=\"glyph0-8\">\n",
       "<path style=\"stroke:none;\" d=\"M 0.332031 -1.5 L 1.070313 -1.5625 C 1.121094 -1.199219 1.246094 -0.929688 1.449219 -0.75 C 1.644531 -0.570313 1.886719 -0.480469 2.171875 -0.480469 C 2.507813 -0.480469 2.792969 -0.605469 3.03125 -0.863281 C 3.261719 -1.113281 3.378906 -1.453125 3.382813 -1.878906 C 3.378906 -2.277344 3.265625 -2.59375 3.042969 -2.828125 C 2.816406 -3.058594 2.523438 -3.175781 2.160156 -3.175781 C 1.929688 -3.175781 1.726563 -3.121094 1.546875 -3.019531 C 1.363281 -2.914063 1.21875 -2.78125 1.117188 -2.621094 L 0.457031 -2.707031 L 1.011719 -5.648438 L 3.859375 -5.648438 L 3.859375 -4.976563 L 1.574219 -4.976563 L 1.265625 -3.4375 C 1.609375 -3.675781 1.96875 -3.796875 2.347656 -3.796875 C 2.84375 -3.796875 3.265625 -3.621094 3.613281 -3.277344 C 3.953125 -2.925781 4.125 -2.480469 4.128906 -1.941406 C 4.125 -1.417969 3.972656 -0.972656 3.675781 -0.597656 C 3.304688 -0.136719 2.804688 0.09375 2.171875 0.0976563 C 1.648438 0.09375 1.222656 -0.0507813 0.894531 -0.339844 C 0.5625 -0.628906 0.375 -1.015625 0.332031 -1.5 Z M 0.332031 -1.5 \"/>\n",
       "</symbol>\n",
       "</g>\n",
       "</defs>\n",
       "<g id=\"surface62\">\n",
       "<rect x=\"0\" y=\"0\" width=\"400\" height=\"300\" style=\"fill:rgb(100%,100%,100%);fill-opacity:1;stroke:none;\"/>\n",
       "<path style=\"fill:none;stroke-width:1;stroke-linecap:butt;stroke-linejoin:miter;stroke:rgb(26.666667%,26.666667%,26.666667%);stroke-opacity:1;stroke-miterlimit:10;\" d=\"M 174.457031 118.136719 L 155.46875 173.433594 \"/>\n",
       "<path style=\" stroke:none;fill-rule:nonzero;fill:rgb(26.666667%,26.666667%,26.666667%);fill-opacity:1;\" d=\"M 153.152344 180.179688 L 153.277344 172.679688 L 157.660156 174.183594 L 153.152344 180.179688 \"/>\n",
       "<path style=\"fill:none;stroke-width:1;stroke-linecap:butt;stroke-linejoin:miter;stroke:rgb(26.666667%,26.666667%,26.666667%);stroke-opacity:1;stroke-miterlimit:10;\" d=\"M 20 159.253906 L 130.058594 187.171875 \"/>\n",
       "<path style=\" stroke:none;fill-rule:nonzero;fill:rgb(26.666667%,26.666667%,26.666667%);fill-opacity:1;\" d=\"M 136.972656 188.925781 L 129.488281 189.421875 L 130.628906 184.925781 L 136.972656 188.925781 \"/>\n",
       "<path style=\"fill:none;stroke-width:1;stroke-linecap:butt;stroke-linejoin:miter;stroke:rgb(26.666667%,26.666667%,26.666667%);stroke-opacity:1;stroke-miterlimit:10;\" d=\"M 174.457031 118.136719 L 155.46875 173.433594 \"/>\n",
       "<path style=\" stroke:none;fill-rule:nonzero;fill:rgb(26.666667%,26.666667%,26.666667%);fill-opacity:1;\" d=\"M 153.152344 180.179688 L 153.277344 172.679688 L 157.660156 174.183594 L 153.152344 180.179688 \"/>\n",
       "<path style=\"fill:none;stroke-width:1;stroke-linecap:butt;stroke-linejoin:miter;stroke:rgb(26.666667%,26.666667%,26.666667%);stroke-opacity:1;stroke-miterlimit:10;\" d=\"M 181.097656 178.742188 C 181.097656 189.097656 172.703125 197.492188 162.347656 197.492188 C 151.992188 197.492188 143.597656 189.097656 143.597656 178.742188 C 143.597656 168.386719 151.992188 159.992188 162.347656 159.992188 C 172.703125 159.992188 181.097656 168.386719 181.097656 178.742188 \"/>\n",
       "<path style=\"fill:none;stroke-width:1;stroke-linecap:butt;stroke-linejoin:miter;stroke:rgb(26.666667%,26.666667%,26.666667%);stroke-opacity:1;stroke-miterlimit:10;\" d=\"M 20 159.253906 L 130.058594 187.171875 \"/>\n",
       "<path style=\" stroke:none;fill-rule:nonzero;fill:rgb(26.666667%,26.666667%,26.666667%);fill-opacity:1;\" d=\"M 136.972656 188.925781 L 129.488281 189.421875 L 130.628906 184.925781 L 136.972656 188.925781 \"/>\n",
       "<path style=\"fill:none;stroke-width:1;stroke-linecap:butt;stroke-linejoin:miter;stroke:rgb(26.666667%,26.666667%,26.666667%);stroke-opacity:1;stroke-miterlimit:10;\" d=\"M 181.097656 178.742188 C 181.097656 189.097656 172.703125 197.492188 162.347656 197.492188 C 151.992188 197.492188 143.597656 189.097656 143.597656 178.742188 C 143.597656 168.386719 151.992188 159.992188 162.347656 159.992188 C 172.703125 159.992188 181.097656 168.386719 181.097656 178.742188 \"/>\n",
       "<path style=\"fill:none;stroke-width:1;stroke-linecap:butt;stroke-linejoin:miter;stroke:rgb(26.666667%,26.666667%,26.666667%);stroke-opacity:1;stroke-miterlimit:10;\" d=\"M 325.070313 229.113281 L 368.816406 165.984375 \"/>\n",
       "<path style=\" stroke:none;fill-rule:nonzero;fill:rgb(26.666667%,26.666667%,26.666667%);fill-opacity:1;\" d=\"M 372.878906 160.121094 L 370.722656 167.304688 L 366.914063 164.664063 L 372.878906 160.121094 \"/>\n",
       "<path style=\"fill:none;stroke-width:1;stroke-linecap:butt;stroke-linejoin:miter;stroke:rgb(26.666667%,26.666667%,26.666667%);stroke-opacity:1;stroke-miterlimit:10;\" d=\"M 20 159.253906 L 155.488281 123.1875 \"/>\n",
       "<path style=\" stroke:none;fill-rule:nonzero;fill:rgb(26.666667%,26.666667%,26.666667%);fill-opacity:1;\" d=\"M 162.378906 121.355469 L 156.082031 125.429688 L 154.890625 120.949219 L 162.378906 121.355469 \"/>\n",
       "<path style=\"fill:none;stroke-width:1;stroke-linecap:butt;stroke-linejoin:miter;stroke:rgb(26.666667%,26.666667%,26.666667%);stroke-opacity:1;stroke-miterlimit:10;\" d=\"M 380 149.847656 L 193.863281 121.132813 \"/>\n",
       "<path style=\" stroke:none;fill-rule:nonzero;fill:rgb(26.666667%,26.666667%,26.666667%);fill-opacity:1;\" d=\"M 186.8125 120.042969 L 194.214844 118.839844 L 193.507813 123.421875 L 186.8125 120.042969 \"/>\n",
       "<path style=\"fill:none;stroke-width:1;stroke-linecap:butt;stroke-linejoin:miter;stroke:rgb(26.666667%,26.666667%,26.666667%);stroke-opacity:1;stroke-miterlimit:10;\" d=\"M 357.078125 215.855469 C 357.078125 226.210938 348.683594 234.605469 338.328125 234.605469 C 327.972656 234.605469 319.578125 226.210938 319.578125 215.855469 C 319.578125 205.5 327.972656 197.105469 338.328125 197.105469 C 348.683594 197.105469 357.078125 205.5 357.078125 215.855469 \"/>\n",
       "<path style=\"fill:none;stroke-width:1;stroke-linecap:butt;stroke-linejoin:miter;stroke:rgb(26.666667%,26.666667%,26.666667%);stroke-opacity:1;stroke-miterlimit:10;\" d=\"M 149.089844 192 L 305.859375 225.0625 \"/>\n",
       "<path style=\" stroke:none;fill-rule:nonzero;fill:rgb(26.666667%,26.666667%,26.666667%);fill-opacity:1;\" d=\"M 312.835938 226.535156 L 305.378906 227.328125 L 306.335938 222.792969 L 312.835938 226.535156 \"/>\n",
       "<path style=\"fill:none;stroke-width:1;stroke-linecap:butt;stroke-linejoin:miter;stroke:rgb(26.666667%,26.666667%,26.666667%);stroke-opacity:1;stroke-miterlimit:10;\" d=\"M 174.457031 118.136719 L 149.144531 38.707031 \"/>\n",
       "<path style=\" stroke:none;fill-rule:nonzero;fill:rgb(26.666667%,26.666667%,26.666667%);fill-opacity:1;\" d=\"M 146.976563 31.910156 L 151.351563 38.003906 L 146.933594 39.410156 L 146.976563 31.910156 \"/>\n",
       "<path style=\"fill:none;stroke-width:1;stroke-linecap:butt;stroke-linejoin:miter;stroke:rgb(26.666667%,26.666667%,26.666667%);stroke-opacity:1;stroke-miterlimit:10;\" d=\"M 325.070313 229.113281 L 222.035156 272.394531 \"/>\n",
       "<path style=\" stroke:none;fill-rule:nonzero;fill:rgb(26.666667%,26.666667%,26.666667%);fill-opacity:1;\" d=\"M 215.457031 275.160156 L 221.136719 270.257813 L 222.929688 274.53125 L 215.457031 275.160156 \"/>\n",
       "<path style=\"fill:none;stroke-width:1;stroke-linecap:butt;stroke-linejoin:miter;stroke:rgb(26.666667%,26.666667%,26.666667%);stroke-opacity:1;stroke-miterlimit:10;\" d=\"M 149.089844 192 L 193.550781 263.339844 \"/>\n",
       "<path style=\" stroke:none;fill-rule:nonzero;fill:rgb(26.666667%,26.666667%,26.666667%);fill-opacity:1;\" d=\"M 197.320313 269.390625 L 191.582031 264.5625 L 195.515625 262.113281 L 197.320313 269.390625 \"/>\n",
       "<path style=\"fill-rule:nonzero;fill:rgb(100%,100%,100%);fill-opacity:1;stroke-width:1;stroke-linecap:butt;stroke-linejoin:miter;stroke:rgb(0%,0%,0%);stroke-opacity:1;stroke-miterlimit:10;\" d=\"M 32.5 159.253906 C 32.5 166.160156 26.902344 171.753906 20 171.753906 C 13.097656 171.753906 7.5 166.160156 7.5 159.253906 C 7.5 152.351563 13.097656 146.753906 20 146.753906 C 26.902344 146.753906 32.5 152.351563 32.5 159.253906 \"/>\n",
       "<path style=\"fill-rule:nonzero;fill:rgb(100%,100%,100%);fill-opacity:1;stroke-width:1;stroke-linecap:butt;stroke-linejoin:miter;stroke:rgb(0%,0%,0%);stroke-opacity:1;stroke-miterlimit:10;\" d=\"M 186.957031 118.136719 C 186.957031 125.042969 181.363281 130.636719 174.457031 130.636719 C 167.554688 130.636719 161.957031 125.042969 161.957031 118.136719 C 161.957031 111.234375 167.554688 105.636719 174.457031 105.636719 C 181.363281 105.636719 186.957031 111.234375 186.957031 118.136719 \"/>\n",
       "<path style=\"fill-rule:nonzero;fill:rgb(100%,100%,100%);fill-opacity:1;stroke-width:1;stroke-linecap:butt;stroke-linejoin:miter;stroke:rgb(0%,0%,0%);stroke-opacity:1;stroke-miterlimit:10;\" d=\"M 161.589844 192 C 161.589844 198.90625 155.992188 204.5 149.089844 204.5 C 142.1875 204.5 136.589844 198.90625 136.589844 192 C 136.589844 185.097656 142.1875 179.5 149.089844 179.5 C 155.992188 179.5 161.589844 185.097656 161.589844 192 \"/>\n",
       "<path style=\"fill-rule:nonzero;fill:rgb(100%,100%,100%);fill-opacity:1;stroke-width:1;stroke-linecap:butt;stroke-linejoin:miter;stroke:rgb(0%,0%,0%);stroke-opacity:1;stroke-miterlimit:10;\" d=\"M 392.5 149.847656 C 392.5 156.75 386.902344 162.347656 380 162.347656 C 373.097656 162.347656 367.5 156.75 367.5 149.847656 C 367.5 142.945313 373.097656 137.347656 380 137.347656 C 386.902344 137.347656 392.5 142.945313 392.5 149.847656 \"/>\n",
       "<path style=\"fill-rule:nonzero;fill:rgb(100%,100%,100%);fill-opacity:1;stroke-width:1;stroke-linecap:butt;stroke-linejoin:miter;stroke:rgb(0%,0%,0%);stroke-opacity:1;stroke-miterlimit:10;\" d=\"M 337.570313 229.113281 C 337.570313 236.015625 331.972656 241.613281 325.070313 241.613281 C 318.164063 241.613281 312.570313 236.015625 312.570313 229.113281 C 312.570313 222.210938 318.164063 216.613281 325.070313 216.613281 C 331.972656 216.613281 337.570313 222.210938 337.570313 229.113281 \"/>\n",
       "<path style=\"fill-rule:nonzero;fill:rgb(100%,100%,100%);fill-opacity:1;stroke-width:1;stroke-linecap:butt;stroke-linejoin:miter;stroke:rgb(0%,0%,0%);stroke-opacity:1;stroke-miterlimit:10;\" d=\"M 155.683594 20 C 155.683594 26.902344 150.085938 32.5 143.183594 32.5 C 136.277344 32.5 130.683594 26.902344 130.683594 20 C 130.683594 13.097656 136.277344 7.5 143.183594 7.5 C 150.085938 7.5 155.683594 13.097656 155.683594 20 \"/>\n",
       "<path style=\"fill-rule:nonzero;fill:rgb(100%,100%,100%);fill-opacity:1;stroke-width:1;stroke-linecap:butt;stroke-linejoin:miter;stroke:rgb(0%,0%,0%);stroke-opacity:1;stroke-miterlimit:10;\" d=\"M 216.433594 280 C 216.433594 286.902344 210.835938 292.5 203.933594 292.5 C 197.03125 292.5 191.433594 286.902344 191.433594 280 C 191.433594 273.097656 197.03125 267.5 203.933594 267.5 C 210.835938 267.5 216.433594 273.097656 216.433594 280 \"/>\n",
       "<g style=\"fill:rgb(0%,0%,0%);fill-opacity:1;\">\n",
       "  <use xlink:href=\"#glyph0-1\" x=\"15.9375\" y=\"163.117188\"/>\n",
       "  <use xlink:href=\"#glyph0-2\" x=\"19.9375\" y=\"163.117188\"/>\n",
       "</g>\n",
       "<g style=\"fill:rgb(0%,0%,0%);fill-opacity:1;\">\n",
       "  <use xlink:href=\"#glyph0-1\" x=\"170.386719\" y=\"122.011719\"/>\n",
       "  <use xlink:href=\"#glyph0-3\" x=\"174.386719\" y=\"122.011719\"/>\n",
       "</g>\n",
       "<g style=\"fill:rgb(0%,0%,0%);fill-opacity:1;\">\n",
       "  <use xlink:href=\"#glyph0-1\" x=\"145.046875\" y=\"195.875\"/>\n",
       "  <use xlink:href=\"#glyph0-4\" x=\"149.046875\" y=\"195.875\"/>\n",
       "</g>\n",
       "<g style=\"fill:rgb(0%,0%,0%);fill-opacity:1;\">\n",
       "  <use xlink:href=\"#glyph0-1\" x=\"375.929688\" y=\"153.722656\"/>\n",
       "  <use xlink:href=\"#glyph0-5\" x=\"379.929688\" y=\"153.722656\"/>\n",
       "</g>\n",
       "<g style=\"fill:rgb(0%,0%,0%);fill-opacity:1;\">\n",
       "  <use xlink:href=\"#glyph0-1\" x=\"320.996094\" y=\"232.941406\"/>\n",
       "  <use xlink:href=\"#glyph0-6\" x=\"324.996094\" y=\"232.941406\"/>\n",
       "</g>\n",
       "<g style=\"fill:rgb(0%,0%,0%);fill-opacity:1;\">\n",
       "  <use xlink:href=\"#glyph0-1\" x=\"139.664063\" y=\"23.875\"/>\n",
       "  <use xlink:href=\"#glyph0-7\" x=\"143.664063\" y=\"23.875\"/>\n",
       "</g>\n",
       "<g style=\"fill:rgb(0%,0%,0%);fill-opacity:1;\">\n",
       "  <use xlink:href=\"#glyph0-1\" x=\"199.839844\" y=\"283.824219\"/>\n",
       "  <use xlink:href=\"#glyph0-8\" x=\"203.839844\" y=\"283.824219\"/>\n",
       "</g>\n",
       "</g>\n",
       "</svg>\n"
      ],
      "text/plain": [
       "<igraph.drawing.Plot at 0x26218f10c10>"
      ]
     },
     "execution_count": 42,
     "metadata": {
      "image/svg+xml": {
       "isolated": true
      }
     },
     "output_type": "execute_result"
    }
   ],
   "source": [
    "plot(xiao, vertex_label_size = 8, vertex_size = (25), autocurve = False, edge_arrow_size = 0.5, \n",
    "     vertex_color = \"white\", bbox = (400,300))"
   ]
  },
  {
   "cell_type": "markdown",
   "id": "decf1d2c",
   "metadata": {},
   "source": [
    "The human immune response upon infection with *bordetellae* bacteria, taken form Thakar et al. (2007), generates a medium-sized STN (18 nodes). We are interested in routes from **Bacteria** to **Phagocytosis**."
   ]
  },
  {
   "attachments": {},
   "cell_type": "markdown",
   "id": "d47b10e8",
   "metadata": {},
   "source": [
    "<div>\n",
    "<img src=\"bordetellae_graph.png\" width=\"700\"/>\n",
    "</div>"
   ]
  },
  {
   "cell_type": "markdown",
   "id": "a88e571f",
   "metadata": {},
   "source": [
    "Finally, a large network with 55 nodes is adapted from Nuñez-Reza et al. (2021) depicting dendritic cell differentiation. We take both **CSF2** and **IL4** as input nodes and **NFKB2** as the output node of interest."
   ]
  },
  {
   "attachments": {},
   "cell_type": "markdown",
   "id": "716fffa7",
   "metadata": {},
   "source": [
    "<div>\n",
    "<img src=\"dendrite_graph.png\" width=\"700\"/>\n",
    "</div>"
   ]
  },
  {
   "cell_type": "markdown",
   "id": "f811d8dc",
   "metadata": {},
   "source": [
    "We compute the modulus for each network using both density and mass optimization."
   ]
  },
  {
   "cell_type": "code",
   "execution_count": 45,
   "id": "fd265b18",
   "metadata": {},
   "outputs": [],
   "source": [
    "from pmodpy import modsubfamily\n",
    "xiao_mod_dens = modsubfamily.modulus_subfamily_density(xiao, xiao_mfrs)\n",
    "xiao_mod_mass = modsubfamily.modulus_subfamily_mass(xiao, xiao_mfrs)\n",
    "bord_mod_dens = modsubfamily.modulus_subfamily_density(bordetellae, bord_mfrs)\n",
    "bord_mod_mass = modsubfamily.modulus_subfamily_mass(bordetellae, bord_mfrs)\n",
    "dend_mod_dens = modsubfamily.modulus_subfamily_density(dendritic, dend_mfrs)\n",
    "dend_mod_mass = modsubfamily.modulus_subfamily_mass(dendritic, dend_mfrs)"
   ]
  },
  {
   "cell_type": "markdown",
   "id": "cb16735d",
   "metadata": {},
   "source": [
    "## Results\n",
    "The following table summarizes some important results obtained from the methods in rtmod."
   ]
  },
  {
   "cell_type": "code",
   "execution_count": 46,
   "id": "8eb81ddb",
   "metadata": {},
   "outputs": [
    {
     "name": "stdout",
     "output_type": "stream",
     "text": [
      "╒═════════════╤══════════════════╤═══════════════════╤════════════════╕\n",
      "│ Graph       │   Number of MFRs │   Density Modulus │   Mass Modulus │\n",
      "╞═════════════╪══════════════════╪═══════════════════╪════════════════╡\n",
      "│ xiao        │                6 │         0.545455  │      0.55      │\n",
      "├─────────────┼──────────────────┼───────────────────┼────────────────┤\n",
      "│ bordetellae │               98 │         0.0731599 │      0.0737089 │\n",
      "├─────────────┼──────────────────┼───────────────────┼────────────────┤\n",
      "│ dendritic   │              350 │         0.600429  │      0.600429  │\n",
      "╘═════════════╧══════════════════╧═══════════════════╧════════════════╛\n"
     ]
    }
   ],
   "source": [
    "print(tabulate(\n",
    "    [(\"Graph\", \"Number of MFRs\", \"Density Modulus\", \"Mass Modulus\"), \n",
    "     (\"xiao\", len(xiao_mfrs), xiao_mod_dens[0], xiao_mod_mass[0]),\n",
    "     (\"bordetellae\", len(bord_mfrs), bord_mod_dens[0], bord_mod_mass[0]),\n",
    "     (\"dendritic\", len(dend_mfrs), dend_mod_dens[0], dend_mod_mass[0])], \n",
    "               headers = \"firstrow\", tablefmt = \"fancy_grid\"))"
   ]
  },
  {
   "cell_type": "markdown",
   "id": "9db2d6dc",
   "metadata": {},
   "source": [
    "Additionally, we obtain the most likely MFRs for a random signal to transpose on from the probabilistic interpretation of the 2-modulus. The following table lists the probabilities for the top 5 most likely MFRs in each network."
   ]
  },
  {
   "cell_type": "code",
   "execution_count": 60,
   "id": "d42aa114",
   "metadata": {},
   "outputs": [
    {
     "name": "stdout",
     "output_type": "stream",
     "text": [
      "╒═════════════╤═══════════════╤═════════════╕\n",
      "│        xiao │   bordetellae │   dendritic │\n",
      "╞═════════════╪═══════════════╪═════════════╡\n",
      "│ 0.818201    │     0.199079  │   0.277959  │\n",
      "├─────────────┼───────────────┼─────────────┤\n",
      "│ 0.0909151   │     0.181327  │   0.232144  │\n",
      "├─────────────┼───────────────┼─────────────┤\n",
      "│ 0.0908836   │     0.151493  │   0.224052  │\n",
      "├─────────────┼───────────────┼─────────────┤\n",
      "│ 1.08063e-07 │     0.122752  │   0.204563  │\n",
      "├─────────────┼───────────────┼─────────────┤\n",
      "│ 1.08063e-07 │     0.0646759 │   0.0248957 │\n",
      "╘═════════════╧═══════════════╧═════════════╛\n"
     ]
    }
   ],
   "source": [
    "xiao_top_probs = sorted(xiao_mod_mass[1], reverse = True)\n",
    "bord_top_probs = sorted(bord_mod_mass[1], reverse = True)\n",
    "dend_top_probs = sorted(dend_mod_mass[1], reverse = True)\n",
    "\n",
    "print(tabulate(\n",
    "    [(\"xiao\", \"bordetellae\", \"dendritic\"),\n",
    "     (xiao_top_probs[0], bord_top_probs[0], dend_top_probs[0]),\n",
    "     (xiao_top_probs[1], bord_top_probs[1], dend_top_probs[1]),\n",
    "     (xiao_top_probs[2], bord_top_probs[2], dend_top_probs[2]),\n",
    "     (xiao_top_probs[3], bord_top_probs[3], dend_top_probs[3]),\n",
    "     (xiao_top_probs[4], bord_top_probs[4], dend_top_probs[4])        \n",
    "    ],\n",
    "     headers = \"firstrow\", tablefmt = \"fancy_grid\"\n",
    "))"
   ]
  },
  {
   "cell_type": "markdown",
   "id": "9a5b3123",
   "metadata": {},
   "source": [
    "## References\n",
    "\n",
    "Nuñez-Reza KJ, Naldi A, Sánchez-Jiménez A, Leon-Apodaca AV, Santana MA, Thomas-Chollier M, Thieffry D, MedinaRivera A. 2021 Logical modelling of in vitro differentiation of human monocytes into dendritic cells unravels novel transcriptional  regulatory interactions. Interface Focus 11: 20200061. https://doi.org/10.1098/rsfs.2020.0061.\n",
    "\n",
    "Thakar J, Pilione M, Kirimanjeswara G, Harvill ET, Albert R (2007) Modeling systems-level regulation of host immune responses. PLoS Comput Biol 3(6): e109. https://doi.org/10.1371/journal.pcbi.0030109.\n",
    "\n",
    "Yufei Xiao , Edward R. Dougherty, The impact of function perturbations in Boolean networks, Bioinformatics, Volume 23, Issue 10, May 2007, Pages 1265–1273, https://doi.org/10.1093/bioinformatics/btm093.\n"
   ]
  }
 ],
 "metadata": {
  "kernelspec": {
   "display_name": "Python 3 (ipykernel)",
   "language": "python",
   "name": "python3"
  },
  "language_info": {
   "codemirror_mode": {
    "name": "ipython",
    "version": 3
   },
   "file_extension": ".py",
   "mimetype": "text/x-python",
   "name": "python",
   "nbconvert_exporter": "python",
   "pygments_lexer": "ipython3",
   "version": "3.9.13"
  }
 },
 "nbformat": 4,
 "nbformat_minor": 5
}
