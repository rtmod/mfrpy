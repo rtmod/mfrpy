{
 "cells": [
  {
   "cell_type": "markdown",
   "id": "75a9725b",
   "metadata": {},
   "source": [
    "# Tutorial for navigating rtmod python package\n",
    "### *Jason Cory Brunson*\n",
    "### *Igor Sokolov*\n",
    "### September 2022"
   ]
  },
  {
   "cell_type": "markdown",
   "id": "cc6b1b66",
   "metadata": {},
   "source": [
    "## Overview\n",
    "**rtmod** is a Python repository for a collection of software tools built to support functional analysis of signaling networks. They enable to compute the functional route modulus for directed graphs that model activation, inhibition, and synergy among molecular components of signal transduction networks. The Python packages in this repository are dependent on *igraph* and *numpy*, so, if you have not already, install them by running the appropriate pip commands."
   ]
  },
  {
   "cell_type": "markdown",
   "id": "0ced2a10",
   "metadata": {},
   "source": [
    "This notebook is meant to be a comprehensive overview of the main functionality of the packages in rtmod, how they work, and how to use them. We will review the methods of the **mfrpy** and **pmodpy** packages."
   ]
  },
  {
   "cell_type": "markdown",
   "id": "1d0418b8",
   "metadata": {},
   "source": [
    "## Motivation\n",
    "Conventional shortest-path algorithms are extremely refined and efficient. However, they are not necessarily applicable to the modeling of all types of networks. Cell signal transduction networks constitute one such example. In these instances, connections between subcomponents can be represented as directed edges, but there is no standardized representation for certain relationships between components, specifically those of conditional dependence (synergy) or inhibitory actions of some components on others. Taking these notions into account, our interest shifts from finding *minimal paths* from a source node to a target node to obtaining *minimal functional routes* by which a signal can travel from source to target, given these relationships between vertices in the network. One of the core aims of this project is to capture these important relationships graphically in order to better represent these prominent systems. In order to do this, we deal with *expanded graphs*, which are signal transduction networks that have been expanded (see below) to make computational algorithms more straightforward. We draw heavily from ideas developed by Reka Albert and colleagues at Pennsylvania State University and by Nathan Albin, Pietro Poggi-Corradini, and colleagues at Kansas State University, who have layed much of the theoretical groundwork for these concepts.\n",
    "\n",
    "#### Synergy\n",
    "A regular (activating) connection between two components of a signal transduction network can be represented by a directed edge between two nodes on the graph of the network. But how can we capture the fact that some components are only activated when two (or more) of its predecessors are activated in tandem? This is where the concept of synergy comes in. When the activation of a component is conditionally dependent on the simultaneous activation of several other components, the component's corresponding node on the graph is said to have a synergistic set of predeccessors consisting of precisely the nodes of the conditional components. Alternatively, we can say that the edges between these nodes have the same synergy value, which is the method by which this charecteristic is employed in the actual algorithm. \n",
    "\n",
    "#### Inhibition\n",
    "It is often the case in cellular networks that one component inhibits the activation of another. This too, can be captured graphically. A certain node can be inhibited by one of its predeccessors, so instead of drawing an activating edge between them we might want to consider calling the edge between them inhibitory. More generally, we can assign every edge a sign +1 or -1 that distinguishes it as activatory or inhibitory.\n",
    "\n",
    "### Theoretical Work\n",
    "How do we represent attributes such as synergy and inhibition graphically? One way is by adding new conventions, such as dashed and barred edges, but this is largely unintuitive and can lead to ambiguity and confusion. Instead, we can transform the entire graph with the appropriate attributes into an \"expanded\" version of itself - a directed graph with only activating edges but with no ambiguity as to which components are synergistic and which are inhibitory. This is done by introducing new vertices: composite and inhibitory nodes. Composite nodes link a conditionally dependent node to its synergistic set of predecessors, while inhibitory nodes are activated when one component inhibits another. For example, if A inhibits B, we can also say that NOT A activates B AND A activates NOT B. By employing these transformations we can circumvent possible confusion and create programs which are capable of working with these notions.\n",
    "\n",
    "### Empirical Networks\n",
    "To illustrate the full functionality, we will implement the package on a model network, obtained from Juilee Thakar et al's 2007 publication on immune responses following *Bordetellae* bacteria invasions. We aim in particular to demonstrate numerical methods of graph expansion, minimal funcitonal route calculation, and modulus computation."
   ]
  },
  {
   "cell_type": "markdown",
   "id": "c1885c47",
   "metadata": {},
   "source": [
    "## mfrpy\n",
    "**mfrpy** is a package for calculating the minimal functional routes of a given graph. \n",
    "\n",
    "#### igraph objects\n",
    "The **igraph** package encodes graphs as operable Python objects. Edges and vertices are encoded in lists, making it possible to iteritavely attach attributes to each element based on certain criteria. To familiarize ourselves with the format, we can initialize an example graph:\n"
   ]
  },
  {
   "cell_type": "code",
   "execution_count": 4,
   "id": "2f70ebf9",
   "metadata": {},
   "outputs": [
    {
     "ename": "AttributeError",
     "evalue": "Plotting not available; please install pycairo or cairocffi",
     "output_type": "error",
     "traceback": [
      "\u001b[0;31m---------------------------------------------------------------------------\u001b[0m",
      "\u001b[0;31mAttributeError\u001b[0m                            Traceback (most recent call last)",
      "\u001b[0;32m<ipython-input-4-816a21568bb4>\u001b[0m in \u001b[0;36m<module>\u001b[0;34m\u001b[0m\n\u001b[1;32m      3\u001b[0m \u001b[0mg\u001b[0m\u001b[0;34m.\u001b[0m\u001b[0mvs\u001b[0m\u001b[0;34m[\u001b[0m\u001b[0;34m\"name\"\u001b[0m\u001b[0;34m]\u001b[0m \u001b[0;34m=\u001b[0m \u001b[0mg\u001b[0m\u001b[0;34m.\u001b[0m\u001b[0mvs\u001b[0m\u001b[0;34m[\u001b[0m\u001b[0;34m\"id\"\u001b[0m\u001b[0;34m]\u001b[0m\u001b[0;34m\u001b[0m\u001b[0;34m\u001b[0m\u001b[0m\n\u001b[1;32m      4\u001b[0m \u001b[0mg\u001b[0m\u001b[0;34m.\u001b[0m\u001b[0mvs\u001b[0m\u001b[0;34m[\u001b[0m\u001b[0;34m\"label\"\u001b[0m\u001b[0;34m]\u001b[0m \u001b[0;34m=\u001b[0m \u001b[0mg\u001b[0m\u001b[0;34m.\u001b[0m\u001b[0mvs\u001b[0m\u001b[0;34m[\u001b[0m\u001b[0;34m\"name\"\u001b[0m\u001b[0;34m]\u001b[0m\u001b[0;34m\u001b[0m\u001b[0;34m\u001b[0m\u001b[0m\n\u001b[0;32m----> 5\u001b[0;31m plot(g, vertex_label_size = 8, vertex_size = (25), edge_arrow_size = 0.5, \n\u001b[0m\u001b[1;32m      6\u001b[0m      vertex_color = \"white\", bbox=(0, 0, 700, 400))\n",
      "\u001b[0;32m/opt/homebrew/anaconda3/lib/python3.8/site-packages/igraph/drawing/__init__.py\u001b[0m in \u001b[0;36mplot\u001b[0;34m(obj, target, bbox, *args, **kwds)\u001b[0m\n\u001b[1;32m    479\u001b[0m         \u001b[0mbbox\u001b[0m \u001b[0;34m=\u001b[0m \u001b[0mBoundingBox\u001b[0m\u001b[0;34m(\u001b[0m\u001b[0mbbox\u001b[0m\u001b[0;34m)\u001b[0m\u001b[0;34m\u001b[0m\u001b[0;34m\u001b[0m\u001b[0m\n\u001b[1;32m    480\u001b[0m \u001b[0;34m\u001b[0m\u001b[0m\n\u001b[0;32m--> 481\u001b[0;31m     \u001b[0mresult\u001b[0m \u001b[0;34m=\u001b[0m \u001b[0mPlot\u001b[0m\u001b[0;34m(\u001b[0m\u001b[0mtarget\u001b[0m\u001b[0;34m,\u001b[0m \u001b[0mbbox\u001b[0m\u001b[0;34m,\u001b[0m \u001b[0mbackground\u001b[0m\u001b[0;34m=\u001b[0m\u001b[0mkwds\u001b[0m\u001b[0;34m.\u001b[0m\u001b[0mget\u001b[0m\u001b[0;34m(\u001b[0m\u001b[0;34m\"background\"\u001b[0m\u001b[0;34m,\u001b[0m \u001b[0;34m\"white\"\u001b[0m\u001b[0;34m)\u001b[0m\u001b[0;34m)\u001b[0m\u001b[0;34m\u001b[0m\u001b[0;34m\u001b[0m\u001b[0m\n\u001b[0m\u001b[1;32m    482\u001b[0m \u001b[0;34m\u001b[0m\u001b[0m\n\u001b[1;32m    483\u001b[0m     \u001b[0;32mif\u001b[0m \u001b[0;34m\"margin\"\u001b[0m \u001b[0;32min\u001b[0m \u001b[0mkwds\u001b[0m\u001b[0;34m:\u001b[0m\u001b[0;34m\u001b[0m\u001b[0;34m\u001b[0m\u001b[0m\n",
      "\u001b[0;32m/opt/homebrew/anaconda3/lib/python3.8/site-packages/igraph/drawing/__init__.py\u001b[0m in \u001b[0;36m__init__\u001b[0;34m(self, target, bbox, palette, background)\u001b[0m\n\u001b[1;32m    119\u001b[0m         \"\"\"\n\u001b[1;32m    120\u001b[0m         \u001b[0mself\u001b[0m\u001b[0;34m.\u001b[0m\u001b[0m_filename\u001b[0m \u001b[0;34m=\u001b[0m \u001b[0;32mNone\u001b[0m\u001b[0;34m\u001b[0m\u001b[0;34m\u001b[0m\u001b[0m\n\u001b[0;32m--> 121\u001b[0;31m         \u001b[0mself\u001b[0m\u001b[0;34m.\u001b[0m\u001b[0m_surface_was_created\u001b[0m \u001b[0;34m=\u001b[0m \u001b[0;32mnot\u001b[0m \u001b[0misinstance\u001b[0m\u001b[0;34m(\u001b[0m\u001b[0mtarget\u001b[0m\u001b[0;34m,\u001b[0m \u001b[0mcairo\u001b[0m\u001b[0;34m.\u001b[0m\u001b[0mSurface\u001b[0m\u001b[0;34m)\u001b[0m\u001b[0;34m\u001b[0m\u001b[0;34m\u001b[0m\u001b[0m\n\u001b[0m\u001b[1;32m    122\u001b[0m         \u001b[0mself\u001b[0m\u001b[0;34m.\u001b[0m\u001b[0m_need_tmpfile\u001b[0m \u001b[0;34m=\u001b[0m \u001b[0;32mFalse\u001b[0m\u001b[0;34m\u001b[0m\u001b[0;34m\u001b[0m\u001b[0m\n\u001b[1;32m    123\u001b[0m \u001b[0;34m\u001b[0m\u001b[0m\n",
      "\u001b[0;32m/opt/homebrew/anaconda3/lib/python3.8/site-packages/igraph/drawing/utils.py\u001b[0m in \u001b[0;36m__getattr__\u001b[0;34m(self, _)\u001b[0m\n\u001b[1;32m    412\u001b[0m \u001b[0;34m\u001b[0m\u001b[0m\n\u001b[1;32m    413\u001b[0m     \u001b[0;32mdef\u001b[0m \u001b[0m__getattr__\u001b[0m\u001b[0;34m(\u001b[0m\u001b[0mself\u001b[0m\u001b[0;34m,\u001b[0m \u001b[0m_\u001b[0m\u001b[0;34m)\u001b[0m\u001b[0;34m:\u001b[0m\u001b[0;34m\u001b[0m\u001b[0;34m\u001b[0m\u001b[0m\n\u001b[0;32m--> 414\u001b[0;31m         \u001b[0;32mraise\u001b[0m \u001b[0mAttributeError\u001b[0m\u001b[0;34m(\u001b[0m\u001b[0mself\u001b[0m\u001b[0;34m.\u001b[0m\u001b[0m_message\u001b[0m\u001b[0;34m)\u001b[0m\u001b[0;34m\u001b[0m\u001b[0;34m\u001b[0m\u001b[0m\n\u001b[0m\u001b[1;32m    415\u001b[0m \u001b[0;34m\u001b[0m\u001b[0m\n\u001b[1;32m    416\u001b[0m     \u001b[0;32mdef\u001b[0m \u001b[0m__call__\u001b[0m\u001b[0;34m(\u001b[0m\u001b[0mself\u001b[0m\u001b[0;34m,\u001b[0m \u001b[0m_\u001b[0m\u001b[0;34m)\u001b[0m\u001b[0;34m:\u001b[0m\u001b[0;34m\u001b[0m\u001b[0;34m\u001b[0m\u001b[0m\n",
      "\u001b[0;31mAttributeError\u001b[0m: Plotting not available; please install pycairo or cairocffi"
     ]
    }
   ],
   "source": [
    "from igraph import Graph, plot\n",
    "g = Graph.Read_GraphML(\"bordetellaeGraph.xml\")\n",
    "g.vs[\"name\"] = g.vs[\"id\"]\n",
    "g.vs[\"label\"] = g.vs[\"name\"]\n",
    "plot(g, vertex_label_size = 8, vertex_size = (25), edge_arrow_size = 0.5, \n",
    "     vertex_color = \"white\", bbox=(0, 0, 700, 400))"
   ]
  },
  {
   "cell_type": "markdown",
   "id": "411b0ffe",
   "metadata": {},
   "source": [
    "Our test graph is a directed cyclic graph on 6 labeled vertices. Given prior knowledge of the network this graph represents, we can include synergy and inhibition quite easily by attaching the appropriate attributes to the edge sequence. Here, synergistic edges are color-coded."
   ]
  },
  {
   "cell_type": "code",
   "execution_count": 6,
   "id": "2a322dca",
   "metadata": {},
   "outputs": [
    {
     "name": "stdout",
     "output_type": "stream",
     "text": [
      "Bt -> EC 0 False\n",
      "Bt -> Th2RC 0 True\n",
      "Bt -> Th1RC 0 True\n",
      "EC -> PIC 1 False\n",
      "Th2RC -> PIC 1 True\n",
      "PIC -> DC 0 False\n",
      "DC -> T0 0 False\n",
      "Th1RC -> Th2RC 2 True\n",
      "DC -> Th2RC 2 False\n",
      "T0 -> Th2RC 2 False\n",
      "T0 -> Th1RC 3 False\n",
      "PIC -> Th1RC 3 False\n",
      "DC -> Th1RC 3 False\n",
      "Th2RC -> Th2C 4 False\n",
      "T0 -> Th2C 4 False\n",
      "DC -> Th2C 4 False\n",
      "PIC -> MP 0 False\n",
      "Th1RC -> MP 0 False\n",
      "Th2C -> BC 0 False\n",
      "BC -> Cab 0 False\n",
      "BC -> Oab 0 False\n",
      "Bt -> AgAb 5 False\n",
      "Cab -> AgAb 5 False\n",
      "Bt -> AgAb 5 False\n",
      "Oab -> AgAb 6 False\n",
      "PIC -> RP 0 False\n",
      "Bt -> Cp 0 False\n",
      "Cab -> Cp 7 False\n",
      "AgAb -> Cp 7 False\n",
      "AgAb -> AP 8 False\n",
      "RP -> AP 8 False\n",
      "AgAb -> AP 8 False\n",
      "MP -> AP 9 False\n",
      "Cp -> AP 10 False\n",
      "Cab -> AP 10 False\n",
      "RP -> AP 8 False\n",
      "Cab -> AP 10 False\n",
      "Cp -> AP 10 False\n",
      "MP -> AP 9 False\n",
      "AP -> PH 0 False\n"
     ]
    },
    {
     "ename": "AttributeError",
     "evalue": "Plotting not available; please install pycairo or cairocffi",
     "output_type": "error",
     "traceback": [
      "\u001b[0;31m---------------------------------------------------------------------------\u001b[0m",
      "\u001b[0;31mAttributeError\u001b[0m                            Traceback (most recent call last)",
      "\u001b[0;32m<ipython-input-6-e60a0d9a489a>\u001b[0m in \u001b[0;36m<module>\u001b[0;34m\u001b[0m\n\u001b[1;32m     24\u001b[0m                     _target_in=[edge[1]])[\"color\"] = colors[synergies.index(group)]\n\u001b[1;32m     25\u001b[0m \u001b[0;34m\u001b[0m\u001b[0m\n\u001b[0;32m---> 26\u001b[0;31m \u001b[0mplot\u001b[0m\u001b[0;34m(\u001b[0m\u001b[0mg\u001b[0m\u001b[0;34m,\u001b[0m \u001b[0mvertex_color\u001b[0m \u001b[0;34m=\u001b[0m \u001b[0;34m\"white\"\u001b[0m\u001b[0;34m,\u001b[0m \u001b[0mvertex_label_size\u001b[0m \u001b[0;34m=\u001b[0m \u001b[0;36m8\u001b[0m\u001b[0;34m,\u001b[0m \u001b[0mvertex_size\u001b[0m \u001b[0;34m=\u001b[0m \u001b[0;36m25\u001b[0m\u001b[0;34m,\u001b[0m \u001b[0medge_arrow_size\u001b[0m \u001b[0;34m=\u001b[0m \u001b[0;36m0.5\u001b[0m\u001b[0;34m,\u001b[0m \u001b[0mbbox\u001b[0m\u001b[0;34m=\u001b[0m\u001b[0;34m(\u001b[0m\u001b[0;36m0\u001b[0m\u001b[0;34m,\u001b[0m \u001b[0;36m0\u001b[0m\u001b[0;34m,\u001b[0m \u001b[0;36m700\u001b[0m\u001b[0;34m,\u001b[0m \u001b[0;36m400\u001b[0m\u001b[0;34m)\u001b[0m\u001b[0;34m)\u001b[0m\u001b[0;34m\u001b[0m\u001b[0;34m\u001b[0m\u001b[0m\n\u001b[0m",
      "\u001b[0;32m/opt/homebrew/anaconda3/lib/python3.8/site-packages/igraph/drawing/__init__.py\u001b[0m in \u001b[0;36mplot\u001b[0;34m(obj, target, bbox, *args, **kwds)\u001b[0m\n\u001b[1;32m    479\u001b[0m         \u001b[0mbbox\u001b[0m \u001b[0;34m=\u001b[0m \u001b[0mBoundingBox\u001b[0m\u001b[0;34m(\u001b[0m\u001b[0mbbox\u001b[0m\u001b[0;34m)\u001b[0m\u001b[0;34m\u001b[0m\u001b[0;34m\u001b[0m\u001b[0m\n\u001b[1;32m    480\u001b[0m \u001b[0;34m\u001b[0m\u001b[0m\n\u001b[0;32m--> 481\u001b[0;31m     \u001b[0mresult\u001b[0m \u001b[0;34m=\u001b[0m \u001b[0mPlot\u001b[0m\u001b[0;34m(\u001b[0m\u001b[0mtarget\u001b[0m\u001b[0;34m,\u001b[0m \u001b[0mbbox\u001b[0m\u001b[0;34m,\u001b[0m \u001b[0mbackground\u001b[0m\u001b[0;34m=\u001b[0m\u001b[0mkwds\u001b[0m\u001b[0;34m.\u001b[0m\u001b[0mget\u001b[0m\u001b[0;34m(\u001b[0m\u001b[0;34m\"background\"\u001b[0m\u001b[0;34m,\u001b[0m \u001b[0;34m\"white\"\u001b[0m\u001b[0;34m)\u001b[0m\u001b[0;34m)\u001b[0m\u001b[0;34m\u001b[0m\u001b[0;34m\u001b[0m\u001b[0m\n\u001b[0m\u001b[1;32m    482\u001b[0m \u001b[0;34m\u001b[0m\u001b[0m\n\u001b[1;32m    483\u001b[0m     \u001b[0;32mif\u001b[0m \u001b[0;34m\"margin\"\u001b[0m \u001b[0;32min\u001b[0m \u001b[0mkwds\u001b[0m\u001b[0;34m:\u001b[0m\u001b[0;34m\u001b[0m\u001b[0;34m\u001b[0m\u001b[0m\n",
      "\u001b[0;32m/opt/homebrew/anaconda3/lib/python3.8/site-packages/igraph/drawing/__init__.py\u001b[0m in \u001b[0;36m__init__\u001b[0;34m(self, target, bbox, palette, background)\u001b[0m\n\u001b[1;32m    119\u001b[0m         \"\"\"\n\u001b[1;32m    120\u001b[0m         \u001b[0mself\u001b[0m\u001b[0;34m.\u001b[0m\u001b[0m_filename\u001b[0m \u001b[0;34m=\u001b[0m \u001b[0;32mNone\u001b[0m\u001b[0;34m\u001b[0m\u001b[0;34m\u001b[0m\u001b[0m\n\u001b[0;32m--> 121\u001b[0;31m         \u001b[0mself\u001b[0m\u001b[0;34m.\u001b[0m\u001b[0m_surface_was_created\u001b[0m \u001b[0;34m=\u001b[0m \u001b[0;32mnot\u001b[0m \u001b[0misinstance\u001b[0m\u001b[0;34m(\u001b[0m\u001b[0mtarget\u001b[0m\u001b[0;34m,\u001b[0m \u001b[0mcairo\u001b[0m\u001b[0;34m.\u001b[0m\u001b[0mSurface\u001b[0m\u001b[0;34m)\u001b[0m\u001b[0;34m\u001b[0m\u001b[0;34m\u001b[0m\u001b[0m\n\u001b[0m\u001b[1;32m    122\u001b[0m         \u001b[0mself\u001b[0m\u001b[0;34m.\u001b[0m\u001b[0m_need_tmpfile\u001b[0m \u001b[0;34m=\u001b[0m \u001b[0;32mFalse\u001b[0m\u001b[0;34m\u001b[0m\u001b[0;34m\u001b[0m\u001b[0m\n\u001b[1;32m    123\u001b[0m \u001b[0;34m\u001b[0m\u001b[0m\n",
      "\u001b[0;32m/opt/homebrew/anaconda3/lib/python3.8/site-packages/igraph/drawing/utils.py\u001b[0m in \u001b[0;36m__getattr__\u001b[0;34m(self, _)\u001b[0m\n\u001b[1;32m    412\u001b[0m \u001b[0;34m\u001b[0m\u001b[0m\n\u001b[1;32m    413\u001b[0m     \u001b[0;32mdef\u001b[0m \u001b[0m__getattr__\u001b[0m\u001b[0;34m(\u001b[0m\u001b[0mself\u001b[0m\u001b[0;34m,\u001b[0m \u001b[0m_\u001b[0m\u001b[0;34m)\u001b[0m\u001b[0;34m:\u001b[0m\u001b[0;34m\u001b[0m\u001b[0;34m\u001b[0m\u001b[0m\n\u001b[0;32m--> 414\u001b[0;31m         \u001b[0;32mraise\u001b[0m \u001b[0mAttributeError\u001b[0m\u001b[0;34m(\u001b[0m\u001b[0mself\u001b[0m\u001b[0;34m.\u001b[0m\u001b[0m_message\u001b[0m\u001b[0;34m)\u001b[0m\u001b[0;34m\u001b[0m\u001b[0;34m\u001b[0m\u001b[0m\n\u001b[0m\u001b[1;32m    415\u001b[0m \u001b[0;34m\u001b[0m\u001b[0m\n\u001b[1;32m    416\u001b[0m     \u001b[0;32mdef\u001b[0m \u001b[0m__call__\u001b[0m\u001b[0;34m(\u001b[0m\u001b[0mself\u001b[0m\u001b[0;34m,\u001b[0m \u001b[0m_\u001b[0m\u001b[0;34m)\u001b[0m\u001b[0;34m:\u001b[0m\u001b[0;34m\u001b[0m\u001b[0;34m\u001b[0m\u001b[0m\n",
      "\u001b[0;31mAttributeError\u001b[0m: Plotting not available; please install pycairo or cairocffi"
     ]
    }
   ],
   "source": [
    "i=1\n",
    "indices = []\n",
    "while i <= max(g.es[\"synergy\"]):\n",
    "    indices.append(\n",
    "    [syn for syn,val in enumerate(g.es[\"synergy\"]) if val==i]\n",
    "    )\n",
    "    i += 1\n",
    "synergies = []\n",
    "for ind in indices:\n",
    "    syn = [g.get_edgelist()[i] for i in ind]\n",
    "    synergies.append(syn)\n",
    "\n",
    "for edge in g.get_edgelist():\n",
    "    print(g.vs[edge[0]][\"name\"], \"->\", g.vs[edge[1]][\"name\"], \n",
    "    int(g.es[g.get_edgelist().index(edge)][\"synergy\"]), \n",
    "    bool(g.es[g.get_edgelist().index(edge)][\"inhibition\"]))\n",
    "\n",
    "colors = [\"#345995\", \"#70161E\", \"#BD4089\", \"#7EA16B\", \"#42213D\", \"#FB4D3D\", \n",
    "          \"#445552\", \"#294D4A\", \"#C33C54\", \"#254E70\", \"#8EE3EF\"]\n",
    "\n",
    "for group in synergies:\n",
    "    for edge in group:\n",
    "        g.es.select(_source_in=[edge[0]], \n",
    "                    _target_in=[edge[1]])[\"color\"] = colors[synergies.index(group)]\n",
    "        \n",
    "plot(g, vertex_color = \"white\", vertex_label_size = 8, vertex_size = 25, edge_arrow_size = 0.5, bbox=(0, 0, 700, 400))"
   ]
  },
  {
   "cell_type": "markdown",
   "id": "6e8a8740",
   "metadata": {},
   "source": [
    "### update_expand.py\n",
    "\n",
    "This is a collection of methods for generating boolean update tables for the input graph, and converting these input tables into an expanded graph with composite nodes and logical NOT nodes to capture the behaviors of synergistic and inhibitory edges. We first obtain an update table with a zero-order logical expression for every node in the graph. The source node will always have an empty expressions since it lacks predecessors:"
   ]
  },
  {
   "cell_type": "code",
   "execution_count": 7,
   "id": "b69ab44e",
   "metadata": {},
   "outputs": [
    {
     "name": "stdout",
     "output_type": "stream",
     "text": [
      "Bt = \n",
      "EC = Bt\n",
      "Th1RC = (T0&PIC&DC)|~Bt\n",
      "Th2RC = (~Th1RC&DC&T0)|~Bt\n",
      "PIC = (EC&~Th2RC)\n",
      "DC = PIC\n",
      "T0 = DC\n",
      "Th2C = (Th2RC&T0&DC)\n",
      "Cab = BC\n",
      "Oab = BC\n",
      "AgAb = (Bt&Cab)|(Bt&Oab)\n",
      "Cp = (Cab&AgAb)|Bt\n",
      "RP = PIC\n",
      "AP = (AgAb&RP)|(AgAb&MP)|(Cp&Cab&RP)|(Cab&Cp&MP)\n",
      "PH = AP\n",
      "MP = Th1RC|PIC\n",
      "BC = Th2C\n",
      "~Th1RC = (Bt&~DC)|(Bt&~PIC)|(Bt&~T0)\n",
      "~Th2RC = (Bt&Th1RC)|(Bt&~DC)|(Bt&~T0)\n",
      "~PIC = Th2RC|~EC\n"
     ]
    }
   ],
   "source": [
    "from mfrpy import update_expand\n",
    "table = update_expand.updates(g, g.es[\"synergy\"], g.es[\"inhibition\"], 1)"
   ]
  },
  {
   "cell_type": "markdown",
   "id": "764d6056",
   "metadata": {},
   "source": [
    "We can now use this table to accurately expand our graph with the considerations of synergy and inhibition. Here, '~' is the logical NOT, whereas '&' and '|' are the logical AND and OR respectively. The drawback of doing this process graph-theoretically is the challenge of handling edges which have both attributes, as it is not always clear which expansion to perform first. By computing via the update table, there is no ambiguity and both attributes are expanded in tandem. We can now expand the test graph by running"
   ]
  },
  {
   "cell_type": "code",
   "execution_count": 8,
   "id": "a76618c8",
   "metadata": {},
   "outputs": [
    {
     "ename": "AttributeError",
     "evalue": "Plotting not available; please install pycairo or cairocffi",
     "output_type": "error",
     "traceback": [
      "\u001b[0;31m---------------------------------------------------------------------------\u001b[0m",
      "\u001b[0;31mAttributeError\u001b[0m                            Traceback (most recent call last)",
      "\u001b[0;32m<ipython-input-8-bc37ece5a03a>\u001b[0m in \u001b[0;36m<module>\u001b[0;34m\u001b[0m\n\u001b[1;32m      8\u001b[0m \u001b[0mexpg\u001b[0m\u001b[0;34m.\u001b[0m\u001b[0mdelete_vertices\u001b[0m\u001b[0;34m(\u001b[0m\u001b[0misolated\u001b[0m\u001b[0;34m)\u001b[0m\u001b[0;34m\u001b[0m\u001b[0;34m\u001b[0m\u001b[0m\n\u001b[1;32m      9\u001b[0m \u001b[0;34m\u001b[0m\u001b[0m\n\u001b[0;32m---> 10\u001b[0;31m \u001b[0mplot\u001b[0m\u001b[0;34m(\u001b[0m\u001b[0mexpg\u001b[0m\u001b[0;34m,\u001b[0m \u001b[0mvertex_color\u001b[0m \u001b[0;34m=\u001b[0m \u001b[0;34m\"white\"\u001b[0m\u001b[0;34m,\u001b[0m \u001b[0mvertex_label_size\u001b[0m \u001b[0;34m=\u001b[0m \u001b[0;36m7\u001b[0m\u001b[0;34m,\u001b[0m \u001b[0mvertex_size\u001b[0m \u001b[0;34m=\u001b[0m \u001b[0;36m26\u001b[0m\u001b[0;34m,\u001b[0m \u001b[0medge_arrow_size\u001b[0m \u001b[0;34m=\u001b[0m \u001b[0;36m0.5\u001b[0m\u001b[0;34m,\u001b[0m \u001b[0mbbox\u001b[0m\u001b[0;34m=\u001b[0m\u001b[0;34m(\u001b[0m\u001b[0;36m0\u001b[0m\u001b[0;34m,\u001b[0m \u001b[0;36m0\u001b[0m\u001b[0;34m,\u001b[0m \u001b[0;36m700\u001b[0m\u001b[0;34m,\u001b[0m \u001b[0;36m400\u001b[0m\u001b[0;34m)\u001b[0m\u001b[0;34m)\u001b[0m\u001b[0;34m\u001b[0m\u001b[0;34m\u001b[0m\u001b[0m\n\u001b[0m",
      "\u001b[0;32m/opt/homebrew/anaconda3/lib/python3.8/site-packages/igraph/drawing/__init__.py\u001b[0m in \u001b[0;36mplot\u001b[0;34m(obj, target, bbox, *args, **kwds)\u001b[0m\n\u001b[1;32m    479\u001b[0m         \u001b[0mbbox\u001b[0m \u001b[0;34m=\u001b[0m \u001b[0mBoundingBox\u001b[0m\u001b[0;34m(\u001b[0m\u001b[0mbbox\u001b[0m\u001b[0;34m)\u001b[0m\u001b[0;34m\u001b[0m\u001b[0;34m\u001b[0m\u001b[0m\n\u001b[1;32m    480\u001b[0m \u001b[0;34m\u001b[0m\u001b[0m\n\u001b[0;32m--> 481\u001b[0;31m     \u001b[0mresult\u001b[0m \u001b[0;34m=\u001b[0m \u001b[0mPlot\u001b[0m\u001b[0;34m(\u001b[0m\u001b[0mtarget\u001b[0m\u001b[0;34m,\u001b[0m \u001b[0mbbox\u001b[0m\u001b[0;34m,\u001b[0m \u001b[0mbackground\u001b[0m\u001b[0;34m=\u001b[0m\u001b[0mkwds\u001b[0m\u001b[0;34m.\u001b[0m\u001b[0mget\u001b[0m\u001b[0;34m(\u001b[0m\u001b[0;34m\"background\"\u001b[0m\u001b[0;34m,\u001b[0m \u001b[0;34m\"white\"\u001b[0m\u001b[0;34m)\u001b[0m\u001b[0;34m)\u001b[0m\u001b[0;34m\u001b[0m\u001b[0;34m\u001b[0m\u001b[0m\n\u001b[0m\u001b[1;32m    482\u001b[0m \u001b[0;34m\u001b[0m\u001b[0m\n\u001b[1;32m    483\u001b[0m     \u001b[0;32mif\u001b[0m \u001b[0;34m\"margin\"\u001b[0m \u001b[0;32min\u001b[0m \u001b[0mkwds\u001b[0m\u001b[0;34m:\u001b[0m\u001b[0;34m\u001b[0m\u001b[0;34m\u001b[0m\u001b[0m\n",
      "\u001b[0;32m/opt/homebrew/anaconda3/lib/python3.8/site-packages/igraph/drawing/__init__.py\u001b[0m in \u001b[0;36m__init__\u001b[0;34m(self, target, bbox, palette, background)\u001b[0m\n\u001b[1;32m    119\u001b[0m         \"\"\"\n\u001b[1;32m    120\u001b[0m         \u001b[0mself\u001b[0m\u001b[0;34m.\u001b[0m\u001b[0m_filename\u001b[0m \u001b[0;34m=\u001b[0m \u001b[0;32mNone\u001b[0m\u001b[0;34m\u001b[0m\u001b[0;34m\u001b[0m\u001b[0m\n\u001b[0;32m--> 121\u001b[0;31m         \u001b[0mself\u001b[0m\u001b[0;34m.\u001b[0m\u001b[0m_surface_was_created\u001b[0m \u001b[0;34m=\u001b[0m \u001b[0;32mnot\u001b[0m \u001b[0misinstance\u001b[0m\u001b[0;34m(\u001b[0m\u001b[0mtarget\u001b[0m\u001b[0;34m,\u001b[0m \u001b[0mcairo\u001b[0m\u001b[0;34m.\u001b[0m\u001b[0mSurface\u001b[0m\u001b[0;34m)\u001b[0m\u001b[0;34m\u001b[0m\u001b[0;34m\u001b[0m\u001b[0m\n\u001b[0m\u001b[1;32m    122\u001b[0m         \u001b[0mself\u001b[0m\u001b[0;34m.\u001b[0m\u001b[0m_need_tmpfile\u001b[0m \u001b[0;34m=\u001b[0m \u001b[0;32mFalse\u001b[0m\u001b[0;34m\u001b[0m\u001b[0;34m\u001b[0m\u001b[0m\n\u001b[1;32m    123\u001b[0m \u001b[0;34m\u001b[0m\u001b[0m\n",
      "\u001b[0;32m/opt/homebrew/anaconda3/lib/python3.8/site-packages/igraph/drawing/utils.py\u001b[0m in \u001b[0;36m__getattr__\u001b[0;34m(self, _)\u001b[0m\n\u001b[1;32m    412\u001b[0m \u001b[0;34m\u001b[0m\u001b[0m\n\u001b[1;32m    413\u001b[0m     \u001b[0;32mdef\u001b[0m \u001b[0m__getattr__\u001b[0m\u001b[0;34m(\u001b[0m\u001b[0mself\u001b[0m\u001b[0;34m,\u001b[0m \u001b[0m_\u001b[0m\u001b[0;34m)\u001b[0m\u001b[0;34m:\u001b[0m\u001b[0;34m\u001b[0m\u001b[0;34m\u001b[0m\u001b[0m\n\u001b[0;32m--> 414\u001b[0;31m         \u001b[0;32mraise\u001b[0m \u001b[0mAttributeError\u001b[0m\u001b[0;34m(\u001b[0m\u001b[0mself\u001b[0m\u001b[0;34m.\u001b[0m\u001b[0m_message\u001b[0m\u001b[0;34m)\u001b[0m\u001b[0;34m\u001b[0m\u001b[0;34m\u001b[0m\u001b[0m\n\u001b[0m\u001b[1;32m    415\u001b[0m \u001b[0;34m\u001b[0m\u001b[0m\n\u001b[1;32m    416\u001b[0m     \u001b[0;32mdef\u001b[0m \u001b[0m__call__\u001b[0m\u001b[0;34m(\u001b[0m\u001b[0mself\u001b[0m\u001b[0;34m,\u001b[0m \u001b[0m_\u001b[0m\u001b[0;34m)\u001b[0m\u001b[0;34m:\u001b[0m\u001b[0;34m\u001b[0m\u001b[0;34m\u001b[0m\u001b[0m\n",
      "\u001b[0;31mAttributeError\u001b[0m: Plotting not available; please install pycairo or cairocffi"
     ]
    }
   ],
   "source": [
    "expg = update_expand.expand(g, table, 0)\n",
    "\n",
    "isolated = []\n",
    "for node in expg.vs[\"name\"]:\n",
    "    if expg.neighbors(expg.vs[\"name\"].index(node)) == []:\n",
    "        isolated.append(expg.vs[\"name\"].index(node))\n",
    "\n",
    "expg.delete_vertices(isolated)\n",
    "\n",
    "plot(expg, vertex_color = \"white\", vertex_label_size = 7, vertex_size = 26, edge_arrow_size = 0.5, bbox=(0, 0, 700, 400))"
   ]
  },
  {
   "cell_type": "markdown",
   "id": "b7fd795f",
   "metadata": {},
   "source": [
    "### sgmfr.py\n",
    "\n",
    "This is a method for calculating the minimal functional routes of an expanded graph provided by `update_expand()`. The method uses a top-down subgraph-growing algorithm to generate minimal functional routes in the expanded graph. Starting from a target node, the algorithm examines its predecessors. If there are no composite nodes, it proceeds by adding predecessors one at a time until it reaches the source node, at which point it will pursue a different chain of predecessors, much like a normal shortest-path algorithm. However, if it encounters a composite node, the method appends all of the predecessors as one synergistic set in the minimal functional route. sgmfr can handle both cyclic and acyclic graphs, but to avoid redundancy that may occur from cyclic graphs, cycles are cleaved after all minimal functional routes are generated. It should be noted that inhibitory nodes are treated the same as any other node, as their nature is encoded in the expanded graph. To obtain the minimal functional routes, we execute"
   ]
  },
  {
   "cell_type": "code",
   "execution_count": 16,
   "id": "4e4e70a4",
   "metadata": {},
   "outputs": [
    {
     "name": "stdout",
     "output_type": "stream",
     "text": [
      "17\n",
      "1 : [0, 1, 3, 4, 5, 6, 7, 13, 14, 15, 18, 19, 22, 23, 25, 31, 35, 39]\n",
      "2 : [0, 1, 3, 4, 5, 6, 7, 13, 14, 15, 17, 18, 19, 22, 23, 31, 38, 39]\n",
      "3 : [0, 1, 3, 4, 5, 6, 7, 13, 14, 15, 18, 19, 25, 26, 35, 36, 37, 39]\n",
      "4 : [0, 1, 3, 4, 5, 6, 7, 13, 14, 15, 17, 18, 19, 26, 36, 37, 38, 39]\n",
      "5 : [0, 1, 3, 4, 5, 6, 7, 13, 14, 15, 18, 20, 23, 24, 25, 31, 35, 39]\n",
      "6 : [0, 1, 3, 4, 5, 6, 7, 13, 14, 15, 17, 18, 20, 23, 24, 31, 38, 39]\n",
      "7 : [0, 1, 3, 4, 5, 6, 7, 13, 14, 15, 16, 18, 19, 22, 23, 31, 38, 39]\n",
      "8 : [0, 1, 3, 4, 5, 6, 7, 13, 14, 15, 18, 19, 19, 19, 22, 23, 25, 27, 28, 35, 36, 37, 39]\n",
      "9 : [0, 1, 3, 4, 5, 6, 7, 13, 14, 15, 17, 18, 19, 19, 19, 22, 23, 27, 28, 36, 37, 38, 39]\n",
      "10 : [0, 1, 3, 4, 5, 6, 7, 13, 14, 15, 16, 18, 19, 26, 36, 37, 38, 39]\n",
      "11 : [0, 1, 3, 4, 5, 6, 7, 13, 14, 15, 16, 18, 20, 23, 24, 31, 38, 39]\n",
      "12 : [0, 1, 3, 4, 5, 6, 7, 13, 14, 15, 18, 19, 19, 20, 23, 24, 25, 27, 28, 35, 36, 37, 39]\n",
      "13 : [0, 1, 3, 4, 5, 6, 7, 13, 14, 15, 16, 18, 19, 19, 19, 22, 23, 27, 28, 36, 37, 38, 39]\n",
      "14 : [0, 1, 3, 4, 5, 6, 7, 13, 14, 15, 17, 18, 19, 19, 20, 23, 24, 27, 28, 36, 37, 38, 39]\n",
      "15 : [0, 1, 3, 4, 5, 6, 7, 13, 14, 15, 16, 18, 19, 19, 20, 23, 24, 27, 28, 36, 37, 38, 39]\n"
     ]
    },
    {
     "ename": "AttributeError",
     "evalue": "Plotting not available; please install pycairo or cairocffi",
     "output_type": "error",
     "traceback": [
      "\u001b[0;31m---------------------------------------------------------------------------\u001b[0m",
      "\u001b[0;31mAttributeError\u001b[0m                            Traceback (most recent call last)",
      "\u001b[0;32m<ipython-input-16-9e8850199152>\u001b[0m in \u001b[0;36m<module>\u001b[0;34m\u001b[0m\n\u001b[1;32m      8\u001b[0m \u001b[0;32mfor\u001b[0m \u001b[0medge\u001b[0m \u001b[0;32min\u001b[0m \u001b[0mg_mfrs\u001b[0m\u001b[0;34m[\u001b[0m\u001b[0;36m0\u001b[0m\u001b[0;34m]\u001b[0m\u001b[0;34m[\u001b[0m\u001b[0;36m7\u001b[0m\u001b[0;34m]\u001b[0m\u001b[0;34m:\u001b[0m\u001b[0;34m\u001b[0m\u001b[0;34m\u001b[0m\u001b[0m\n\u001b[1;32m      9\u001b[0m     \u001b[0mexpg\u001b[0m\u001b[0;34m.\u001b[0m\u001b[0mes\u001b[0m\u001b[0;34m.\u001b[0m\u001b[0mselect\u001b[0m\u001b[0;34m(\u001b[0m\u001b[0medge\u001b[0m\u001b[0;34m)\u001b[0m\u001b[0;34m[\u001b[0m\u001b[0;34m\"color\"\u001b[0m\u001b[0;34m]\u001b[0m \u001b[0;34m=\u001b[0m \u001b[0;34m\"red\"\u001b[0m\u001b[0;34m\u001b[0m\u001b[0;34m\u001b[0m\u001b[0m\n\u001b[0;32m---> 10\u001b[0;31m \u001b[0mplot\u001b[0m\u001b[0;34m(\u001b[0m\u001b[0mexpg\u001b[0m\u001b[0;34m,\u001b[0m \u001b[0mvertex_color\u001b[0m \u001b[0;34m=\u001b[0m \u001b[0;34m\"white\"\u001b[0m\u001b[0;34m,\u001b[0m \u001b[0mvertex_label_size\u001b[0m \u001b[0;34m=\u001b[0m \u001b[0;36m7\u001b[0m\u001b[0;34m,\u001b[0m \u001b[0mvertex_size\u001b[0m \u001b[0;34m=\u001b[0m \u001b[0;36m26\u001b[0m\u001b[0;34m,\u001b[0m \u001b[0medge_arrow_size\u001b[0m \u001b[0;34m=\u001b[0m \u001b[0;36m0.5\u001b[0m\u001b[0;34m,\u001b[0m \u001b[0mbbox\u001b[0m\u001b[0;34m=\u001b[0m\u001b[0;34m(\u001b[0m\u001b[0;36m0\u001b[0m\u001b[0;34m,\u001b[0m \u001b[0;36m0\u001b[0m\u001b[0;34m,\u001b[0m \u001b[0;36m700\u001b[0m\u001b[0;34m,\u001b[0m \u001b[0;36m400\u001b[0m\u001b[0;34m)\u001b[0m\u001b[0;34m)\u001b[0m\u001b[0;34m\u001b[0m\u001b[0;34m\u001b[0m\u001b[0m\n\u001b[0m",
      "\u001b[0;32m/opt/homebrew/anaconda3/lib/python3.8/site-packages/igraph/drawing/__init__.py\u001b[0m in \u001b[0;36mplot\u001b[0;34m(obj, target, bbox, *args, **kwds)\u001b[0m\n\u001b[1;32m    479\u001b[0m         \u001b[0mbbox\u001b[0m \u001b[0;34m=\u001b[0m \u001b[0mBoundingBox\u001b[0m\u001b[0;34m(\u001b[0m\u001b[0mbbox\u001b[0m\u001b[0;34m)\u001b[0m\u001b[0;34m\u001b[0m\u001b[0;34m\u001b[0m\u001b[0m\n\u001b[1;32m    480\u001b[0m \u001b[0;34m\u001b[0m\u001b[0m\n\u001b[0;32m--> 481\u001b[0;31m     \u001b[0mresult\u001b[0m \u001b[0;34m=\u001b[0m \u001b[0mPlot\u001b[0m\u001b[0;34m(\u001b[0m\u001b[0mtarget\u001b[0m\u001b[0;34m,\u001b[0m \u001b[0mbbox\u001b[0m\u001b[0;34m,\u001b[0m \u001b[0mbackground\u001b[0m\u001b[0;34m=\u001b[0m\u001b[0mkwds\u001b[0m\u001b[0;34m.\u001b[0m\u001b[0mget\u001b[0m\u001b[0;34m(\u001b[0m\u001b[0;34m\"background\"\u001b[0m\u001b[0;34m,\u001b[0m \u001b[0;34m\"white\"\u001b[0m\u001b[0;34m)\u001b[0m\u001b[0;34m)\u001b[0m\u001b[0;34m\u001b[0m\u001b[0;34m\u001b[0m\u001b[0m\n\u001b[0m\u001b[1;32m    482\u001b[0m \u001b[0;34m\u001b[0m\u001b[0m\n\u001b[1;32m    483\u001b[0m     \u001b[0;32mif\u001b[0m \u001b[0;34m\"margin\"\u001b[0m \u001b[0;32min\u001b[0m \u001b[0mkwds\u001b[0m\u001b[0;34m:\u001b[0m\u001b[0;34m\u001b[0m\u001b[0;34m\u001b[0m\u001b[0m\n",
      "\u001b[0;32m/opt/homebrew/anaconda3/lib/python3.8/site-packages/igraph/drawing/__init__.py\u001b[0m in \u001b[0;36m__init__\u001b[0;34m(self, target, bbox, palette, background)\u001b[0m\n\u001b[1;32m    119\u001b[0m         \"\"\"\n\u001b[1;32m    120\u001b[0m         \u001b[0mself\u001b[0m\u001b[0;34m.\u001b[0m\u001b[0m_filename\u001b[0m \u001b[0;34m=\u001b[0m \u001b[0;32mNone\u001b[0m\u001b[0;34m\u001b[0m\u001b[0;34m\u001b[0m\u001b[0m\n\u001b[0;32m--> 121\u001b[0;31m         \u001b[0mself\u001b[0m\u001b[0;34m.\u001b[0m\u001b[0m_surface_was_created\u001b[0m \u001b[0;34m=\u001b[0m \u001b[0;32mnot\u001b[0m \u001b[0misinstance\u001b[0m\u001b[0;34m(\u001b[0m\u001b[0mtarget\u001b[0m\u001b[0;34m,\u001b[0m \u001b[0mcairo\u001b[0m\u001b[0;34m.\u001b[0m\u001b[0mSurface\u001b[0m\u001b[0;34m)\u001b[0m\u001b[0;34m\u001b[0m\u001b[0;34m\u001b[0m\u001b[0m\n\u001b[0m\u001b[1;32m    122\u001b[0m         \u001b[0mself\u001b[0m\u001b[0;34m.\u001b[0m\u001b[0m_need_tmpfile\u001b[0m \u001b[0;34m=\u001b[0m \u001b[0;32mFalse\u001b[0m\u001b[0;34m\u001b[0m\u001b[0;34m\u001b[0m\u001b[0m\n\u001b[1;32m    123\u001b[0m \u001b[0;34m\u001b[0m\u001b[0m\n",
      "\u001b[0;32m/opt/homebrew/anaconda3/lib/python3.8/site-packages/igraph/drawing/utils.py\u001b[0m in \u001b[0;36m__getattr__\u001b[0;34m(self, _)\u001b[0m\n\u001b[1;32m    412\u001b[0m \u001b[0;34m\u001b[0m\u001b[0m\n\u001b[1;32m    413\u001b[0m     \u001b[0;32mdef\u001b[0m \u001b[0m__getattr__\u001b[0m\u001b[0;34m(\u001b[0m\u001b[0mself\u001b[0m\u001b[0;34m,\u001b[0m \u001b[0m_\u001b[0m\u001b[0;34m)\u001b[0m\u001b[0;34m:\u001b[0m\u001b[0;34m\u001b[0m\u001b[0;34m\u001b[0m\u001b[0m\n\u001b[0;32m--> 414\u001b[0;31m         \u001b[0;32mraise\u001b[0m \u001b[0mAttributeError\u001b[0m\u001b[0;34m(\u001b[0m\u001b[0mself\u001b[0m\u001b[0;34m.\u001b[0m\u001b[0m_message\u001b[0m\u001b[0;34m)\u001b[0m\u001b[0;34m\u001b[0m\u001b[0;34m\u001b[0m\u001b[0m\n\u001b[0m\u001b[1;32m    415\u001b[0m \u001b[0;34m\u001b[0m\u001b[0m\n\u001b[1;32m    416\u001b[0m     \u001b[0;32mdef\u001b[0m \u001b[0m__call__\u001b[0m\u001b[0;34m(\u001b[0m\u001b[0mself\u001b[0m\u001b[0;34m,\u001b[0m \u001b[0m_\u001b[0m\u001b[0;34m)\u001b[0m\u001b[0;34m:\u001b[0m\u001b[0;34m\u001b[0m\u001b[0;34m\u001b[0m\u001b[0m\n",
      "\u001b[0;31mAttributeError\u001b[0m: Plotting not available; please install pycairo or cairocffi"
     ]
    }
   ],
   "source": [
    "from mfrpy import sgmfr\n",
    "g_mfrs = sgmfr.get_mfrs(g, 0, 14, 0, \"es\")\n",
    "\n",
    "for mfr in g_mfrs[0]:\n",
    "    print(g_mfrs[0].index(mfr)+1, \":\", mfr)\n",
    "    \n",
    "for edge in g_mfrs[0][7]:\n",
    "    expg.es.select(edge)[\"color\"] = \"red\"\n",
    "plot(expg, vertex_color = \"white\", vertex_label_size = 7, vertex_size = 26, edge_arrow_size = 0.5, bbox=(0, 0, 700, 400))"
   ]
  },
  {
   "cell_type": "markdown",
   "id": "476de6cc",
   "metadata": {},
   "source": [
    "The arguments of the **get_mfrs()** method are as follows:\n",
    "1) the signal transduction igraph **graph** in question; expansion is handled internally so there is no need to expand it yourself beforehand\n",
    "\n",
    "2) the integer **source node** from where you wish to compute minimal functional routes\n",
    "\n",
    "3) the corresponding integral **target node**\n",
    "\n",
    "4) Boolean **verbose** parameter; indicative of whether the method displays the results of its computations\n",
    "\n",
    "5) String **format** of returned mfrs, of which there are three options:\n",
    "\n",
    "    (i) \"em\": an edge matrix\n",
    "    (ii) \"el\": an edge list, simply an alternate representation of the edge matrix\n",
    "    (iii) \"es\": a sequence of edge ids as they appear in the graph"
   ]
  },
  {
   "cell_type": "markdown",
   "id": "00d1a3ce",
   "metadata": {},
   "source": [
    "## pmodpy\n",
    "\n",
    "**pmodpy** is a Python implementation of the graph modulus developed by Albin, Poggi-Corradini, and colleagues at Kansas State University. This is an analogue to mathematical graphs of the classical modulus defined on families of curves in a domain of the complex plane, and it is parameterized by the exponent $p$ of a distance norm.\n",
    "\n",
    "An important theoretical contribution of the graph modulus is that its value on the family of walks between two nodes in a  graph $G$ unifies three common conceptions of distance on graphs: the maximum flow / minimum cut weight ($p = 1$), the resistance distance ($p = 2$), and the shortest path length ($p = \\infty$). Its calculation also induces both an extremal density function on the edges of $G$ and an optimal probability mass function on the family of objects (e.g. walks) of interest.\n",
    "\n",
    "These can be understood as measures of the importance of each edge or object to the task that defines the family, e.g. connecting two nodes or connecting all nodes of the graph. Because our interest is to understand signal transduction through the components of an intracellular signaling network, our objects of interest are functional routes.\n",
    "\n",
    "Our implementation can compute the modulus for walks (whose minimal objects are paths), spanning subgraphs (whose minimal objects are spanning trees), and functional routes (for graphs with inhibition and/or synergy). Our first goal is to compare the insights gained and predictions made by signal transduction network analysis using minimal paths (a conventional approach) versus minimal functional routes."
   ]
  },
  {
   "cell_type": "markdown",
   "id": "9c7a8f9f",
   "metadata": {},
   "source": [
    "### modsubfamily\n",
    "\n",
    "The graph modulus on $G$ is defined for any (usually infinite) set of objects $\\Gamma$ on $G$, which are operationalized as edge sets with multiplicity, $\\Gamma \\subset E(G) \\times E(G)$).\n",
    "The calculation of the modulus involves iteratively reweighting the edges of $G$ and obtaining a minimum object from $\\Gamma$ under the new weights.\n",
    "In the case of walks from $s$ to $t$ or spanning subgraphs, a minimum object can be obtained via an algorithm.\n",
    "But what if such an algorithm is not available?\n",
    "\n",
    "An _essential subfamily_ $\\Gamma^\\ast \\subset \\Gamma$ is finite while being sufficient to calculate the modulus.\n",
    "We claim that the set of minimal objects in $\\Gamma$—those that have no proper subobjects—constitute an essential subfamily when $G$ is finite.\n",
    "In the case of functional routes, we have seen how to obtain these minimal objects, the MFRs.\n",
    "\n",
    "The **modsubfamily** module provides two engines for calculating the graph modulus using an essential subfamily.\n",
    "Each engine proceeds by optimizing one side of the modulus duality:\n",
    "One optimizes the density function $\\rho : E(G) \\to \\mathbb{R}$ on the edges of $G$ so as to minimize an energy function; as a result, we obtain not only the modulus but also the extremal density function.\n",
    "Below we apply this engine to the _Bordetellae_ immune response network and our list of MFRs."
   ]
  },
  {
   "cell_type": "code",
   "execution_count": 36,
   "id": "62a22b4a",
   "metadata": {},
   "outputs": [
    {
     "name": "stdout",
     "output_type": "stream",
     "text": [
      "Minimum functional route (uniform edge density):\n",
      " [1 1 0 1 1 1 1 1 0 0 0 0 0 1 1 1 0 0 1 1 0 0 1 1 0 1 0 0 0 0 0 1 0 0 0 1 0\n",
      " 0 0 1]\n",
      "Functional route modulus (density optimization):\n",
      " 0.06770395360768308\n",
      "Extremal density on the 40 edges of the graph:\n",
      " [6.77039511e-02 6.77039511e-02 6.69694581e-06 6.77039511e-02\n",
      " 6.77039511e-02 6.77039511e-02 6.77039511e-02 6.77039511e-02\n",
      " 6.69694581e-06 6.69694581e-06 6.69694581e-06 6.69694581e-06\n",
      " 6.69694581e-06 6.77039511e-02 6.77039511e-02 6.77039511e-02\n",
      " 1.93439924e-02 1.93439955e-02 6.77039511e-02 4.12111018e-02\n",
      " 2.64928572e-02 6.69694581e-06 1.17746113e-02 3.82674531e-02\n",
      " 2.64928572e-02 2.90159844e-02 2.94365055e-02 6.69694581e-06\n",
      " 6.69694581e-06 6.69694581e-06 6.69694581e-06 3.82674531e-02\n",
      " 6.69694581e-06 6.69694581e-06 6.69694581e-06 2.90159844e-02\n",
      " 2.94365055e-02 2.94365055e-02 3.86879742e-02 6.77039511e-02]\n"
     ]
    }
   ],
   "source": [
    "from pmodpy import modsubfamily\n",
    "g_mfr_min = modsubfamily.get_minimum(g, g_mfrs[0])\n",
    "g_mfr_mod_dens = modsubfamily.modulus_subfamily_density(g, g_mfrs[0])\n",
    "print(\"Minimum functional route (uniform edge density):\\n\", g_mfr_min)\n",
    "print(\"Functional route modulus (density optimization):\\n\", g_mfr_mod_dens[0])\n",
    "print(\"Extremal density on the\", g.ecount(), \"edges of the graph:\\n\", g_mfr_mod_dens[1])"
   ]
  },
  {
   "cell_type": "markdown",
   "id": "116bc939",
   "metadata": {},
   "source": [
    "The other engine optimizes a probability mass function $\\mu : \\Gamma \\to \\mathbb{R}_{\\geq 0}$, which only takes positive values on an essential subset $\\Gamma^\\ast$.\n",
    "Below we apply this engine to the signal transduction network:"
   ]
  },
  {
   "cell_type": "code",
   "execution_count": 35,
   "id": "9af8f084",
   "metadata": {},
   "outputs": [
    {
     "name": "stdout",
     "output_type": "stream",
     "text": [
      "Functional route modulus (p.m.f. optimization):\n",
      " 0.0677039517615075\n",
      "Optimal probability mass function on the 15 MFRs:\n",
      " [6.30416321e-02 5.54416038e-02 1.95497603e-01 1.19641013e-01\n",
      " 1.70023578e-01 1.10635860e-01 5.54416038e-02 4.81314638e-08\n",
      " 4.95789273e-08 1.19641013e-01 1.10635860e-01 2.95690681e-08\n",
      " 4.95789273e-08 2.85204518e-08 2.85204518e-08]\n"
     ]
    }
   ],
   "source": [
    "from pmodpy import modsubfamily\n",
    "g_mfr_min = modsubfamily.get_minimum(g, g_mfrs[0])\n",
    "g_mfr_mod_mass = modsubfamily.modulus_subfamily_mass(g, g_mfrs[0])\n",
    "print(\"Functional route modulus (p.m.f. optimization):\\n\", g_mfr_mod_mass[0])\n",
    "print(\"Optimal probability mass function on the\", len(g_mfrs[0]), \"MFRs:\\n\", g_mfr_mod_mass[1])"
   ]
  },
  {
   "cell_type": "markdown",
   "id": "eb660577",
   "metadata": {},
   "source": [
    "Up to our default tolerance, the modulus calculations agree.\n",
    "We also now have theoretically-motivated importance rankings both on the edges of $G$ and on the minimal functional routes from bacteria (Bt) to phagocytosis (PH).\n",
    "In the case $p = 2$ used here, the extremal density and optimal p.m.f. also have a probabilistic interpretation."
   ]
  },
  {
   "cell_type": "markdown",
   "id": "7787446f",
   "metadata": {},
   "source": [
    "# References\n",
    "\n",
    "Albin, N., Poggi-Corradini, P. Minimal subfamilies and the probabilistic interpretation for modulus on graphs. J Anal 24, 183–208 (2016). https://doi.org/10.1007/s41478-016-0002-9\n",
    "\n",
    "Albin, N., Poggi-Corradini, P., Darabi Sahneh, F., and Goering, M. Modulus of families of walks on graphs (2014). http://adsabs.harvard.edu/abs/2014arXiv1401.7640A\n",
    "\n",
    "Wang, R.-S., Sun, Z. and Albert, R. Minimal functional routes in directed graphs with dependent edges. Intl. Trans. in Op. Res., 20: 391-409 (2013). https://doi.org/10.1111/itor.12007\n",
    "\n",
    "Wang, R.-S., Albert, R. Elementary signaling modes predict the essentiality of signal transduction network components. BMC Syst Biol 5, 44 (2011). https://doi.org/10.1186/1752-0509-5-44\n",
    "\n",
    "Thakar J., Pilione M., Kirimanjeswara G., Harvill E.T., Albert R. Modeling Systems-Level Regulation of Host Immune Responses. PLoS Comput Biol 3, 6 (2007). https://doi.org/10.1371/journal.pcbi.0030109"
   ]
  }
 ],
 "metadata": {
  "kernelspec": {
   "display_name": "Python 3",
   "language": "python",
   "name": "python3"
  },
  "language_info": {
   "codemirror_mode": {
    "name": "ipython",
    "version": 3
   },
   "file_extension": ".py",
   "mimetype": "text/x-python",
   "name": "python",
   "nbconvert_exporter": "python",
   "pygments_lexer": "ipython3",
   "version": "3.8.8"
  }
 },
 "nbformat": 4,
 "nbformat_minor": 5
}
